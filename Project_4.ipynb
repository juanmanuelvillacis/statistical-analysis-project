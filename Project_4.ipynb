{
  "nbformat": 4,
  "nbformat_minor": 0,
  "metadata": {
    "colab": {
      "name": "Project_4.ipynb",
      "provenance": [],
      "collapsed_sections": [
        "33MQooD3KoyU",
        "A6gb2FSbPEu1",
        "7BKbJHW6c5gP",
        "mf3t706BWn7q",
        "XX4yvOXi4l8f",
        "WMXV-U377amS"
      ],
      "mount_file_id": "1MxO1oHqUGtKEBtHT8DZfZWcNI6Ajvmoz",
      "authorship_tag": "ABX9TyOfPtiorBPAeFIj5nJzkGOS",
      "include_colab_link": true
    },
    "kernelspec": {
      "display_name": "Python 3",
      "name": "python3"
    },
    "language_info": {
      "name": "python"
    }
  },
  "cells": [
    {
      "cell_type": "markdown",
      "metadata": {
        "id": "view-in-github",
        "colab_type": "text"
      },
      "source": [
        "<a href=\"https://colab.research.google.com/github/juanmanuelvillacis/statistical-analysis-project/blob/main/Project_4.ipynb\" target=\"_parent\"><img src=\"https://colab.research.google.com/assets/colab-badge.svg\" alt=\"Open In Colab\"/></a>"
      ]
    },
    {
      "cell_type": "code",
      "metadata": {
        "id": "C_rMBd1bZthx"
      },
      "source": [
        "#!pip install feature_engine"
      ],
      "execution_count": null,
      "outputs": []
    },
    {
      "cell_type": "code",
      "metadata": {
        "id": "WDOZpH8boW-5"
      },
      "source": [
        "import pandas as pd\n",
        "import numpy as np\n",
        "from scipy import stats #scientific python\n",
        "import matplotlib.pyplot as plt\n",
        "import seaborn as sns\n",
        "\n",
        "from sklearn.linear_model import Lasso, ElasticNet\n",
        "from sklearn.metrics import r2_score\n",
        "from sklearn.model_selection import GridSearchCV, RepeatedKFold"
      ],
      "execution_count": null,
      "outputs": []
    },
    {
      "cell_type": "code",
      "metadata": {
        "id": "L35wgFcons8H"
      },
      "source": [
        "df = pd.read_csv('/content/drive/MyDrive/Iron Hack/Proyectos/Project_4/archive/races.csv')"
      ],
      "execution_count": null,
      "outputs": []
    },
    {
      "cell_type": "markdown",
      "metadata": {
        "id": "ZWIC0FKZ0UAV"
      },
      "source": [
        "- [Data Set](https://www.kaggle.com/gdaley/hkracing) \n",
        "- [Sectional Time and Distances](https://racing.hkjc.com/racing/english/racing-info/racing_course_time.aspx)"
      ]
    },
    {
      "cell_type": "code",
      "metadata": {
        "colab": {
          "base_uri": "https://localhost:8080/",
          "height": 684
        },
        "id": "fTtfGTfmocl2",
        "outputId": "f68269a3-9b3e-4017-a6f6-ca0b8755b860"
      },
      "source": [
        "df"
      ],
      "execution_count": null,
      "outputs": [
        {
          "output_type": "execute_result",
          "data": {
            "text/html": [
              "<div>\n",
              "<style scoped>\n",
              "    .dataframe tbody tr th:only-of-type {\n",
              "        vertical-align: middle;\n",
              "    }\n",
              "\n",
              "    .dataframe tbody tr th {\n",
              "        vertical-align: top;\n",
              "    }\n",
              "\n",
              "    .dataframe thead th {\n",
              "        text-align: right;\n",
              "    }\n",
              "</style>\n",
              "<table border=\"1\" class=\"dataframe\">\n",
              "  <thead>\n",
              "    <tr style=\"text-align: right;\">\n",
              "      <th></th>\n",
              "      <th>race_id</th>\n",
              "      <th>date</th>\n",
              "      <th>venue</th>\n",
              "      <th>race_no</th>\n",
              "      <th>config</th>\n",
              "      <th>surface</th>\n",
              "      <th>distance</th>\n",
              "      <th>going</th>\n",
              "      <th>horse_ratings</th>\n",
              "      <th>prize</th>\n",
              "      <th>race_class</th>\n",
              "      <th>sec_time1</th>\n",
              "      <th>sec_time2</th>\n",
              "      <th>sec_time3</th>\n",
              "      <th>sec_time4</th>\n",
              "      <th>sec_time5</th>\n",
              "      <th>sec_time6</th>\n",
              "      <th>sec_time7</th>\n",
              "      <th>time1</th>\n",
              "      <th>time2</th>\n",
              "      <th>time3</th>\n",
              "      <th>time4</th>\n",
              "      <th>time5</th>\n",
              "      <th>time6</th>\n",
              "      <th>time7</th>\n",
              "      <th>place_combination1</th>\n",
              "      <th>place_combination2</th>\n",
              "      <th>place_combination3</th>\n",
              "      <th>place_combination4</th>\n",
              "      <th>place_dividend1</th>\n",
              "      <th>place_dividend2</th>\n",
              "      <th>place_dividend3</th>\n",
              "      <th>place_dividend4</th>\n",
              "      <th>win_combination1</th>\n",
              "      <th>win_dividend1</th>\n",
              "      <th>win_combination2</th>\n",
              "      <th>win_dividend2</th>\n",
              "    </tr>\n",
              "  </thead>\n",
              "  <tbody>\n",
              "    <tr>\n",
              "      <th>0</th>\n",
              "      <td>0</td>\n",
              "      <td>1997-06-02</td>\n",
              "      <td>ST</td>\n",
              "      <td>1</td>\n",
              "      <td>A</td>\n",
              "      <td>0</td>\n",
              "      <td>1400</td>\n",
              "      <td>GOOD TO FIRM</td>\n",
              "      <td>40-15</td>\n",
              "      <td>485000.0</td>\n",
              "      <td>5</td>\n",
              "      <td>13.53</td>\n",
              "      <td>21.59</td>\n",
              "      <td>23.94</td>\n",
              "      <td>23.58</td>\n",
              "      <td>NaN</td>\n",
              "      <td>NaN</td>\n",
              "      <td>NaN</td>\n",
              "      <td>13.53</td>\n",
              "      <td>35.12</td>\n",
              "      <td>59.06</td>\n",
              "      <td>82.64</td>\n",
              "      <td>NaN</td>\n",
              "      <td>NaN</td>\n",
              "      <td>NaN</td>\n",
              "      <td>8</td>\n",
              "      <td>11</td>\n",
              "      <td>6.0</td>\n",
              "      <td>NaN</td>\n",
              "      <td>36.5</td>\n",
              "      <td>25.5</td>\n",
              "      <td>18.0</td>\n",
              "      <td>NaN</td>\n",
              "      <td>8</td>\n",
              "      <td>121.0</td>\n",
              "      <td>NaN</td>\n",
              "      <td>NaN</td>\n",
              "    </tr>\n",
              "    <tr>\n",
              "      <th>1</th>\n",
              "      <td>1</td>\n",
              "      <td>1997-06-02</td>\n",
              "      <td>ST</td>\n",
              "      <td>2</td>\n",
              "      <td>A</td>\n",
              "      <td>0</td>\n",
              "      <td>1200</td>\n",
              "      <td>GOOD TO FIRM</td>\n",
              "      <td>40-15</td>\n",
              "      <td>485000.0</td>\n",
              "      <td>5</td>\n",
              "      <td>24.05</td>\n",
              "      <td>22.64</td>\n",
              "      <td>23.70</td>\n",
              "      <td>NaN</td>\n",
              "      <td>NaN</td>\n",
              "      <td>NaN</td>\n",
              "      <td>NaN</td>\n",
              "      <td>24.05</td>\n",
              "      <td>46.69</td>\n",
              "      <td>70.39</td>\n",
              "      <td>NaN</td>\n",
              "      <td>NaN</td>\n",
              "      <td>NaN</td>\n",
              "      <td>NaN</td>\n",
              "      <td>5</td>\n",
              "      <td>13</td>\n",
              "      <td>4.0</td>\n",
              "      <td>NaN</td>\n",
              "      <td>12.5</td>\n",
              "      <td>47.0</td>\n",
              "      <td>33.5</td>\n",
              "      <td>NaN</td>\n",
              "      <td>5</td>\n",
              "      <td>23.5</td>\n",
              "      <td>NaN</td>\n",
              "      <td>NaN</td>\n",
              "    </tr>\n",
              "    <tr>\n",
              "      <th>2</th>\n",
              "      <td>2</td>\n",
              "      <td>1997-06-02</td>\n",
              "      <td>ST</td>\n",
              "      <td>3</td>\n",
              "      <td>A</td>\n",
              "      <td>0</td>\n",
              "      <td>1400</td>\n",
              "      <td>GOOD TO FIRM</td>\n",
              "      <td>60-40</td>\n",
              "      <td>625000.0</td>\n",
              "      <td>4</td>\n",
              "      <td>13.77</td>\n",
              "      <td>22.22</td>\n",
              "      <td>24.88</td>\n",
              "      <td>22.82</td>\n",
              "      <td>NaN</td>\n",
              "      <td>NaN</td>\n",
              "      <td>NaN</td>\n",
              "      <td>13.77</td>\n",
              "      <td>35.99</td>\n",
              "      <td>60.87</td>\n",
              "      <td>83.69</td>\n",
              "      <td>NaN</td>\n",
              "      <td>NaN</td>\n",
              "      <td>NaN</td>\n",
              "      <td>11</td>\n",
              "      <td>1</td>\n",
              "      <td>13.0</td>\n",
              "      <td>NaN</td>\n",
              "      <td>23.0</td>\n",
              "      <td>23.0</td>\n",
              "      <td>59.5</td>\n",
              "      <td>NaN</td>\n",
              "      <td>11</td>\n",
              "      <td>70.0</td>\n",
              "      <td>NaN</td>\n",
              "      <td>NaN</td>\n",
              "    </tr>\n",
              "    <tr>\n",
              "      <th>3</th>\n",
              "      <td>3</td>\n",
              "      <td>1997-06-02</td>\n",
              "      <td>ST</td>\n",
              "      <td>4</td>\n",
              "      <td>A</td>\n",
              "      <td>0</td>\n",
              "      <td>1200</td>\n",
              "      <td>GOOD TO FIRM</td>\n",
              "      <td>120-95</td>\n",
              "      <td>1750000.0</td>\n",
              "      <td>1</td>\n",
              "      <td>24.33</td>\n",
              "      <td>22.47</td>\n",
              "      <td>22.09</td>\n",
              "      <td>NaN</td>\n",
              "      <td>NaN</td>\n",
              "      <td>NaN</td>\n",
              "      <td>NaN</td>\n",
              "      <td>24.33</td>\n",
              "      <td>46.80</td>\n",
              "      <td>68.89</td>\n",
              "      <td>NaN</td>\n",
              "      <td>NaN</td>\n",
              "      <td>NaN</td>\n",
              "      <td>NaN</td>\n",
              "      <td>5</td>\n",
              "      <td>3</td>\n",
              "      <td>10.0</td>\n",
              "      <td>NaN</td>\n",
              "      <td>14.0</td>\n",
              "      <td>24.5</td>\n",
              "      <td>16.0</td>\n",
              "      <td>NaN</td>\n",
              "      <td>5</td>\n",
              "      <td>52.0</td>\n",
              "      <td>NaN</td>\n",
              "      <td>NaN</td>\n",
              "    </tr>\n",
              "    <tr>\n",
              "      <th>4</th>\n",
              "      <td>4</td>\n",
              "      <td>1997-06-02</td>\n",
              "      <td>ST</td>\n",
              "      <td>5</td>\n",
              "      <td>A</td>\n",
              "      <td>0</td>\n",
              "      <td>1600</td>\n",
              "      <td>GOOD TO FIRM</td>\n",
              "      <td>60-40</td>\n",
              "      <td>625000.0</td>\n",
              "      <td>4</td>\n",
              "      <td>25.45</td>\n",
              "      <td>23.52</td>\n",
              "      <td>23.31</td>\n",
              "      <td>23.56</td>\n",
              "      <td>NaN</td>\n",
              "      <td>NaN</td>\n",
              "      <td>NaN</td>\n",
              "      <td>25.45</td>\n",
              "      <td>48.97</td>\n",
              "      <td>72.28</td>\n",
              "      <td>95.84</td>\n",
              "      <td>NaN</td>\n",
              "      <td>NaN</td>\n",
              "      <td>NaN</td>\n",
              "      <td>2</td>\n",
              "      <td>10</td>\n",
              "      <td>1.0</td>\n",
              "      <td>NaN</td>\n",
              "      <td>15.5</td>\n",
              "      <td>28.0</td>\n",
              "      <td>17.5</td>\n",
              "      <td>NaN</td>\n",
              "      <td>2</td>\n",
              "      <td>36.5</td>\n",
              "      <td>NaN</td>\n",
              "      <td>NaN</td>\n",
              "    </tr>\n",
              "    <tr>\n",
              "      <th>...</th>\n",
              "      <td>...</td>\n",
              "      <td>...</td>\n",
              "      <td>...</td>\n",
              "      <td>...</td>\n",
              "      <td>...</td>\n",
              "      <td>...</td>\n",
              "      <td>...</td>\n",
              "      <td>...</td>\n",
              "      <td>...</td>\n",
              "      <td>...</td>\n",
              "      <td>...</td>\n",
              "      <td>...</td>\n",
              "      <td>...</td>\n",
              "      <td>...</td>\n",
              "      <td>...</td>\n",
              "      <td>...</td>\n",
              "      <td>...</td>\n",
              "      <td>...</td>\n",
              "      <td>...</td>\n",
              "      <td>...</td>\n",
              "      <td>...</td>\n",
              "      <td>...</td>\n",
              "      <td>...</td>\n",
              "      <td>...</td>\n",
              "      <td>...</td>\n",
              "      <td>...</td>\n",
              "      <td>...</td>\n",
              "      <td>...</td>\n",
              "      <td>...</td>\n",
              "      <td>...</td>\n",
              "      <td>...</td>\n",
              "      <td>...</td>\n",
              "      <td>...</td>\n",
              "      <td>...</td>\n",
              "      <td>...</td>\n",
              "      <td>...</td>\n",
              "      <td>...</td>\n",
              "    </tr>\n",
              "    <tr>\n",
              "      <th>6344</th>\n",
              "      <td>6344</td>\n",
              "      <td>2005-08-28</td>\n",
              "      <td>ST</td>\n",
              "      <td>6</td>\n",
              "      <td>A</td>\n",
              "      <td>0</td>\n",
              "      <td>1400</td>\n",
              "      <td>GOOD</td>\n",
              "      <td>115-95</td>\n",
              "      <td>2500000.0</td>\n",
              "      <td>1</td>\n",
              "      <td>13.65</td>\n",
              "      <td>23.10</td>\n",
              "      <td>24.60</td>\n",
              "      <td>21.78</td>\n",
              "      <td>NaN</td>\n",
              "      <td>NaN</td>\n",
              "      <td>NaN</td>\n",
              "      <td>13.65</td>\n",
              "      <td>36.75</td>\n",
              "      <td>61.35</td>\n",
              "      <td>83.13</td>\n",
              "      <td>NaN</td>\n",
              "      <td>NaN</td>\n",
              "      <td>NaN</td>\n",
              "      <td>6</td>\n",
              "      <td>7</td>\n",
              "      <td>5.0</td>\n",
              "      <td>NaN</td>\n",
              "      <td>13.5</td>\n",
              "      <td>14.5</td>\n",
              "      <td>62.5</td>\n",
              "      <td>NaN</td>\n",
              "      <td>6</td>\n",
              "      <td>38.0</td>\n",
              "      <td>NaN</td>\n",
              "      <td>NaN</td>\n",
              "    </tr>\n",
              "    <tr>\n",
              "      <th>6345</th>\n",
              "      <td>6345</td>\n",
              "      <td>2005-08-28</td>\n",
              "      <td>ST</td>\n",
              "      <td>7</td>\n",
              "      <td>A</td>\n",
              "      <td>0</td>\n",
              "      <td>1600</td>\n",
              "      <td>GOOD</td>\n",
              "      <td>G</td>\n",
              "      <td>23000000.0</td>\n",
              "      <td>11</td>\n",
              "      <td>24.48</td>\n",
              "      <td>22.54</td>\n",
              "      <td>23.01</td>\n",
              "      <td>23.45</td>\n",
              "      <td>NaN</td>\n",
              "      <td>NaN</td>\n",
              "      <td>NaN</td>\n",
              "      <td>24.48</td>\n",
              "      <td>47.02</td>\n",
              "      <td>70.03</td>\n",
              "      <td>93.48</td>\n",
              "      <td>NaN</td>\n",
              "      <td>NaN</td>\n",
              "      <td>NaN</td>\n",
              "      <td>5</td>\n",
              "      <td>6</td>\n",
              "      <td>14.0</td>\n",
              "      <td>NaN</td>\n",
              "      <td>18.0</td>\n",
              "      <td>20.5</td>\n",
              "      <td>45.0</td>\n",
              "      <td>NaN</td>\n",
              "      <td>5</td>\n",
              "      <td>60.0</td>\n",
              "      <td>NaN</td>\n",
              "      <td>NaN</td>\n",
              "    </tr>\n",
              "    <tr>\n",
              "      <th>6346</th>\n",
              "      <td>6346</td>\n",
              "      <td>2005-08-28</td>\n",
              "      <td>ST</td>\n",
              "      <td>8</td>\n",
              "      <td>A</td>\n",
              "      <td>0</td>\n",
              "      <td>2000</td>\n",
              "      <td>GOOD</td>\n",
              "      <td>G</td>\n",
              "      <td>25000000.0</td>\n",
              "      <td>11</td>\n",
              "      <td>26.79</td>\n",
              "      <td>23.31</td>\n",
              "      <td>23.24</td>\n",
              "      <td>23.46</td>\n",
              "      <td>24.15</td>\n",
              "      <td>NaN</td>\n",
              "      <td>NaN</td>\n",
              "      <td>26.79</td>\n",
              "      <td>50.10</td>\n",
              "      <td>73.34</td>\n",
              "      <td>96.80</td>\n",
              "      <td>120.95</td>\n",
              "      <td>NaN</td>\n",
              "      <td>NaN</td>\n",
              "      <td>2</td>\n",
              "      <td>8</td>\n",
              "      <td>5.0</td>\n",
              "      <td>NaN</td>\n",
              "      <td>11.0</td>\n",
              "      <td>27.5</td>\n",
              "      <td>38.5</td>\n",
              "      <td>NaN</td>\n",
              "      <td>2</td>\n",
              "      <td>17.5</td>\n",
              "      <td>NaN</td>\n",
              "      <td>NaN</td>\n",
              "    </tr>\n",
              "    <tr>\n",
              "      <th>6347</th>\n",
              "      <td>6347</td>\n",
              "      <td>2005-08-28</td>\n",
              "      <td>ST</td>\n",
              "      <td>9</td>\n",
              "      <td>A</td>\n",
              "      <td>0</td>\n",
              "      <td>1200</td>\n",
              "      <td>GOOD</td>\n",
              "      <td>100-80</td>\n",
              "      <td>1750000.0</td>\n",
              "      <td>2</td>\n",
              "      <td>23.65</td>\n",
              "      <td>22.54</td>\n",
              "      <td>22.97</td>\n",
              "      <td>NaN</td>\n",
              "      <td>NaN</td>\n",
              "      <td>NaN</td>\n",
              "      <td>NaN</td>\n",
              "      <td>23.65</td>\n",
              "      <td>46.19</td>\n",
              "      <td>69.16</td>\n",
              "      <td>NaN</td>\n",
              "      <td>NaN</td>\n",
              "      <td>NaN</td>\n",
              "      <td>NaN</td>\n",
              "      <td>9</td>\n",
              "      <td>6</td>\n",
              "      <td>4.0</td>\n",
              "      <td>NaN</td>\n",
              "      <td>11.0</td>\n",
              "      <td>37.0</td>\n",
              "      <td>21.5</td>\n",
              "      <td>NaN</td>\n",
              "      <td>9</td>\n",
              "      <td>16.0</td>\n",
              "      <td>NaN</td>\n",
              "      <td>NaN</td>\n",
              "    </tr>\n",
              "    <tr>\n",
              "      <th>6348</th>\n",
              "      <td>6348</td>\n",
              "      <td>2005-08-28</td>\n",
              "      <td>ST</td>\n",
              "      <td>10</td>\n",
              "      <td>A</td>\n",
              "      <td>0</td>\n",
              "      <td>1600</td>\n",
              "      <td>GOOD</td>\n",
              "      <td>100-80</td>\n",
              "      <td>1750000.0</td>\n",
              "      <td>2</td>\n",
              "      <td>25.46</td>\n",
              "      <td>24.06</td>\n",
              "      <td>23.73</td>\n",
              "      <td>22.71</td>\n",
              "      <td>NaN</td>\n",
              "      <td>NaN</td>\n",
              "      <td>NaN</td>\n",
              "      <td>25.46</td>\n",
              "      <td>49.52</td>\n",
              "      <td>73.25</td>\n",
              "      <td>95.96</td>\n",
              "      <td>NaN</td>\n",
              "      <td>NaN</td>\n",
              "      <td>NaN</td>\n",
              "      <td>2</td>\n",
              "      <td>4</td>\n",
              "      <td>8.0</td>\n",
              "      <td>NaN</td>\n",
              "      <td>38.0</td>\n",
              "      <td>63.0</td>\n",
              "      <td>18.5</td>\n",
              "      <td>NaN</td>\n",
              "      <td>2</td>\n",
              "      <td>134.0</td>\n",
              "      <td>NaN</td>\n",
              "      <td>NaN</td>\n",
              "    </tr>\n",
              "  </tbody>\n",
              "</table>\n",
              "<p>6349 rows × 37 columns</p>\n",
              "</div>"
            ],
            "text/plain": [
              "      race_id        date venue  ...  win_dividend1 win_combination2  win_dividend2\n",
              "0           0  1997-06-02    ST  ...          121.0              NaN            NaN\n",
              "1           1  1997-06-02    ST  ...           23.5              NaN            NaN\n",
              "2           2  1997-06-02    ST  ...           70.0              NaN            NaN\n",
              "3           3  1997-06-02    ST  ...           52.0              NaN            NaN\n",
              "4           4  1997-06-02    ST  ...           36.5              NaN            NaN\n",
              "...       ...         ...   ...  ...            ...              ...            ...\n",
              "6344     6344  2005-08-28    ST  ...           38.0              NaN            NaN\n",
              "6345     6345  2005-08-28    ST  ...           60.0              NaN            NaN\n",
              "6346     6346  2005-08-28    ST  ...           17.5              NaN            NaN\n",
              "6347     6347  2005-08-28    ST  ...           16.0              NaN            NaN\n",
              "6348     6348  2005-08-28    ST  ...          134.0              NaN            NaN\n",
              "\n",
              "[6349 rows x 37 columns]"
            ]
          },
          "metadata": {},
          "execution_count": 721
        }
      ]
    },
    {
      "cell_type": "code",
      "metadata": {
        "colab": {
          "base_uri": "https://localhost:8080/"
        },
        "id": "gdk-Q2HqyuO3",
        "outputId": "88c7e096-16ca-421e-cccb-96450c6cca09"
      },
      "source": [
        "df_runs.columns"
      ],
      "execution_count": null,
      "outputs": [
        {
          "output_type": "execute_result",
          "data": {
            "text/plain": [
              "Index(['race_id', 'horse_no', 'horse_id', 'result', 'won', 'lengths_behind',\n",
              "       'horse_age', 'horse_country', 'horse_type', 'horse_rating',\n",
              "       'horse_gear', 'declared_weight', 'actual_weight', 'draw',\n",
              "       'position_sec1', 'position_sec2', 'position_sec3', 'position_sec4',\n",
              "       'position_sec5', 'position_sec6', 'behind_sec1', 'behind_sec2',\n",
              "       'behind_sec3', 'behind_sec4', 'behind_sec5', 'behind_sec6', 'time1',\n",
              "       'time2', 'time3', 'time4', 'time5', 'time6', 'finish_time', 'win_odds',\n",
              "       'place_odds', 'trainer_id', 'jockey_id'],\n",
              "      dtype='object')"
            ]
          },
          "metadata": {},
          "execution_count": 722
        }
      ]
    },
    {
      "cell_type": "code",
      "metadata": {
        "id": "ClmRp8QU1ubL"
      },
      "source": [
        "df_runs = pd.read_csv('/content/drive/MyDrive/Iron Hack/Proyectos/Project_4/archive/runs.csv')"
      ],
      "execution_count": null,
      "outputs": []
    },
    {
      "cell_type": "code",
      "metadata": {
        "colab": {
          "base_uri": "https://localhost:8080/",
          "height": 434
        },
        "id": "RZwPwzdJ1yz9",
        "outputId": "29c38d03-d9e5-41e2-fbf1-f3e78b9ca82a"
      },
      "source": [
        "df_runs"
      ],
      "execution_count": null,
      "outputs": [
        {
          "output_type": "execute_result",
          "data": {
            "text/html": [
              "<div>\n",
              "<style scoped>\n",
              "    .dataframe tbody tr th:only-of-type {\n",
              "        vertical-align: middle;\n",
              "    }\n",
              "\n",
              "    .dataframe tbody tr th {\n",
              "        vertical-align: top;\n",
              "    }\n",
              "\n",
              "    .dataframe thead th {\n",
              "        text-align: right;\n",
              "    }\n",
              "</style>\n",
              "<table border=\"1\" class=\"dataframe\">\n",
              "  <thead>\n",
              "    <tr style=\"text-align: right;\">\n",
              "      <th></th>\n",
              "      <th>race_id</th>\n",
              "      <th>horse_no</th>\n",
              "      <th>horse_id</th>\n",
              "      <th>result</th>\n",
              "      <th>won</th>\n",
              "      <th>lengths_behind</th>\n",
              "      <th>horse_age</th>\n",
              "      <th>horse_country</th>\n",
              "      <th>horse_type</th>\n",
              "      <th>horse_rating</th>\n",
              "      <th>horse_gear</th>\n",
              "      <th>declared_weight</th>\n",
              "      <th>actual_weight</th>\n",
              "      <th>draw</th>\n",
              "      <th>position_sec1</th>\n",
              "      <th>position_sec2</th>\n",
              "      <th>position_sec3</th>\n",
              "      <th>position_sec4</th>\n",
              "      <th>position_sec5</th>\n",
              "      <th>position_sec6</th>\n",
              "      <th>behind_sec1</th>\n",
              "      <th>behind_sec2</th>\n",
              "      <th>behind_sec3</th>\n",
              "      <th>behind_sec4</th>\n",
              "      <th>behind_sec5</th>\n",
              "      <th>behind_sec6</th>\n",
              "      <th>time1</th>\n",
              "      <th>time2</th>\n",
              "      <th>time3</th>\n",
              "      <th>time4</th>\n",
              "      <th>time5</th>\n",
              "      <th>time6</th>\n",
              "      <th>finish_time</th>\n",
              "      <th>win_odds</th>\n",
              "      <th>place_odds</th>\n",
              "      <th>trainer_id</th>\n",
              "      <th>jockey_id</th>\n",
              "    </tr>\n",
              "  </thead>\n",
              "  <tbody>\n",
              "    <tr>\n",
              "      <th>0</th>\n",
              "      <td>0</td>\n",
              "      <td>1</td>\n",
              "      <td>3917</td>\n",
              "      <td>10</td>\n",
              "      <td>0.0</td>\n",
              "      <td>8.00</td>\n",
              "      <td>3</td>\n",
              "      <td>AUS</td>\n",
              "      <td>Gelding</td>\n",
              "      <td>60</td>\n",
              "      <td>--</td>\n",
              "      <td>1020.0</td>\n",
              "      <td>133</td>\n",
              "      <td>7</td>\n",
              "      <td>6</td>\n",
              "      <td>4</td>\n",
              "      <td>6</td>\n",
              "      <td>10.0</td>\n",
              "      <td>NaN</td>\n",
              "      <td>NaN</td>\n",
              "      <td>2.00</td>\n",
              "      <td>2.00</td>\n",
              "      <td>1.50</td>\n",
              "      <td>8.00</td>\n",
              "      <td>NaN</td>\n",
              "      <td>NaN</td>\n",
              "      <td>13.85</td>\n",
              "      <td>21.59</td>\n",
              "      <td>23.86</td>\n",
              "      <td>24.62</td>\n",
              "      <td>NaN</td>\n",
              "      <td>NaN</td>\n",
              "      <td>83.92</td>\n",
              "      <td>9.7</td>\n",
              "      <td>3.7</td>\n",
              "      <td>118</td>\n",
              "      <td>2</td>\n",
              "    </tr>\n",
              "    <tr>\n",
              "      <th>1</th>\n",
              "      <td>0</td>\n",
              "      <td>2</td>\n",
              "      <td>2157</td>\n",
              "      <td>8</td>\n",
              "      <td>0.0</td>\n",
              "      <td>5.75</td>\n",
              "      <td>3</td>\n",
              "      <td>NZ</td>\n",
              "      <td>Gelding</td>\n",
              "      <td>60</td>\n",
              "      <td>--</td>\n",
              "      <td>980.0</td>\n",
              "      <td>133</td>\n",
              "      <td>12</td>\n",
              "      <td>12</td>\n",
              "      <td>13</td>\n",
              "      <td>13</td>\n",
              "      <td>8.0</td>\n",
              "      <td>NaN</td>\n",
              "      <td>NaN</td>\n",
              "      <td>6.50</td>\n",
              "      <td>9.00</td>\n",
              "      <td>5.00</td>\n",
              "      <td>5.75</td>\n",
              "      <td>NaN</td>\n",
              "      <td>NaN</td>\n",
              "      <td>14.57</td>\n",
              "      <td>21.99</td>\n",
              "      <td>23.30</td>\n",
              "      <td>23.70</td>\n",
              "      <td>NaN</td>\n",
              "      <td>NaN</td>\n",
              "      <td>83.56</td>\n",
              "      <td>16.0</td>\n",
              "      <td>4.9</td>\n",
              "      <td>164</td>\n",
              "      <td>57</td>\n",
              "    </tr>\n",
              "    <tr>\n",
              "      <th>2</th>\n",
              "      <td>0</td>\n",
              "      <td>3</td>\n",
              "      <td>858</td>\n",
              "      <td>7</td>\n",
              "      <td>0.0</td>\n",
              "      <td>4.75</td>\n",
              "      <td>3</td>\n",
              "      <td>NZ</td>\n",
              "      <td>Gelding</td>\n",
              "      <td>60</td>\n",
              "      <td>--</td>\n",
              "      <td>1082.0</td>\n",
              "      <td>132</td>\n",
              "      <td>8</td>\n",
              "      <td>3</td>\n",
              "      <td>2</td>\n",
              "      <td>2</td>\n",
              "      <td>7.0</td>\n",
              "      <td>NaN</td>\n",
              "      <td>NaN</td>\n",
              "      <td>1.00</td>\n",
              "      <td>1.00</td>\n",
              "      <td>0.75</td>\n",
              "      <td>4.75</td>\n",
              "      <td>NaN</td>\n",
              "      <td>NaN</td>\n",
              "      <td>13.69</td>\n",
              "      <td>21.59</td>\n",
              "      <td>23.90</td>\n",
              "      <td>24.22</td>\n",
              "      <td>NaN</td>\n",
              "      <td>NaN</td>\n",
              "      <td>83.40</td>\n",
              "      <td>3.5</td>\n",
              "      <td>1.5</td>\n",
              "      <td>137</td>\n",
              "      <td>18</td>\n",
              "    </tr>\n",
              "    <tr>\n",
              "      <th>3</th>\n",
              "      <td>0</td>\n",
              "      <td>4</td>\n",
              "      <td>1853</td>\n",
              "      <td>9</td>\n",
              "      <td>0.0</td>\n",
              "      <td>6.25</td>\n",
              "      <td>3</td>\n",
              "      <td>SAF</td>\n",
              "      <td>Gelding</td>\n",
              "      <td>60</td>\n",
              "      <td>--</td>\n",
              "      <td>1118.0</td>\n",
              "      <td>127</td>\n",
              "      <td>13</td>\n",
              "      <td>8</td>\n",
              "      <td>8</td>\n",
              "      <td>11</td>\n",
              "      <td>9.0</td>\n",
              "      <td>NaN</td>\n",
              "      <td>NaN</td>\n",
              "      <td>3.50</td>\n",
              "      <td>5.00</td>\n",
              "      <td>3.50</td>\n",
              "      <td>6.25</td>\n",
              "      <td>NaN</td>\n",
              "      <td>NaN</td>\n",
              "      <td>14.09</td>\n",
              "      <td>21.83</td>\n",
              "      <td>23.70</td>\n",
              "      <td>24.00</td>\n",
              "      <td>NaN</td>\n",
              "      <td>NaN</td>\n",
              "      <td>83.62</td>\n",
              "      <td>39.0</td>\n",
              "      <td>11.0</td>\n",
              "      <td>80</td>\n",
              "      <td>59</td>\n",
              "    </tr>\n",
              "    <tr>\n",
              "      <th>4</th>\n",
              "      <td>0</td>\n",
              "      <td>5</td>\n",
              "      <td>2796</td>\n",
              "      <td>6</td>\n",
              "      <td>0.0</td>\n",
              "      <td>3.75</td>\n",
              "      <td>3</td>\n",
              "      <td>GB</td>\n",
              "      <td>Gelding</td>\n",
              "      <td>60</td>\n",
              "      <td>--</td>\n",
              "      <td>972.0</td>\n",
              "      <td>131</td>\n",
              "      <td>14</td>\n",
              "      <td>13</td>\n",
              "      <td>12</td>\n",
              "      <td>12</td>\n",
              "      <td>6.0</td>\n",
              "      <td>NaN</td>\n",
              "      <td>NaN</td>\n",
              "      <td>7.75</td>\n",
              "      <td>8.75</td>\n",
              "      <td>4.25</td>\n",
              "      <td>3.75</td>\n",
              "      <td>NaN</td>\n",
              "      <td>NaN</td>\n",
              "      <td>14.77</td>\n",
              "      <td>21.75</td>\n",
              "      <td>23.22</td>\n",
              "      <td>23.50</td>\n",
              "      <td>NaN</td>\n",
              "      <td>NaN</td>\n",
              "      <td>83.24</td>\n",
              "      <td>50.0</td>\n",
              "      <td>14.0</td>\n",
              "      <td>9</td>\n",
              "      <td>154</td>\n",
              "    </tr>\n",
              "    <tr>\n",
              "      <th>...</th>\n",
              "      <td>...</td>\n",
              "      <td>...</td>\n",
              "      <td>...</td>\n",
              "      <td>...</td>\n",
              "      <td>...</td>\n",
              "      <td>...</td>\n",
              "      <td>...</td>\n",
              "      <td>...</td>\n",
              "      <td>...</td>\n",
              "      <td>...</td>\n",
              "      <td>...</td>\n",
              "      <td>...</td>\n",
              "      <td>...</td>\n",
              "      <td>...</td>\n",
              "      <td>...</td>\n",
              "      <td>...</td>\n",
              "      <td>...</td>\n",
              "      <td>...</td>\n",
              "      <td>...</td>\n",
              "      <td>...</td>\n",
              "      <td>...</td>\n",
              "      <td>...</td>\n",
              "      <td>...</td>\n",
              "      <td>...</td>\n",
              "      <td>...</td>\n",
              "      <td>...</td>\n",
              "      <td>...</td>\n",
              "      <td>...</td>\n",
              "      <td>...</td>\n",
              "      <td>...</td>\n",
              "      <td>...</td>\n",
              "      <td>...</td>\n",
              "      <td>...</td>\n",
              "      <td>...</td>\n",
              "      <td>...</td>\n",
              "      <td>...</td>\n",
              "      <td>...</td>\n",
              "    </tr>\n",
              "    <tr>\n",
              "      <th>79442</th>\n",
              "      <td>6348</td>\n",
              "      <td>10</td>\n",
              "      <td>1238</td>\n",
              "      <td>6</td>\n",
              "      <td>0.0</td>\n",
              "      <td>1.25</td>\n",
              "      <td>5</td>\n",
              "      <td>AUS</td>\n",
              "      <td>Gelding</td>\n",
              "      <td>87</td>\n",
              "      <td>TT/V</td>\n",
              "      <td>1191.0</td>\n",
              "      <td>122</td>\n",
              "      <td>6</td>\n",
              "      <td>7</td>\n",
              "      <td>7</td>\n",
              "      <td>5</td>\n",
              "      <td>6.0</td>\n",
              "      <td>NaN</td>\n",
              "      <td>NaN</td>\n",
              "      <td>4.25</td>\n",
              "      <td>3.75</td>\n",
              "      <td>2.50</td>\n",
              "      <td>1.25</td>\n",
              "      <td>NaN</td>\n",
              "      <td>NaN</td>\n",
              "      <td>26.14</td>\n",
              "      <td>23.98</td>\n",
              "      <td>23.53</td>\n",
              "      <td>22.52</td>\n",
              "      <td>NaN</td>\n",
              "      <td>NaN</td>\n",
              "      <td>96.17</td>\n",
              "      <td>99.0</td>\n",
              "      <td>NaN</td>\n",
              "      <td>73</td>\n",
              "      <td>40</td>\n",
              "    </tr>\n",
              "    <tr>\n",
              "      <th>79443</th>\n",
              "      <td>6348</td>\n",
              "      <td>11</td>\n",
              "      <td>985</td>\n",
              "      <td>7</td>\n",
              "      <td>0.0</td>\n",
              "      <td>2.25</td>\n",
              "      <td>5</td>\n",
              "      <td>NZ</td>\n",
              "      <td>Gelding</td>\n",
              "      <td>84</td>\n",
              "      <td>--</td>\n",
              "      <td>1070.0</td>\n",
              "      <td>119</td>\n",
              "      <td>4</td>\n",
              "      <td>5</td>\n",
              "      <td>5</td>\n",
              "      <td>6</td>\n",
              "      <td>7.0</td>\n",
              "      <td>NaN</td>\n",
              "      <td>NaN</td>\n",
              "      <td>2.25</td>\n",
              "      <td>2.50</td>\n",
              "      <td>2.75</td>\n",
              "      <td>2.25</td>\n",
              "      <td>NaN</td>\n",
              "      <td>NaN</td>\n",
              "      <td>25.82</td>\n",
              "      <td>24.10</td>\n",
              "      <td>23.77</td>\n",
              "      <td>22.61</td>\n",
              "      <td>NaN</td>\n",
              "      <td>NaN</td>\n",
              "      <td>96.30</td>\n",
              "      <td>99.0</td>\n",
              "      <td>NaN</td>\n",
              "      <td>164</td>\n",
              "      <td>63</td>\n",
              "    </tr>\n",
              "    <tr>\n",
              "      <th>79444</th>\n",
              "      <td>6348</td>\n",
              "      <td>12</td>\n",
              "      <td>3147</td>\n",
              "      <td>10</td>\n",
              "      <td>0.0</td>\n",
              "      <td>3.00</td>\n",
              "      <td>5</td>\n",
              "      <td>NZ</td>\n",
              "      <td>Gelding</td>\n",
              "      <td>83</td>\n",
              "      <td>H/XB</td>\n",
              "      <td>1148.0</td>\n",
              "      <td>120</td>\n",
              "      <td>1</td>\n",
              "      <td>11</td>\n",
              "      <td>11</td>\n",
              "      <td>10</td>\n",
              "      <td>10.0</td>\n",
              "      <td>NaN</td>\n",
              "      <td>NaN</td>\n",
              "      <td>7.00</td>\n",
              "      <td>7.00</td>\n",
              "      <td>4.75</td>\n",
              "      <td>3.00</td>\n",
              "      <td>NaN</td>\n",
              "      <td>NaN</td>\n",
              "      <td>26.58</td>\n",
              "      <td>24.06</td>\n",
              "      <td>23.37</td>\n",
              "      <td>22.43</td>\n",
              "      <td>NaN</td>\n",
              "      <td>NaN</td>\n",
              "      <td>96.44</td>\n",
              "      <td>99.0</td>\n",
              "      <td>NaN</td>\n",
              "      <td>111</td>\n",
              "      <td>68</td>\n",
              "    </tr>\n",
              "    <tr>\n",
              "      <th>79445</th>\n",
              "      <td>6348</td>\n",
              "      <td>13</td>\n",
              "      <td>1982</td>\n",
              "      <td>8</td>\n",
              "      <td>0.0</td>\n",
              "      <td>2.50</td>\n",
              "      <td>3</td>\n",
              "      <td>AUS</td>\n",
              "      <td>Gelding</td>\n",
              "      <td>82</td>\n",
              "      <td>--</td>\n",
              "      <td>1266.0</td>\n",
              "      <td>119</td>\n",
              "      <td>12</td>\n",
              "      <td>10</td>\n",
              "      <td>10</td>\n",
              "      <td>11</td>\n",
              "      <td>8.0</td>\n",
              "      <td>NaN</td>\n",
              "      <td>NaN</td>\n",
              "      <td>7.00</td>\n",
              "      <td>6.75</td>\n",
              "      <td>5.00</td>\n",
              "      <td>2.50</td>\n",
              "      <td>NaN</td>\n",
              "      <td>NaN</td>\n",
              "      <td>26.58</td>\n",
              "      <td>24.02</td>\n",
              "      <td>23.45</td>\n",
              "      <td>22.29</td>\n",
              "      <td>NaN</td>\n",
              "      <td>NaN</td>\n",
              "      <td>96.34</td>\n",
              "      <td>4.6</td>\n",
              "      <td>NaN</td>\n",
              "      <td>118</td>\n",
              "      <td>95</td>\n",
              "    </tr>\n",
              "    <tr>\n",
              "      <th>79446</th>\n",
              "      <td>6348</td>\n",
              "      <td>14</td>\n",
              "      <td>3491</td>\n",
              "      <td>11</td>\n",
              "      <td>0.0</td>\n",
              "      <td>4.25</td>\n",
              "      <td>3</td>\n",
              "      <td>IRE</td>\n",
              "      <td>Gelding</td>\n",
              "      <td>81</td>\n",
              "      <td>--</td>\n",
              "      <td>1092.0</td>\n",
              "      <td>118</td>\n",
              "      <td>2</td>\n",
              "      <td>3</td>\n",
              "      <td>3</td>\n",
              "      <td>4</td>\n",
              "      <td>11.0</td>\n",
              "      <td>NaN</td>\n",
              "      <td>NaN</td>\n",
              "      <td>1.50</td>\n",
              "      <td>1.50</td>\n",
              "      <td>1.75</td>\n",
              "      <td>4.25</td>\n",
              "      <td>NaN</td>\n",
              "      <td>NaN</td>\n",
              "      <td>25.70</td>\n",
              "      <td>24.06</td>\n",
              "      <td>23.77</td>\n",
              "      <td>23.10</td>\n",
              "      <td>NaN</td>\n",
              "      <td>NaN</td>\n",
              "      <td>96.63</td>\n",
              "      <td>99.0</td>\n",
              "      <td>NaN</td>\n",
              "      <td>27</td>\n",
              "      <td>4</td>\n",
              "    </tr>\n",
              "  </tbody>\n",
              "</table>\n",
              "<p>79447 rows × 37 columns</p>\n",
              "</div>"
            ],
            "text/plain": [
              "       race_id  horse_no  horse_id  ...  place_odds  trainer_id  jockey_id\n",
              "0            0         1      3917  ...         3.7         118          2\n",
              "1            0         2      2157  ...         4.9         164         57\n",
              "2            0         3       858  ...         1.5         137         18\n",
              "3            0         4      1853  ...        11.0          80         59\n",
              "4            0         5      2796  ...        14.0           9        154\n",
              "...        ...       ...       ...  ...         ...         ...        ...\n",
              "79442     6348        10      1238  ...         NaN          73         40\n",
              "79443     6348        11       985  ...         NaN         164         63\n",
              "79444     6348        12      3147  ...         NaN         111         68\n",
              "79445     6348        13      1982  ...         NaN         118         95\n",
              "79446     6348        14      3491  ...         NaN          27          4\n",
              "\n",
              "[79447 rows x 37 columns]"
            ]
          },
          "metadata": {},
          "execution_count": 724
        }
      ]
    },
    {
      "cell_type": "markdown",
      "metadata": {
        "id": "piXKY_U6U8Km"
      },
      "source": [
        "#Merge tables runs.csv y race.cvs"
      ]
    },
    {
      "cell_type": "code",
      "metadata": {
        "colab": {
          "base_uri": "https://localhost:8080/",
          "height": 684
        },
        "id": "4oAkLjS9HBpD",
        "outputId": "bf9fdc32-3449-48c1-e818-7b11b7a7190d"
      },
      "source": [
        "df_m = pd.merge(left=df,right=df_runs,how='inner',left_on='race_id',right_on='race_id')\n",
        "df_m"
      ],
      "execution_count": null,
      "outputs": [
        {
          "output_type": "execute_result",
          "data": {
            "text/html": [
              "<div>\n",
              "<style scoped>\n",
              "    .dataframe tbody tr th:only-of-type {\n",
              "        vertical-align: middle;\n",
              "    }\n",
              "\n",
              "    .dataframe tbody tr th {\n",
              "        vertical-align: top;\n",
              "    }\n",
              "\n",
              "    .dataframe thead th {\n",
              "        text-align: right;\n",
              "    }\n",
              "</style>\n",
              "<table border=\"1\" class=\"dataframe\">\n",
              "  <thead>\n",
              "    <tr style=\"text-align: right;\">\n",
              "      <th></th>\n",
              "      <th>race_id</th>\n",
              "      <th>date</th>\n",
              "      <th>venue</th>\n",
              "      <th>race_no</th>\n",
              "      <th>config</th>\n",
              "      <th>surface</th>\n",
              "      <th>distance</th>\n",
              "      <th>going</th>\n",
              "      <th>horse_ratings</th>\n",
              "      <th>prize</th>\n",
              "      <th>race_class</th>\n",
              "      <th>sec_time1</th>\n",
              "      <th>sec_time2</th>\n",
              "      <th>sec_time3</th>\n",
              "      <th>sec_time4</th>\n",
              "      <th>sec_time5</th>\n",
              "      <th>sec_time6</th>\n",
              "      <th>sec_time7</th>\n",
              "      <th>time1_x</th>\n",
              "      <th>time2_x</th>\n",
              "      <th>time3_x</th>\n",
              "      <th>time4_x</th>\n",
              "      <th>time5_x</th>\n",
              "      <th>time6_x</th>\n",
              "      <th>time7</th>\n",
              "      <th>place_combination1</th>\n",
              "      <th>place_combination2</th>\n",
              "      <th>place_combination3</th>\n",
              "      <th>place_combination4</th>\n",
              "      <th>place_dividend1</th>\n",
              "      <th>place_dividend2</th>\n",
              "      <th>place_dividend3</th>\n",
              "      <th>place_dividend4</th>\n",
              "      <th>win_combination1</th>\n",
              "      <th>win_dividend1</th>\n",
              "      <th>win_combination2</th>\n",
              "      <th>win_dividend2</th>\n",
              "      <th>horse_no</th>\n",
              "      <th>horse_id</th>\n",
              "      <th>result</th>\n",
              "      <th>won</th>\n",
              "      <th>lengths_behind</th>\n",
              "      <th>horse_age</th>\n",
              "      <th>horse_country</th>\n",
              "      <th>horse_type</th>\n",
              "      <th>horse_rating</th>\n",
              "      <th>horse_gear</th>\n",
              "      <th>declared_weight</th>\n",
              "      <th>actual_weight</th>\n",
              "      <th>draw</th>\n",
              "      <th>position_sec1</th>\n",
              "      <th>position_sec2</th>\n",
              "      <th>position_sec3</th>\n",
              "      <th>position_sec4</th>\n",
              "      <th>position_sec5</th>\n",
              "      <th>position_sec6</th>\n",
              "      <th>behind_sec1</th>\n",
              "      <th>behind_sec2</th>\n",
              "      <th>behind_sec3</th>\n",
              "      <th>behind_sec4</th>\n",
              "      <th>behind_sec5</th>\n",
              "      <th>behind_sec6</th>\n",
              "      <th>time1_y</th>\n",
              "      <th>time2_y</th>\n",
              "      <th>time3_y</th>\n",
              "      <th>time4_y</th>\n",
              "      <th>time5_y</th>\n",
              "      <th>time6_y</th>\n",
              "      <th>finish_time</th>\n",
              "      <th>win_odds</th>\n",
              "      <th>place_odds</th>\n",
              "      <th>trainer_id</th>\n",
              "      <th>jockey_id</th>\n",
              "    </tr>\n",
              "  </thead>\n",
              "  <tbody>\n",
              "    <tr>\n",
              "      <th>0</th>\n",
              "      <td>0</td>\n",
              "      <td>1997-06-02</td>\n",
              "      <td>ST</td>\n",
              "      <td>1</td>\n",
              "      <td>A</td>\n",
              "      <td>0</td>\n",
              "      <td>1400</td>\n",
              "      <td>GOOD TO FIRM</td>\n",
              "      <td>40-15</td>\n",
              "      <td>485000.0</td>\n",
              "      <td>5</td>\n",
              "      <td>13.53</td>\n",
              "      <td>21.59</td>\n",
              "      <td>23.94</td>\n",
              "      <td>23.58</td>\n",
              "      <td>NaN</td>\n",
              "      <td>NaN</td>\n",
              "      <td>NaN</td>\n",
              "      <td>13.53</td>\n",
              "      <td>35.12</td>\n",
              "      <td>59.06</td>\n",
              "      <td>82.64</td>\n",
              "      <td>NaN</td>\n",
              "      <td>NaN</td>\n",
              "      <td>NaN</td>\n",
              "      <td>8</td>\n",
              "      <td>11</td>\n",
              "      <td>6.0</td>\n",
              "      <td>NaN</td>\n",
              "      <td>36.5</td>\n",
              "      <td>25.5</td>\n",
              "      <td>18.0</td>\n",
              "      <td>NaN</td>\n",
              "      <td>8</td>\n",
              "      <td>121.0</td>\n",
              "      <td>NaN</td>\n",
              "      <td>NaN</td>\n",
              "      <td>1</td>\n",
              "      <td>3917</td>\n",
              "      <td>10</td>\n",
              "      <td>0.0</td>\n",
              "      <td>8.00</td>\n",
              "      <td>3</td>\n",
              "      <td>AUS</td>\n",
              "      <td>Gelding</td>\n",
              "      <td>60</td>\n",
              "      <td>--</td>\n",
              "      <td>1020.0</td>\n",
              "      <td>133</td>\n",
              "      <td>7</td>\n",
              "      <td>6</td>\n",
              "      <td>4</td>\n",
              "      <td>6</td>\n",
              "      <td>10.0</td>\n",
              "      <td>NaN</td>\n",
              "      <td>NaN</td>\n",
              "      <td>2.00</td>\n",
              "      <td>2.00</td>\n",
              "      <td>1.50</td>\n",
              "      <td>8.00</td>\n",
              "      <td>NaN</td>\n",
              "      <td>NaN</td>\n",
              "      <td>13.85</td>\n",
              "      <td>21.59</td>\n",
              "      <td>23.86</td>\n",
              "      <td>24.62</td>\n",
              "      <td>NaN</td>\n",
              "      <td>NaN</td>\n",
              "      <td>83.92</td>\n",
              "      <td>9.7</td>\n",
              "      <td>3.7</td>\n",
              "      <td>118</td>\n",
              "      <td>2</td>\n",
              "    </tr>\n",
              "    <tr>\n",
              "      <th>1</th>\n",
              "      <td>0</td>\n",
              "      <td>1997-06-02</td>\n",
              "      <td>ST</td>\n",
              "      <td>1</td>\n",
              "      <td>A</td>\n",
              "      <td>0</td>\n",
              "      <td>1400</td>\n",
              "      <td>GOOD TO FIRM</td>\n",
              "      <td>40-15</td>\n",
              "      <td>485000.0</td>\n",
              "      <td>5</td>\n",
              "      <td>13.53</td>\n",
              "      <td>21.59</td>\n",
              "      <td>23.94</td>\n",
              "      <td>23.58</td>\n",
              "      <td>NaN</td>\n",
              "      <td>NaN</td>\n",
              "      <td>NaN</td>\n",
              "      <td>13.53</td>\n",
              "      <td>35.12</td>\n",
              "      <td>59.06</td>\n",
              "      <td>82.64</td>\n",
              "      <td>NaN</td>\n",
              "      <td>NaN</td>\n",
              "      <td>NaN</td>\n",
              "      <td>8</td>\n",
              "      <td>11</td>\n",
              "      <td>6.0</td>\n",
              "      <td>NaN</td>\n",
              "      <td>36.5</td>\n",
              "      <td>25.5</td>\n",
              "      <td>18.0</td>\n",
              "      <td>NaN</td>\n",
              "      <td>8</td>\n",
              "      <td>121.0</td>\n",
              "      <td>NaN</td>\n",
              "      <td>NaN</td>\n",
              "      <td>2</td>\n",
              "      <td>2157</td>\n",
              "      <td>8</td>\n",
              "      <td>0.0</td>\n",
              "      <td>5.75</td>\n",
              "      <td>3</td>\n",
              "      <td>NZ</td>\n",
              "      <td>Gelding</td>\n",
              "      <td>60</td>\n",
              "      <td>--</td>\n",
              "      <td>980.0</td>\n",
              "      <td>133</td>\n",
              "      <td>12</td>\n",
              "      <td>12</td>\n",
              "      <td>13</td>\n",
              "      <td>13</td>\n",
              "      <td>8.0</td>\n",
              "      <td>NaN</td>\n",
              "      <td>NaN</td>\n",
              "      <td>6.50</td>\n",
              "      <td>9.00</td>\n",
              "      <td>5.00</td>\n",
              "      <td>5.75</td>\n",
              "      <td>NaN</td>\n",
              "      <td>NaN</td>\n",
              "      <td>14.57</td>\n",
              "      <td>21.99</td>\n",
              "      <td>23.30</td>\n",
              "      <td>23.70</td>\n",
              "      <td>NaN</td>\n",
              "      <td>NaN</td>\n",
              "      <td>83.56</td>\n",
              "      <td>16.0</td>\n",
              "      <td>4.9</td>\n",
              "      <td>164</td>\n",
              "      <td>57</td>\n",
              "    </tr>\n",
              "    <tr>\n",
              "      <th>2</th>\n",
              "      <td>0</td>\n",
              "      <td>1997-06-02</td>\n",
              "      <td>ST</td>\n",
              "      <td>1</td>\n",
              "      <td>A</td>\n",
              "      <td>0</td>\n",
              "      <td>1400</td>\n",
              "      <td>GOOD TO FIRM</td>\n",
              "      <td>40-15</td>\n",
              "      <td>485000.0</td>\n",
              "      <td>5</td>\n",
              "      <td>13.53</td>\n",
              "      <td>21.59</td>\n",
              "      <td>23.94</td>\n",
              "      <td>23.58</td>\n",
              "      <td>NaN</td>\n",
              "      <td>NaN</td>\n",
              "      <td>NaN</td>\n",
              "      <td>13.53</td>\n",
              "      <td>35.12</td>\n",
              "      <td>59.06</td>\n",
              "      <td>82.64</td>\n",
              "      <td>NaN</td>\n",
              "      <td>NaN</td>\n",
              "      <td>NaN</td>\n",
              "      <td>8</td>\n",
              "      <td>11</td>\n",
              "      <td>6.0</td>\n",
              "      <td>NaN</td>\n",
              "      <td>36.5</td>\n",
              "      <td>25.5</td>\n",
              "      <td>18.0</td>\n",
              "      <td>NaN</td>\n",
              "      <td>8</td>\n",
              "      <td>121.0</td>\n",
              "      <td>NaN</td>\n",
              "      <td>NaN</td>\n",
              "      <td>3</td>\n",
              "      <td>858</td>\n",
              "      <td>7</td>\n",
              "      <td>0.0</td>\n",
              "      <td>4.75</td>\n",
              "      <td>3</td>\n",
              "      <td>NZ</td>\n",
              "      <td>Gelding</td>\n",
              "      <td>60</td>\n",
              "      <td>--</td>\n",
              "      <td>1082.0</td>\n",
              "      <td>132</td>\n",
              "      <td>8</td>\n",
              "      <td>3</td>\n",
              "      <td>2</td>\n",
              "      <td>2</td>\n",
              "      <td>7.0</td>\n",
              "      <td>NaN</td>\n",
              "      <td>NaN</td>\n",
              "      <td>1.00</td>\n",
              "      <td>1.00</td>\n",
              "      <td>0.75</td>\n",
              "      <td>4.75</td>\n",
              "      <td>NaN</td>\n",
              "      <td>NaN</td>\n",
              "      <td>13.69</td>\n",
              "      <td>21.59</td>\n",
              "      <td>23.90</td>\n",
              "      <td>24.22</td>\n",
              "      <td>NaN</td>\n",
              "      <td>NaN</td>\n",
              "      <td>83.40</td>\n",
              "      <td>3.5</td>\n",
              "      <td>1.5</td>\n",
              "      <td>137</td>\n",
              "      <td>18</td>\n",
              "    </tr>\n",
              "    <tr>\n",
              "      <th>3</th>\n",
              "      <td>0</td>\n",
              "      <td>1997-06-02</td>\n",
              "      <td>ST</td>\n",
              "      <td>1</td>\n",
              "      <td>A</td>\n",
              "      <td>0</td>\n",
              "      <td>1400</td>\n",
              "      <td>GOOD TO FIRM</td>\n",
              "      <td>40-15</td>\n",
              "      <td>485000.0</td>\n",
              "      <td>5</td>\n",
              "      <td>13.53</td>\n",
              "      <td>21.59</td>\n",
              "      <td>23.94</td>\n",
              "      <td>23.58</td>\n",
              "      <td>NaN</td>\n",
              "      <td>NaN</td>\n",
              "      <td>NaN</td>\n",
              "      <td>13.53</td>\n",
              "      <td>35.12</td>\n",
              "      <td>59.06</td>\n",
              "      <td>82.64</td>\n",
              "      <td>NaN</td>\n",
              "      <td>NaN</td>\n",
              "      <td>NaN</td>\n",
              "      <td>8</td>\n",
              "      <td>11</td>\n",
              "      <td>6.0</td>\n",
              "      <td>NaN</td>\n",
              "      <td>36.5</td>\n",
              "      <td>25.5</td>\n",
              "      <td>18.0</td>\n",
              "      <td>NaN</td>\n",
              "      <td>8</td>\n",
              "      <td>121.0</td>\n",
              "      <td>NaN</td>\n",
              "      <td>NaN</td>\n",
              "      <td>4</td>\n",
              "      <td>1853</td>\n",
              "      <td>9</td>\n",
              "      <td>0.0</td>\n",
              "      <td>6.25</td>\n",
              "      <td>3</td>\n",
              "      <td>SAF</td>\n",
              "      <td>Gelding</td>\n",
              "      <td>60</td>\n",
              "      <td>--</td>\n",
              "      <td>1118.0</td>\n",
              "      <td>127</td>\n",
              "      <td>13</td>\n",
              "      <td>8</td>\n",
              "      <td>8</td>\n",
              "      <td>11</td>\n",
              "      <td>9.0</td>\n",
              "      <td>NaN</td>\n",
              "      <td>NaN</td>\n",
              "      <td>3.50</td>\n",
              "      <td>5.00</td>\n",
              "      <td>3.50</td>\n",
              "      <td>6.25</td>\n",
              "      <td>NaN</td>\n",
              "      <td>NaN</td>\n",
              "      <td>14.09</td>\n",
              "      <td>21.83</td>\n",
              "      <td>23.70</td>\n",
              "      <td>24.00</td>\n",
              "      <td>NaN</td>\n",
              "      <td>NaN</td>\n",
              "      <td>83.62</td>\n",
              "      <td>39.0</td>\n",
              "      <td>11.0</td>\n",
              "      <td>80</td>\n",
              "      <td>59</td>\n",
              "    </tr>\n",
              "    <tr>\n",
              "      <th>4</th>\n",
              "      <td>0</td>\n",
              "      <td>1997-06-02</td>\n",
              "      <td>ST</td>\n",
              "      <td>1</td>\n",
              "      <td>A</td>\n",
              "      <td>0</td>\n",
              "      <td>1400</td>\n",
              "      <td>GOOD TO FIRM</td>\n",
              "      <td>40-15</td>\n",
              "      <td>485000.0</td>\n",
              "      <td>5</td>\n",
              "      <td>13.53</td>\n",
              "      <td>21.59</td>\n",
              "      <td>23.94</td>\n",
              "      <td>23.58</td>\n",
              "      <td>NaN</td>\n",
              "      <td>NaN</td>\n",
              "      <td>NaN</td>\n",
              "      <td>13.53</td>\n",
              "      <td>35.12</td>\n",
              "      <td>59.06</td>\n",
              "      <td>82.64</td>\n",
              "      <td>NaN</td>\n",
              "      <td>NaN</td>\n",
              "      <td>NaN</td>\n",
              "      <td>8</td>\n",
              "      <td>11</td>\n",
              "      <td>6.0</td>\n",
              "      <td>NaN</td>\n",
              "      <td>36.5</td>\n",
              "      <td>25.5</td>\n",
              "      <td>18.0</td>\n",
              "      <td>NaN</td>\n",
              "      <td>8</td>\n",
              "      <td>121.0</td>\n",
              "      <td>NaN</td>\n",
              "      <td>NaN</td>\n",
              "      <td>5</td>\n",
              "      <td>2796</td>\n",
              "      <td>6</td>\n",
              "      <td>0.0</td>\n",
              "      <td>3.75</td>\n",
              "      <td>3</td>\n",
              "      <td>GB</td>\n",
              "      <td>Gelding</td>\n",
              "      <td>60</td>\n",
              "      <td>--</td>\n",
              "      <td>972.0</td>\n",
              "      <td>131</td>\n",
              "      <td>14</td>\n",
              "      <td>13</td>\n",
              "      <td>12</td>\n",
              "      <td>12</td>\n",
              "      <td>6.0</td>\n",
              "      <td>NaN</td>\n",
              "      <td>NaN</td>\n",
              "      <td>7.75</td>\n",
              "      <td>8.75</td>\n",
              "      <td>4.25</td>\n",
              "      <td>3.75</td>\n",
              "      <td>NaN</td>\n",
              "      <td>NaN</td>\n",
              "      <td>14.77</td>\n",
              "      <td>21.75</td>\n",
              "      <td>23.22</td>\n",
              "      <td>23.50</td>\n",
              "      <td>NaN</td>\n",
              "      <td>NaN</td>\n",
              "      <td>83.24</td>\n",
              "      <td>50.0</td>\n",
              "      <td>14.0</td>\n",
              "      <td>9</td>\n",
              "      <td>154</td>\n",
              "    </tr>\n",
              "    <tr>\n",
              "      <th>...</th>\n",
              "      <td>...</td>\n",
              "      <td>...</td>\n",
              "      <td>...</td>\n",
              "      <td>...</td>\n",
              "      <td>...</td>\n",
              "      <td>...</td>\n",
              "      <td>...</td>\n",
              "      <td>...</td>\n",
              "      <td>...</td>\n",
              "      <td>...</td>\n",
              "      <td>...</td>\n",
              "      <td>...</td>\n",
              "      <td>...</td>\n",
              "      <td>...</td>\n",
              "      <td>...</td>\n",
              "      <td>...</td>\n",
              "      <td>...</td>\n",
              "      <td>...</td>\n",
              "      <td>...</td>\n",
              "      <td>...</td>\n",
              "      <td>...</td>\n",
              "      <td>...</td>\n",
              "      <td>...</td>\n",
              "      <td>...</td>\n",
              "      <td>...</td>\n",
              "      <td>...</td>\n",
              "      <td>...</td>\n",
              "      <td>...</td>\n",
              "      <td>...</td>\n",
              "      <td>...</td>\n",
              "      <td>...</td>\n",
              "      <td>...</td>\n",
              "      <td>...</td>\n",
              "      <td>...</td>\n",
              "      <td>...</td>\n",
              "      <td>...</td>\n",
              "      <td>...</td>\n",
              "      <td>...</td>\n",
              "      <td>...</td>\n",
              "      <td>...</td>\n",
              "      <td>...</td>\n",
              "      <td>...</td>\n",
              "      <td>...</td>\n",
              "      <td>...</td>\n",
              "      <td>...</td>\n",
              "      <td>...</td>\n",
              "      <td>...</td>\n",
              "      <td>...</td>\n",
              "      <td>...</td>\n",
              "      <td>...</td>\n",
              "      <td>...</td>\n",
              "      <td>...</td>\n",
              "      <td>...</td>\n",
              "      <td>...</td>\n",
              "      <td>...</td>\n",
              "      <td>...</td>\n",
              "      <td>...</td>\n",
              "      <td>...</td>\n",
              "      <td>...</td>\n",
              "      <td>...</td>\n",
              "      <td>...</td>\n",
              "      <td>...</td>\n",
              "      <td>...</td>\n",
              "      <td>...</td>\n",
              "      <td>...</td>\n",
              "      <td>...</td>\n",
              "      <td>...</td>\n",
              "      <td>...</td>\n",
              "      <td>...</td>\n",
              "      <td>...</td>\n",
              "      <td>...</td>\n",
              "      <td>...</td>\n",
              "      <td>...</td>\n",
              "    </tr>\n",
              "    <tr>\n",
              "      <th>79442</th>\n",
              "      <td>6348</td>\n",
              "      <td>2005-08-28</td>\n",
              "      <td>ST</td>\n",
              "      <td>10</td>\n",
              "      <td>A</td>\n",
              "      <td>0</td>\n",
              "      <td>1600</td>\n",
              "      <td>GOOD</td>\n",
              "      <td>100-80</td>\n",
              "      <td>1750000.0</td>\n",
              "      <td>2</td>\n",
              "      <td>25.46</td>\n",
              "      <td>24.06</td>\n",
              "      <td>23.73</td>\n",
              "      <td>22.71</td>\n",
              "      <td>NaN</td>\n",
              "      <td>NaN</td>\n",
              "      <td>NaN</td>\n",
              "      <td>25.46</td>\n",
              "      <td>49.52</td>\n",
              "      <td>73.25</td>\n",
              "      <td>95.96</td>\n",
              "      <td>NaN</td>\n",
              "      <td>NaN</td>\n",
              "      <td>NaN</td>\n",
              "      <td>2</td>\n",
              "      <td>4</td>\n",
              "      <td>8.0</td>\n",
              "      <td>NaN</td>\n",
              "      <td>38.0</td>\n",
              "      <td>63.0</td>\n",
              "      <td>18.5</td>\n",
              "      <td>NaN</td>\n",
              "      <td>2</td>\n",
              "      <td>134.0</td>\n",
              "      <td>NaN</td>\n",
              "      <td>NaN</td>\n",
              "      <td>10</td>\n",
              "      <td>1238</td>\n",
              "      <td>6</td>\n",
              "      <td>0.0</td>\n",
              "      <td>1.25</td>\n",
              "      <td>5</td>\n",
              "      <td>AUS</td>\n",
              "      <td>Gelding</td>\n",
              "      <td>87</td>\n",
              "      <td>TT/V</td>\n",
              "      <td>1191.0</td>\n",
              "      <td>122</td>\n",
              "      <td>6</td>\n",
              "      <td>7</td>\n",
              "      <td>7</td>\n",
              "      <td>5</td>\n",
              "      <td>6.0</td>\n",
              "      <td>NaN</td>\n",
              "      <td>NaN</td>\n",
              "      <td>4.25</td>\n",
              "      <td>3.75</td>\n",
              "      <td>2.50</td>\n",
              "      <td>1.25</td>\n",
              "      <td>NaN</td>\n",
              "      <td>NaN</td>\n",
              "      <td>26.14</td>\n",
              "      <td>23.98</td>\n",
              "      <td>23.53</td>\n",
              "      <td>22.52</td>\n",
              "      <td>NaN</td>\n",
              "      <td>NaN</td>\n",
              "      <td>96.17</td>\n",
              "      <td>99.0</td>\n",
              "      <td>NaN</td>\n",
              "      <td>73</td>\n",
              "      <td>40</td>\n",
              "    </tr>\n",
              "    <tr>\n",
              "      <th>79443</th>\n",
              "      <td>6348</td>\n",
              "      <td>2005-08-28</td>\n",
              "      <td>ST</td>\n",
              "      <td>10</td>\n",
              "      <td>A</td>\n",
              "      <td>0</td>\n",
              "      <td>1600</td>\n",
              "      <td>GOOD</td>\n",
              "      <td>100-80</td>\n",
              "      <td>1750000.0</td>\n",
              "      <td>2</td>\n",
              "      <td>25.46</td>\n",
              "      <td>24.06</td>\n",
              "      <td>23.73</td>\n",
              "      <td>22.71</td>\n",
              "      <td>NaN</td>\n",
              "      <td>NaN</td>\n",
              "      <td>NaN</td>\n",
              "      <td>25.46</td>\n",
              "      <td>49.52</td>\n",
              "      <td>73.25</td>\n",
              "      <td>95.96</td>\n",
              "      <td>NaN</td>\n",
              "      <td>NaN</td>\n",
              "      <td>NaN</td>\n",
              "      <td>2</td>\n",
              "      <td>4</td>\n",
              "      <td>8.0</td>\n",
              "      <td>NaN</td>\n",
              "      <td>38.0</td>\n",
              "      <td>63.0</td>\n",
              "      <td>18.5</td>\n",
              "      <td>NaN</td>\n",
              "      <td>2</td>\n",
              "      <td>134.0</td>\n",
              "      <td>NaN</td>\n",
              "      <td>NaN</td>\n",
              "      <td>11</td>\n",
              "      <td>985</td>\n",
              "      <td>7</td>\n",
              "      <td>0.0</td>\n",
              "      <td>2.25</td>\n",
              "      <td>5</td>\n",
              "      <td>NZ</td>\n",
              "      <td>Gelding</td>\n",
              "      <td>84</td>\n",
              "      <td>--</td>\n",
              "      <td>1070.0</td>\n",
              "      <td>119</td>\n",
              "      <td>4</td>\n",
              "      <td>5</td>\n",
              "      <td>5</td>\n",
              "      <td>6</td>\n",
              "      <td>7.0</td>\n",
              "      <td>NaN</td>\n",
              "      <td>NaN</td>\n",
              "      <td>2.25</td>\n",
              "      <td>2.50</td>\n",
              "      <td>2.75</td>\n",
              "      <td>2.25</td>\n",
              "      <td>NaN</td>\n",
              "      <td>NaN</td>\n",
              "      <td>25.82</td>\n",
              "      <td>24.10</td>\n",
              "      <td>23.77</td>\n",
              "      <td>22.61</td>\n",
              "      <td>NaN</td>\n",
              "      <td>NaN</td>\n",
              "      <td>96.30</td>\n",
              "      <td>99.0</td>\n",
              "      <td>NaN</td>\n",
              "      <td>164</td>\n",
              "      <td>63</td>\n",
              "    </tr>\n",
              "    <tr>\n",
              "      <th>79444</th>\n",
              "      <td>6348</td>\n",
              "      <td>2005-08-28</td>\n",
              "      <td>ST</td>\n",
              "      <td>10</td>\n",
              "      <td>A</td>\n",
              "      <td>0</td>\n",
              "      <td>1600</td>\n",
              "      <td>GOOD</td>\n",
              "      <td>100-80</td>\n",
              "      <td>1750000.0</td>\n",
              "      <td>2</td>\n",
              "      <td>25.46</td>\n",
              "      <td>24.06</td>\n",
              "      <td>23.73</td>\n",
              "      <td>22.71</td>\n",
              "      <td>NaN</td>\n",
              "      <td>NaN</td>\n",
              "      <td>NaN</td>\n",
              "      <td>25.46</td>\n",
              "      <td>49.52</td>\n",
              "      <td>73.25</td>\n",
              "      <td>95.96</td>\n",
              "      <td>NaN</td>\n",
              "      <td>NaN</td>\n",
              "      <td>NaN</td>\n",
              "      <td>2</td>\n",
              "      <td>4</td>\n",
              "      <td>8.0</td>\n",
              "      <td>NaN</td>\n",
              "      <td>38.0</td>\n",
              "      <td>63.0</td>\n",
              "      <td>18.5</td>\n",
              "      <td>NaN</td>\n",
              "      <td>2</td>\n",
              "      <td>134.0</td>\n",
              "      <td>NaN</td>\n",
              "      <td>NaN</td>\n",
              "      <td>12</td>\n",
              "      <td>3147</td>\n",
              "      <td>10</td>\n",
              "      <td>0.0</td>\n",
              "      <td>3.00</td>\n",
              "      <td>5</td>\n",
              "      <td>NZ</td>\n",
              "      <td>Gelding</td>\n",
              "      <td>83</td>\n",
              "      <td>H/XB</td>\n",
              "      <td>1148.0</td>\n",
              "      <td>120</td>\n",
              "      <td>1</td>\n",
              "      <td>11</td>\n",
              "      <td>11</td>\n",
              "      <td>10</td>\n",
              "      <td>10.0</td>\n",
              "      <td>NaN</td>\n",
              "      <td>NaN</td>\n",
              "      <td>7.00</td>\n",
              "      <td>7.00</td>\n",
              "      <td>4.75</td>\n",
              "      <td>3.00</td>\n",
              "      <td>NaN</td>\n",
              "      <td>NaN</td>\n",
              "      <td>26.58</td>\n",
              "      <td>24.06</td>\n",
              "      <td>23.37</td>\n",
              "      <td>22.43</td>\n",
              "      <td>NaN</td>\n",
              "      <td>NaN</td>\n",
              "      <td>96.44</td>\n",
              "      <td>99.0</td>\n",
              "      <td>NaN</td>\n",
              "      <td>111</td>\n",
              "      <td>68</td>\n",
              "    </tr>\n",
              "    <tr>\n",
              "      <th>79445</th>\n",
              "      <td>6348</td>\n",
              "      <td>2005-08-28</td>\n",
              "      <td>ST</td>\n",
              "      <td>10</td>\n",
              "      <td>A</td>\n",
              "      <td>0</td>\n",
              "      <td>1600</td>\n",
              "      <td>GOOD</td>\n",
              "      <td>100-80</td>\n",
              "      <td>1750000.0</td>\n",
              "      <td>2</td>\n",
              "      <td>25.46</td>\n",
              "      <td>24.06</td>\n",
              "      <td>23.73</td>\n",
              "      <td>22.71</td>\n",
              "      <td>NaN</td>\n",
              "      <td>NaN</td>\n",
              "      <td>NaN</td>\n",
              "      <td>25.46</td>\n",
              "      <td>49.52</td>\n",
              "      <td>73.25</td>\n",
              "      <td>95.96</td>\n",
              "      <td>NaN</td>\n",
              "      <td>NaN</td>\n",
              "      <td>NaN</td>\n",
              "      <td>2</td>\n",
              "      <td>4</td>\n",
              "      <td>8.0</td>\n",
              "      <td>NaN</td>\n",
              "      <td>38.0</td>\n",
              "      <td>63.0</td>\n",
              "      <td>18.5</td>\n",
              "      <td>NaN</td>\n",
              "      <td>2</td>\n",
              "      <td>134.0</td>\n",
              "      <td>NaN</td>\n",
              "      <td>NaN</td>\n",
              "      <td>13</td>\n",
              "      <td>1982</td>\n",
              "      <td>8</td>\n",
              "      <td>0.0</td>\n",
              "      <td>2.50</td>\n",
              "      <td>3</td>\n",
              "      <td>AUS</td>\n",
              "      <td>Gelding</td>\n",
              "      <td>82</td>\n",
              "      <td>--</td>\n",
              "      <td>1266.0</td>\n",
              "      <td>119</td>\n",
              "      <td>12</td>\n",
              "      <td>10</td>\n",
              "      <td>10</td>\n",
              "      <td>11</td>\n",
              "      <td>8.0</td>\n",
              "      <td>NaN</td>\n",
              "      <td>NaN</td>\n",
              "      <td>7.00</td>\n",
              "      <td>6.75</td>\n",
              "      <td>5.00</td>\n",
              "      <td>2.50</td>\n",
              "      <td>NaN</td>\n",
              "      <td>NaN</td>\n",
              "      <td>26.58</td>\n",
              "      <td>24.02</td>\n",
              "      <td>23.45</td>\n",
              "      <td>22.29</td>\n",
              "      <td>NaN</td>\n",
              "      <td>NaN</td>\n",
              "      <td>96.34</td>\n",
              "      <td>4.6</td>\n",
              "      <td>NaN</td>\n",
              "      <td>118</td>\n",
              "      <td>95</td>\n",
              "    </tr>\n",
              "    <tr>\n",
              "      <th>79446</th>\n",
              "      <td>6348</td>\n",
              "      <td>2005-08-28</td>\n",
              "      <td>ST</td>\n",
              "      <td>10</td>\n",
              "      <td>A</td>\n",
              "      <td>0</td>\n",
              "      <td>1600</td>\n",
              "      <td>GOOD</td>\n",
              "      <td>100-80</td>\n",
              "      <td>1750000.0</td>\n",
              "      <td>2</td>\n",
              "      <td>25.46</td>\n",
              "      <td>24.06</td>\n",
              "      <td>23.73</td>\n",
              "      <td>22.71</td>\n",
              "      <td>NaN</td>\n",
              "      <td>NaN</td>\n",
              "      <td>NaN</td>\n",
              "      <td>25.46</td>\n",
              "      <td>49.52</td>\n",
              "      <td>73.25</td>\n",
              "      <td>95.96</td>\n",
              "      <td>NaN</td>\n",
              "      <td>NaN</td>\n",
              "      <td>NaN</td>\n",
              "      <td>2</td>\n",
              "      <td>4</td>\n",
              "      <td>8.0</td>\n",
              "      <td>NaN</td>\n",
              "      <td>38.0</td>\n",
              "      <td>63.0</td>\n",
              "      <td>18.5</td>\n",
              "      <td>NaN</td>\n",
              "      <td>2</td>\n",
              "      <td>134.0</td>\n",
              "      <td>NaN</td>\n",
              "      <td>NaN</td>\n",
              "      <td>14</td>\n",
              "      <td>3491</td>\n",
              "      <td>11</td>\n",
              "      <td>0.0</td>\n",
              "      <td>4.25</td>\n",
              "      <td>3</td>\n",
              "      <td>IRE</td>\n",
              "      <td>Gelding</td>\n",
              "      <td>81</td>\n",
              "      <td>--</td>\n",
              "      <td>1092.0</td>\n",
              "      <td>118</td>\n",
              "      <td>2</td>\n",
              "      <td>3</td>\n",
              "      <td>3</td>\n",
              "      <td>4</td>\n",
              "      <td>11.0</td>\n",
              "      <td>NaN</td>\n",
              "      <td>NaN</td>\n",
              "      <td>1.50</td>\n",
              "      <td>1.50</td>\n",
              "      <td>1.75</td>\n",
              "      <td>4.25</td>\n",
              "      <td>NaN</td>\n",
              "      <td>NaN</td>\n",
              "      <td>25.70</td>\n",
              "      <td>24.06</td>\n",
              "      <td>23.77</td>\n",
              "      <td>23.10</td>\n",
              "      <td>NaN</td>\n",
              "      <td>NaN</td>\n",
              "      <td>96.63</td>\n",
              "      <td>99.0</td>\n",
              "      <td>NaN</td>\n",
              "      <td>27</td>\n",
              "      <td>4</td>\n",
              "    </tr>\n",
              "  </tbody>\n",
              "</table>\n",
              "<p>79447 rows × 73 columns</p>\n",
              "</div>"
            ],
            "text/plain": [
              "       race_id        date venue  ...  place_odds trainer_id  jockey_id\n",
              "0            0  1997-06-02    ST  ...         3.7        118          2\n",
              "1            0  1997-06-02    ST  ...         4.9        164         57\n",
              "2            0  1997-06-02    ST  ...         1.5        137         18\n",
              "3            0  1997-06-02    ST  ...        11.0         80         59\n",
              "4            0  1997-06-02    ST  ...        14.0          9        154\n",
              "...        ...         ...   ...  ...         ...        ...        ...\n",
              "79442     6348  2005-08-28    ST  ...         NaN         73         40\n",
              "79443     6348  2005-08-28    ST  ...         NaN        164         63\n",
              "79444     6348  2005-08-28    ST  ...         NaN        111         68\n",
              "79445     6348  2005-08-28    ST  ...         NaN        118         95\n",
              "79446     6348  2005-08-28    ST  ...         NaN         27          4\n",
              "\n",
              "[79447 rows x 73 columns]"
            ]
          },
          "metadata": {},
          "execution_count": 725
        }
      ]
    },
    {
      "cell_type": "code",
      "metadata": {
        "id": "jCySbTyswFWF"
      },
      "source": [
        "new_cols = {'time1_x':'lider_time1', 'time2_x': 'lider_time2', 'time3_x':'lider_time3','time4_x': 'lider_time4', 'time5_x': 'lider_time5', 'time6_x':\n",
        "       'lider_time6','time1_y':\t'horse_time1',\t'time2_y':\t'horse_time2', 'time3_y' : 'horse_time3',\t'time4_y':'horse_time4',\t'time5_y':'horse_time5',\n",
        "       'time6_y':'horse_time6','actual_weight': 'carried_weight'}\n",
        "df_m.rename(columns=new_cols,inplace=True)\n",
        "df_m.drop(columns=['time7','sec_time7','win_combination2','win_dividend2','place_dividend4','place_combination4'],inplace=True)"
      ],
      "execution_count": null,
      "outputs": []
    },
    {
      "cell_type": "code",
      "metadata": {
        "colab": {
          "base_uri": "https://localhost:8080/"
        },
        "id": "8I1GjHNOwk8R",
        "outputId": "d8ceea55-91f9-4641-dc81-2f685ff29bde"
      },
      "source": [
        "cols_m = df_m.columns\n",
        "cols_m"
      ],
      "execution_count": null,
      "outputs": [
        {
          "output_type": "execute_result",
          "data": {
            "text/plain": [
              "Index(['race_id', 'date', 'venue', 'race_no', 'config', 'surface', 'distance',\n",
              "       'going', 'horse_ratings', 'prize', 'race_class', 'sec_time1',\n",
              "       'sec_time2', 'sec_time3', 'sec_time4', 'sec_time5', 'sec_time6',\n",
              "       'lider_time1', 'lider_time2', 'lider_time3', 'lider_time4',\n",
              "       'lider_time5', 'lider_time6', 'place_combination1',\n",
              "       'place_combination2', 'place_combination3', 'place_dividend1',\n",
              "       'place_dividend2', 'place_dividend3', 'win_combination1',\n",
              "       'win_dividend1', 'horse_no', 'horse_id', 'result', 'won',\n",
              "       'lengths_behind', 'horse_age', 'horse_country', 'horse_type',\n",
              "       'horse_rating', 'horse_gear', 'declared_weight', 'carried_weight',\n",
              "       'draw', 'position_sec1', 'position_sec2', 'position_sec3',\n",
              "       'position_sec4', 'position_sec5', 'position_sec6', 'behind_sec1',\n",
              "       'behind_sec2', 'behind_sec3', 'behind_sec4', 'behind_sec5',\n",
              "       'behind_sec6', 'horse_time1', 'horse_time2', 'horse_time3',\n",
              "       'horse_time4', 'horse_time5', 'horse_time6', 'finish_time', 'win_odds',\n",
              "       'place_odds', 'trainer_id', 'jockey_id'],\n",
              "      dtype='object')"
            ]
          },
          "metadata": {},
          "execution_count": 727
        }
      ]
    },
    {
      "cell_type": "code",
      "metadata": {
        "id": "t1nRIMkhLSNo"
      },
      "source": [
        "df_m['date'] = pd.to_datetime(df_m['date'])"
      ],
      "execution_count": null,
      "outputs": []
    },
    {
      "cell_type": "code",
      "metadata": {
        "colab": {
          "base_uri": "https://localhost:8080/"
        },
        "id": "JIq0cSsoLFLH",
        "outputId": "c06a817f-b859-432c-b42d-802fb104088a"
      },
      "source": [
        "df_m.info()"
      ],
      "execution_count": null,
      "outputs": [
        {
          "output_type": "stream",
          "name": "stdout",
          "text": [
            "<class 'pandas.core.frame.DataFrame'>\n",
            "Int64Index: 79447 entries, 0 to 79446\n",
            "Data columns (total 67 columns):\n",
            " #   Column              Non-Null Count  Dtype         \n",
            "---  ------              --------------  -----         \n",
            " 0   race_id             79447 non-null  int64         \n",
            " 1   date                79447 non-null  datetime64[ns]\n",
            " 2   venue               79447 non-null  object        \n",
            " 3   race_no             79447 non-null  int64         \n",
            " 4   config              79447 non-null  object        \n",
            " 5   surface             79447 non-null  int64         \n",
            " 6   distance            79447 non-null  int64         \n",
            " 7   going               79447 non-null  object        \n",
            " 8   horse_ratings       79447 non-null  object        \n",
            " 9   prize               73598 non-null  float64       \n",
            " 10  race_class          79447 non-null  int64         \n",
            " 11  sec_time1           79447 non-null  float64       \n",
            " 12  sec_time2           79447 non-null  float64       \n",
            " 13  sec_time3           79447 non-null  float64       \n",
            " 14  sec_time4           46226 non-null  float64       \n",
            " 15  sec_time5           10079 non-null  float64       \n",
            " 16  sec_time6           1296 non-null   float64       \n",
            " 17  lider_time1         79447 non-null  float64       \n",
            " 18  lider_time2         79447 non-null  float64       \n",
            " 19  lider_time3         79447 non-null  float64       \n",
            " 20  lider_time4         46226 non-null  float64       \n",
            " 21  lider_time5         10079 non-null  float64       \n",
            " 22  lider_time6         1296 non-null   float64       \n",
            " 23  place_combination1  79447 non-null  int64         \n",
            " 24  place_combination2  79447 non-null  int64         \n",
            " 25  place_combination3  79307 non-null  float64       \n",
            " 26  place_dividend1     79447 non-null  float64       \n",
            " 27  place_dividend2     79447 non-null  float64       \n",
            " 28  place_dividend3     79307 non-null  float64       \n",
            " 29  win_combination1    79447 non-null  int64         \n",
            " 30  win_dividend1       79447 non-null  float64       \n",
            " 31  horse_no            79447 non-null  int64         \n",
            " 32  horse_id            79447 non-null  int64         \n",
            " 33  result              79447 non-null  int64         \n",
            " 34  won                 79447 non-null  float64       \n",
            " 35  lengths_behind      79447 non-null  float64       \n",
            " 36  horse_age           79447 non-null  int64         \n",
            " 37  horse_country       79445 non-null  object        \n",
            " 38  horse_type          79445 non-null  object        \n",
            " 39  horse_rating        79447 non-null  int64         \n",
            " 40  horse_gear          79447 non-null  object        \n",
            " 41  declared_weight     79447 non-null  float64       \n",
            " 42  carried_weight      79447 non-null  int64         \n",
            " 43  draw                79447 non-null  int64         \n",
            " 44  position_sec1       79447 non-null  int64         \n",
            " 45  position_sec2       79447 non-null  int64         \n",
            " 46  position_sec3       79447 non-null  int64         \n",
            " 47  position_sec4       46226 non-null  float64       \n",
            " 48  position_sec5       10079 non-null  float64       \n",
            " 49  position_sec6       1296 non-null   float64       \n",
            " 50  behind_sec1         79447 non-null  float64       \n",
            " 51  behind_sec2         79447 non-null  float64       \n",
            " 52  behind_sec3         79447 non-null  float64       \n",
            " 53  behind_sec4         46226 non-null  float64       \n",
            " 54  behind_sec5         10079 non-null  float64       \n",
            " 55  behind_sec6         1296 non-null   float64       \n",
            " 56  horse_time1         79447 non-null  float64       \n",
            " 57  horse_time2         79447 non-null  float64       \n",
            " 58  horse_time3         79447 non-null  float64       \n",
            " 59  horse_time4         46226 non-null  float64       \n",
            " 60  horse_time5         10079 non-null  float64       \n",
            " 61  horse_time6         1296 non-null   float64       \n",
            " 62  finish_time         79447 non-null  float64       \n",
            " 63  win_odds            79447 non-null  float64       \n",
            " 64  place_odds          75712 non-null  float64       \n",
            " 65  trainer_id          79447 non-null  int64         \n",
            " 66  jockey_id           79447 non-null  int64         \n",
            "dtypes: datetime64[ns](1), float64(39), int64(20), object(7)\n",
            "memory usage: 41.2+ MB\n"
          ]
        }
      ]
    },
    {
      "cell_type": "markdown",
      "metadata": {
        "id": "pY5tC9kZGz3K"
      },
      "source": [
        "### By 1200m Race and turf surface\n"
      ]
    },
    {
      "cell_type": "code",
      "metadata": {
        "id": "ZA3rf-VtHDd5"
      },
      "source": [
        "df_m_1200 = df_m[(df_m['distance']==1200)&(df_m['surface']==0)]"
      ],
      "execution_count": null,
      "outputs": []
    },
    {
      "cell_type": "code",
      "metadata": {
        "id": "-IHl-ZadaCEJ"
      },
      "source": [
        "cols_to_remove = ['horse_time4','horse_time5','horse_time6','lider_time4','lider_time5','lider_time6',\n",
        "                        'sec_time4','sec_time5','sec_time6','position_sec4','position_sec5','position_sec6'\n",
        "                        ,'behind_sec4','behind_sec5','behind_sec6']"
      ],
      "execution_count": null,
      "outputs": []
    },
    {
      "cell_type": "code",
      "metadata": {
        "colab": {
          "base_uri": "https://localhost:8080/"
        },
        "id": "Wo_zHkOaTF37",
        "outputId": "dbe2aad1-c94d-400f-f690-31e190c6a2e8"
      },
      "source": [
        "\n",
        "df_m_1200.drop(columns=cols_to_remove,inplace=True)"
      ],
      "execution_count": null,
      "outputs": [
        {
          "output_type": "stream",
          "name": "stderr",
          "text": [
            "/usr/local/lib/python3.7/dist-packages/pandas/core/frame.py:4174: SettingWithCopyWarning: \n",
            "A value is trying to be set on a copy of a slice from a DataFrame\n",
            "\n",
            "See the caveats in the documentation: https://pandas.pydata.org/pandas-docs/stable/user_guide/indexing.html#returning-a-view-versus-a-copy\n",
            "  errors=errors,\n"
          ]
        }
      ]
    },
    {
      "cell_type": "code",
      "metadata": {
        "colab": {
          "base_uri": "https://localhost:8080/"
        },
        "id": "Fu_PC9XONOi4",
        "outputId": "e95ab889-1817-4102-d9e4-ad0ceec90d7f"
      },
      "source": [
        "df_m_1200.columns"
      ],
      "execution_count": null,
      "outputs": [
        {
          "output_type": "execute_result",
          "data": {
            "text/plain": [
              "Index(['race_id', 'date', 'venue', 'race_no', 'config', 'surface', 'distance',\n",
              "       'going', 'horse_ratings', 'prize', 'race_class', 'sec_time1',\n",
              "       'sec_time2', 'sec_time3', 'lider_time1', 'lider_time2', 'lider_time3',\n",
              "       'place_combination1', 'place_combination2', 'place_combination3',\n",
              "       'place_dividend1', 'place_dividend2', 'place_dividend3',\n",
              "       'win_combination1', 'win_dividend1', 'horse_no', 'horse_id', 'result',\n",
              "       'won', 'lengths_behind', 'horse_age', 'horse_country', 'horse_type',\n",
              "       'horse_rating', 'horse_gear', 'declared_weight', 'carried_weight',\n",
              "       'draw', 'position_sec1', 'position_sec2', 'position_sec3',\n",
              "       'behind_sec1', 'behind_sec2', 'behind_sec3', 'horse_time1',\n",
              "       'horse_time2', 'horse_time3', 'finish_time', 'win_odds', 'place_odds',\n",
              "       'trainer_id', 'jockey_id'],\n",
              "      dtype='object')"
            ]
          },
          "metadata": {},
          "execution_count": 733
        }
      ]
    },
    {
      "cell_type": "code",
      "metadata": {
        "colab": {
          "base_uri": "https://localhost:8080/",
          "height": 305
        },
        "id": "dM-t8NwgKuiz",
        "outputId": "751ed6dd-2dea-4146-edd9-dd10f47074d0"
      },
      "source": [
        "numerical = [col for col in df_m_1200.columns if df_m_1200[col].dtype != 'object']\n",
        "\n",
        "df_m[numerical].head()"
      ],
      "execution_count": null,
      "outputs": [
        {
          "output_type": "execute_result",
          "data": {
            "text/html": [
              "<div>\n",
              "<style scoped>\n",
              "    .dataframe tbody tr th:only-of-type {\n",
              "        vertical-align: middle;\n",
              "    }\n",
              "\n",
              "    .dataframe tbody tr th {\n",
              "        vertical-align: top;\n",
              "    }\n",
              "\n",
              "    .dataframe thead th {\n",
              "        text-align: right;\n",
              "    }\n",
              "</style>\n",
              "<table border=\"1\" class=\"dataframe\">\n",
              "  <thead>\n",
              "    <tr style=\"text-align: right;\">\n",
              "      <th></th>\n",
              "      <th>race_id</th>\n",
              "      <th>date</th>\n",
              "      <th>race_no</th>\n",
              "      <th>surface</th>\n",
              "      <th>distance</th>\n",
              "      <th>prize</th>\n",
              "      <th>race_class</th>\n",
              "      <th>sec_time1</th>\n",
              "      <th>sec_time2</th>\n",
              "      <th>sec_time3</th>\n",
              "      <th>lider_time1</th>\n",
              "      <th>lider_time2</th>\n",
              "      <th>lider_time3</th>\n",
              "      <th>place_combination1</th>\n",
              "      <th>place_combination2</th>\n",
              "      <th>place_combination3</th>\n",
              "      <th>place_dividend1</th>\n",
              "      <th>place_dividend2</th>\n",
              "      <th>place_dividend3</th>\n",
              "      <th>win_combination1</th>\n",
              "      <th>win_dividend1</th>\n",
              "      <th>horse_no</th>\n",
              "      <th>horse_id</th>\n",
              "      <th>result</th>\n",
              "      <th>won</th>\n",
              "      <th>lengths_behind</th>\n",
              "      <th>horse_age</th>\n",
              "      <th>horse_rating</th>\n",
              "      <th>declared_weight</th>\n",
              "      <th>carried_weight</th>\n",
              "      <th>draw</th>\n",
              "      <th>position_sec1</th>\n",
              "      <th>position_sec2</th>\n",
              "      <th>position_sec3</th>\n",
              "      <th>behind_sec1</th>\n",
              "      <th>behind_sec2</th>\n",
              "      <th>behind_sec3</th>\n",
              "      <th>horse_time1</th>\n",
              "      <th>horse_time2</th>\n",
              "      <th>horse_time3</th>\n",
              "      <th>finish_time</th>\n",
              "      <th>win_odds</th>\n",
              "      <th>place_odds</th>\n",
              "      <th>trainer_id</th>\n",
              "      <th>jockey_id</th>\n",
              "    </tr>\n",
              "  </thead>\n",
              "  <tbody>\n",
              "    <tr>\n",
              "      <th>0</th>\n",
              "      <td>0</td>\n",
              "      <td>1997-06-02</td>\n",
              "      <td>1</td>\n",
              "      <td>0</td>\n",
              "      <td>1400</td>\n",
              "      <td>485000.0</td>\n",
              "      <td>5</td>\n",
              "      <td>13.53</td>\n",
              "      <td>21.59</td>\n",
              "      <td>23.94</td>\n",
              "      <td>13.53</td>\n",
              "      <td>35.12</td>\n",
              "      <td>59.06</td>\n",
              "      <td>8</td>\n",
              "      <td>11</td>\n",
              "      <td>6.0</td>\n",
              "      <td>36.5</td>\n",
              "      <td>25.5</td>\n",
              "      <td>18.0</td>\n",
              "      <td>8</td>\n",
              "      <td>121.0</td>\n",
              "      <td>1</td>\n",
              "      <td>3917</td>\n",
              "      <td>10</td>\n",
              "      <td>0.0</td>\n",
              "      <td>8.00</td>\n",
              "      <td>3</td>\n",
              "      <td>60</td>\n",
              "      <td>1020.0</td>\n",
              "      <td>133</td>\n",
              "      <td>7</td>\n",
              "      <td>6</td>\n",
              "      <td>4</td>\n",
              "      <td>6</td>\n",
              "      <td>2.00</td>\n",
              "      <td>2.00</td>\n",
              "      <td>1.50</td>\n",
              "      <td>13.85</td>\n",
              "      <td>21.59</td>\n",
              "      <td>23.86</td>\n",
              "      <td>83.92</td>\n",
              "      <td>9.7</td>\n",
              "      <td>3.7</td>\n",
              "      <td>118</td>\n",
              "      <td>2</td>\n",
              "    </tr>\n",
              "    <tr>\n",
              "      <th>1</th>\n",
              "      <td>0</td>\n",
              "      <td>1997-06-02</td>\n",
              "      <td>1</td>\n",
              "      <td>0</td>\n",
              "      <td>1400</td>\n",
              "      <td>485000.0</td>\n",
              "      <td>5</td>\n",
              "      <td>13.53</td>\n",
              "      <td>21.59</td>\n",
              "      <td>23.94</td>\n",
              "      <td>13.53</td>\n",
              "      <td>35.12</td>\n",
              "      <td>59.06</td>\n",
              "      <td>8</td>\n",
              "      <td>11</td>\n",
              "      <td>6.0</td>\n",
              "      <td>36.5</td>\n",
              "      <td>25.5</td>\n",
              "      <td>18.0</td>\n",
              "      <td>8</td>\n",
              "      <td>121.0</td>\n",
              "      <td>2</td>\n",
              "      <td>2157</td>\n",
              "      <td>8</td>\n",
              "      <td>0.0</td>\n",
              "      <td>5.75</td>\n",
              "      <td>3</td>\n",
              "      <td>60</td>\n",
              "      <td>980.0</td>\n",
              "      <td>133</td>\n",
              "      <td>12</td>\n",
              "      <td>12</td>\n",
              "      <td>13</td>\n",
              "      <td>13</td>\n",
              "      <td>6.50</td>\n",
              "      <td>9.00</td>\n",
              "      <td>5.00</td>\n",
              "      <td>14.57</td>\n",
              "      <td>21.99</td>\n",
              "      <td>23.30</td>\n",
              "      <td>83.56</td>\n",
              "      <td>16.0</td>\n",
              "      <td>4.9</td>\n",
              "      <td>164</td>\n",
              "      <td>57</td>\n",
              "    </tr>\n",
              "    <tr>\n",
              "      <th>2</th>\n",
              "      <td>0</td>\n",
              "      <td>1997-06-02</td>\n",
              "      <td>1</td>\n",
              "      <td>0</td>\n",
              "      <td>1400</td>\n",
              "      <td>485000.0</td>\n",
              "      <td>5</td>\n",
              "      <td>13.53</td>\n",
              "      <td>21.59</td>\n",
              "      <td>23.94</td>\n",
              "      <td>13.53</td>\n",
              "      <td>35.12</td>\n",
              "      <td>59.06</td>\n",
              "      <td>8</td>\n",
              "      <td>11</td>\n",
              "      <td>6.0</td>\n",
              "      <td>36.5</td>\n",
              "      <td>25.5</td>\n",
              "      <td>18.0</td>\n",
              "      <td>8</td>\n",
              "      <td>121.0</td>\n",
              "      <td>3</td>\n",
              "      <td>858</td>\n",
              "      <td>7</td>\n",
              "      <td>0.0</td>\n",
              "      <td>4.75</td>\n",
              "      <td>3</td>\n",
              "      <td>60</td>\n",
              "      <td>1082.0</td>\n",
              "      <td>132</td>\n",
              "      <td>8</td>\n",
              "      <td>3</td>\n",
              "      <td>2</td>\n",
              "      <td>2</td>\n",
              "      <td>1.00</td>\n",
              "      <td>1.00</td>\n",
              "      <td>0.75</td>\n",
              "      <td>13.69</td>\n",
              "      <td>21.59</td>\n",
              "      <td>23.90</td>\n",
              "      <td>83.40</td>\n",
              "      <td>3.5</td>\n",
              "      <td>1.5</td>\n",
              "      <td>137</td>\n",
              "      <td>18</td>\n",
              "    </tr>\n",
              "    <tr>\n",
              "      <th>3</th>\n",
              "      <td>0</td>\n",
              "      <td>1997-06-02</td>\n",
              "      <td>1</td>\n",
              "      <td>0</td>\n",
              "      <td>1400</td>\n",
              "      <td>485000.0</td>\n",
              "      <td>5</td>\n",
              "      <td>13.53</td>\n",
              "      <td>21.59</td>\n",
              "      <td>23.94</td>\n",
              "      <td>13.53</td>\n",
              "      <td>35.12</td>\n",
              "      <td>59.06</td>\n",
              "      <td>8</td>\n",
              "      <td>11</td>\n",
              "      <td>6.0</td>\n",
              "      <td>36.5</td>\n",
              "      <td>25.5</td>\n",
              "      <td>18.0</td>\n",
              "      <td>8</td>\n",
              "      <td>121.0</td>\n",
              "      <td>4</td>\n",
              "      <td>1853</td>\n",
              "      <td>9</td>\n",
              "      <td>0.0</td>\n",
              "      <td>6.25</td>\n",
              "      <td>3</td>\n",
              "      <td>60</td>\n",
              "      <td>1118.0</td>\n",
              "      <td>127</td>\n",
              "      <td>13</td>\n",
              "      <td>8</td>\n",
              "      <td>8</td>\n",
              "      <td>11</td>\n",
              "      <td>3.50</td>\n",
              "      <td>5.00</td>\n",
              "      <td>3.50</td>\n",
              "      <td>14.09</td>\n",
              "      <td>21.83</td>\n",
              "      <td>23.70</td>\n",
              "      <td>83.62</td>\n",
              "      <td>39.0</td>\n",
              "      <td>11.0</td>\n",
              "      <td>80</td>\n",
              "      <td>59</td>\n",
              "    </tr>\n",
              "    <tr>\n",
              "      <th>4</th>\n",
              "      <td>0</td>\n",
              "      <td>1997-06-02</td>\n",
              "      <td>1</td>\n",
              "      <td>0</td>\n",
              "      <td>1400</td>\n",
              "      <td>485000.0</td>\n",
              "      <td>5</td>\n",
              "      <td>13.53</td>\n",
              "      <td>21.59</td>\n",
              "      <td>23.94</td>\n",
              "      <td>13.53</td>\n",
              "      <td>35.12</td>\n",
              "      <td>59.06</td>\n",
              "      <td>8</td>\n",
              "      <td>11</td>\n",
              "      <td>6.0</td>\n",
              "      <td>36.5</td>\n",
              "      <td>25.5</td>\n",
              "      <td>18.0</td>\n",
              "      <td>8</td>\n",
              "      <td>121.0</td>\n",
              "      <td>5</td>\n",
              "      <td>2796</td>\n",
              "      <td>6</td>\n",
              "      <td>0.0</td>\n",
              "      <td>3.75</td>\n",
              "      <td>3</td>\n",
              "      <td>60</td>\n",
              "      <td>972.0</td>\n",
              "      <td>131</td>\n",
              "      <td>14</td>\n",
              "      <td>13</td>\n",
              "      <td>12</td>\n",
              "      <td>12</td>\n",
              "      <td>7.75</td>\n",
              "      <td>8.75</td>\n",
              "      <td>4.25</td>\n",
              "      <td>14.77</td>\n",
              "      <td>21.75</td>\n",
              "      <td>23.22</td>\n",
              "      <td>83.24</td>\n",
              "      <td>50.0</td>\n",
              "      <td>14.0</td>\n",
              "      <td>9</td>\n",
              "      <td>154</td>\n",
              "    </tr>\n",
              "  </tbody>\n",
              "</table>\n",
              "</div>"
            ],
            "text/plain": [
              "   race_id       date  race_no  ...  place_odds  trainer_id  jockey_id\n",
              "0        0 1997-06-02        1  ...         3.7         118          2\n",
              "1        0 1997-06-02        1  ...         4.9         164         57\n",
              "2        0 1997-06-02        1  ...         1.5         137         18\n",
              "3        0 1997-06-02        1  ...        11.0          80         59\n",
              "4        0 1997-06-02        1  ...        14.0           9        154\n",
              "\n",
              "[5 rows x 45 columns]"
            ]
          },
          "metadata": {},
          "execution_count": 734
        }
      ]
    },
    {
      "cell_type": "code",
      "metadata": {
        "id": "JhwquqYVZk-g"
      },
      "source": [
        "numerical_1200 = []\n",
        "for c in numerical:\n",
        "  if c not in cols_to_remove:\n",
        "    numerical_1200.append(c)"
      ],
      "execution_count": null,
      "outputs": []
    },
    {
      "cell_type": "code",
      "metadata": {
        "colab": {
          "base_uri": "https://localhost:8080/"
        },
        "id": "S9mMrxqLN8zp",
        "outputId": "dcac9655-b234-43b7-dd7b-3e1702aa624c"
      },
      "source": [
        "time = [var for var in numerical if 'time' in var or 'Time' in var]\n",
        "time"
      ],
      "execution_count": null,
      "outputs": [
        {
          "output_type": "execute_result",
          "data": {
            "text/plain": [
              "['sec_time1',\n",
              " 'sec_time2',\n",
              " 'sec_time3',\n",
              " 'lider_time1',\n",
              " 'lider_time2',\n",
              " 'lider_time3',\n",
              " 'horse_time1',\n",
              " 'horse_time2',\n",
              " 'horse_time3',\n",
              " 'finish_time']"
            ]
          },
          "metadata": {},
          "execution_count": 736
        }
      ]
    },
    {
      "cell_type": "code",
      "metadata": {
        "id": "WsOCDxBUgbFq"
      },
      "source": [
        "time_1200=[]\n",
        "for c in time:\n",
        "  if c not in cols_to_remove:\n",
        "    time_1200.append(c)"
      ],
      "execution_count": null,
      "outputs": []
    },
    {
      "cell_type": "code",
      "metadata": {
        "colab": {
          "base_uri": "https://localhost:8080/"
        },
        "id": "dFZQreCKW073",
        "outputId": "bd3269a7-3cdd-4324-a3a0-c4ea6955906a"
      },
      "source": [
        "for var in df_m_1200.columns:\n",
        "  if df_m_1200[var].isnull().sum() > 0:\n",
        "    print(var, df_m_1200[var].isnull().mean())\n",
        "    print()"
      ],
      "execution_count": null,
      "outputs": [
        {
          "output_type": "stream",
          "name": "stdout",
          "text": [
            "prize 0.06774595267745953\n",
            "\n",
            "place_combination3 0.0007970112079701121\n",
            "\n",
            "place_dividend3 0.0007970112079701121\n",
            "\n",
            "horse_country 4.9813200498132005e-05\n",
            "\n",
            "horse_type 4.9813200498132005e-05\n",
            "\n",
            "place_odds 0.05339975093399751\n",
            "\n"
          ]
        }
      ]
    },
    {
      "cell_type": "code",
      "metadata": {
        "colab": {
          "base_uri": "https://localhost:8080/",
          "height": 414
        },
        "id": "1vXq_XM5g_tH",
        "outputId": "b6048567-6b0d-4532-861b-f5356212362b"
      },
      "source": [
        "df_m_1200[['horse_rating','horse_ratings']]"
      ],
      "execution_count": null,
      "outputs": [
        {
          "output_type": "execute_result",
          "data": {
            "text/html": [
              "<div>\n",
              "<style scoped>\n",
              "    .dataframe tbody tr th:only-of-type {\n",
              "        vertical-align: middle;\n",
              "    }\n",
              "\n",
              "    .dataframe tbody tr th {\n",
              "        vertical-align: top;\n",
              "    }\n",
              "\n",
              "    .dataframe thead th {\n",
              "        text-align: right;\n",
              "    }\n",
              "</style>\n",
              "<table border=\"1\" class=\"dataframe\">\n",
              "  <thead>\n",
              "    <tr style=\"text-align: right;\">\n",
              "      <th></th>\n",
              "      <th>horse_rating</th>\n",
              "      <th>horse_ratings</th>\n",
              "    </tr>\n",
              "  </thead>\n",
              "  <tbody>\n",
              "    <tr>\n",
              "      <th>14</th>\n",
              "      <td>60</td>\n",
              "      <td>40-15</td>\n",
              "    </tr>\n",
              "    <tr>\n",
              "      <th>15</th>\n",
              "      <td>60</td>\n",
              "      <td>40-15</td>\n",
              "    </tr>\n",
              "    <tr>\n",
              "      <th>16</th>\n",
              "      <td>60</td>\n",
              "      <td>40-15</td>\n",
              "    </tr>\n",
              "    <tr>\n",
              "      <th>17</th>\n",
              "      <td>60</td>\n",
              "      <td>40-15</td>\n",
              "    </tr>\n",
              "    <tr>\n",
              "      <th>18</th>\n",
              "      <td>60</td>\n",
              "      <td>40-15</td>\n",
              "    </tr>\n",
              "    <tr>\n",
              "      <th>...</th>\n",
              "      <td>...</td>\n",
              "      <td>...</td>\n",
              "    </tr>\n",
              "    <tr>\n",
              "      <th>79428</th>\n",
              "      <td>85</td>\n",
              "      <td>100-80</td>\n",
              "    </tr>\n",
              "    <tr>\n",
              "      <th>79429</th>\n",
              "      <td>83</td>\n",
              "      <td>100-80</td>\n",
              "    </tr>\n",
              "    <tr>\n",
              "      <th>79430</th>\n",
              "      <td>83</td>\n",
              "      <td>100-80</td>\n",
              "    </tr>\n",
              "    <tr>\n",
              "      <th>79431</th>\n",
              "      <td>81</td>\n",
              "      <td>100-80</td>\n",
              "    </tr>\n",
              "    <tr>\n",
              "      <th>79432</th>\n",
              "      <td>81</td>\n",
              "      <td>100-80</td>\n",
              "    </tr>\n",
              "  </tbody>\n",
              "</table>\n",
              "<p>20075 rows × 2 columns</p>\n",
              "</div>"
            ],
            "text/plain": [
              "       horse_rating horse_ratings\n",
              "14               60         40-15\n",
              "15               60         40-15\n",
              "16               60         40-15\n",
              "17               60         40-15\n",
              "18               60         40-15\n",
              "...             ...           ...\n",
              "79428            85        100-80\n",
              "79429            83        100-80\n",
              "79430            83        100-80\n",
              "79431            81        100-80\n",
              "79432            81        100-80\n",
              "\n",
              "[20075 rows x 2 columns]"
            ]
          },
          "metadata": {},
          "execution_count": 739
        }
      ]
    },
    {
      "cell_type": "code",
      "metadata": {
        "id": "WH1vR44bZRMX"
      },
      "source": [
        "sns.set(rc={'figure.figsize':(25,20)})\n",
        "#sns.heatmap(df_m_1200.drop(columns=['distance','surface']).corr(), annot=True, cmap='coolwarm');"
      ],
      "execution_count": null,
      "outputs": []
    },
    {
      "cell_type": "code",
      "metadata": {
        "colab": {
          "base_uri": "https://localhost:8080/"
        },
        "id": "nLXZD1UYiE7h",
        "outputId": "5962446b-361d-4106-ac44-ad361878793d"
      },
      "source": [
        "# filtrar columnas por valores de corr > 0.7 con finish_time\n",
        "corr_table = df_m_1200.corr()\n",
        "corr_table ['finish_time'].sort_values(ascending=False)"
      ],
      "execution_count": null,
      "outputs": [
        {
          "output_type": "execute_result",
          "data": {
            "text/plain": [
              "finish_time           1.000000\n",
              "horse_time3           0.720819\n",
              "lider_time3           0.667223\n",
              "horse_time2           0.584061\n",
              "position_sec3         0.534535\n",
              "result                0.534507\n",
              "sec_time2             0.454486\n",
              "lider_time2           0.449800\n",
              "sec_time3             0.368851\n",
              "lengths_behind        0.287012\n",
              "behind_sec3           0.284548\n",
              "behind_sec2           0.279342\n",
              "place_odds            0.267150\n",
              "win_odds              0.253024\n",
              "horse_time1           0.244606\n",
              "sec_time1             0.218282\n",
              "lider_time1           0.218282\n",
              "position_sec2         0.199178\n",
              "behind_sec1           0.126214\n",
              "position_sec1         0.124984\n",
              "jockey_id             0.088911\n",
              "draw                  0.078845\n",
              "horse_no              0.051065\n",
              "place_dividend1       0.027257\n",
              "place_combination2    0.021307\n",
              "place_dividend2       0.014397\n",
              "win_dividend1         0.011426\n",
              "place_combination3    0.008850\n",
              "win_combination1      0.007854\n",
              "place_combination1    0.007668\n",
              "trainer_id           -0.003424\n",
              "place_dividend3      -0.003494\n",
              "horse_id             -0.004224\n",
              "carried_weight       -0.025274\n",
              "race_class           -0.035556\n",
              "horse_age            -0.075208\n",
              "declared_weight      -0.100752\n",
              "race_id              -0.121914\n",
              "won                  -0.227234\n",
              "horse_rating         -0.243030\n",
              "prize                -0.262099\n",
              "race_no              -0.284278\n",
              "surface                    NaN\n",
              "distance                   NaN\n",
              "Name: finish_time, dtype: float64"
            ]
          },
          "metadata": {},
          "execution_count": 741
        }
      ]
    },
    {
      "cell_type": "code",
      "metadata": {
        "colab": {
          "base_uri": "https://localhost:8080/",
          "height": 53
        },
        "id": "Ta7flhL6Hy1-",
        "outputId": "502db38d-f1b4-4214-daaa-11e020471b91"
      },
      "source": [
        "'''for var in time_1200:\n",
        "  plt.figure(figsize=(8, 4))\n",
        "  plt.subplot(1, 2, 1)\n",
        "  fig = df_m_1200.boxplot(column=var)\n",
        "  fig.set_ylabel(var)\n",
        "\n",
        "  plt.subplot(1, 2, 2)\n",
        "  fig = df_m_1200[var].hist(bins=20)\n",
        "  fig.set_xlabel('tiempo')\n",
        "  fig.set_ylabel(var)\n",
        "\n",
        "  plt.show();\n",
        "'''"
      ],
      "execution_count": null,
      "outputs": [
        {
          "output_type": "execute_result",
          "data": {
            "application/vnd.google.colaboratory.intrinsic+json": {
              "type": "string"
            },
            "text/plain": [
              "\"for var in time_1200:\\n  plt.figure(figsize=(8, 4))\\n  plt.subplot(1, 2, 1)\\n  fig = df_m_1200.boxplot(column=var)\\n  fig.set_ylabel(var)\\n\\n  plt.subplot(1, 2, 2)\\n  fig = df_m_1200[var].hist(bins=20)\\n  fig.set_xlabel('tiempo')\\n  fig.set_ylabel(var)\\n\\n  plt.show();\\n\""
            ]
          },
          "metadata": {},
          "execution_count": 742
        }
      ]
    },
    {
      "cell_type": "code",
      "metadata": {
        "colab": {
          "base_uri": "https://localhost:8080/"
        },
        "id": "NeKJ9dcZ8R9F",
        "outputId": "9a27a044-3623-4eb2-df43-d50c475b509c"
      },
      "source": [
        "df_m_1200_clean['horse_rating'].sort_values().value_counts()"
      ],
      "execution_count": null,
      "outputs": [
        {
          "output_type": "execute_result",
          "data": {
            "text/plain": [
              "60     12206\n",
              "52       561\n",
              "67       238\n",
              "65       203\n",
              "50       194\n",
              "       ...  \n",
              "127        2\n",
              "17         1\n",
              "134        1\n",
              "138        1\n",
              "13         1\n",
              "Name: horse_rating, Length: 119, dtype: int64"
            ]
          },
          "metadata": {},
          "execution_count": 743
        }
      ]
    },
    {
      "cell_type": "code",
      "metadata": {
        "colab": {
          "base_uri": "https://localhost:8080/",
          "height": 35
        },
        "id": "UA02QRoNGbaK",
        "outputId": "7d460a33-7a85-4324-c6bd-3df3b7afa4b7"
      },
      "source": [
        "'''sns.set(rc={'figure.figsize':(18,13)})\n",
        "for col in df_m_1200_clean.columns:\n",
        "  sns.scatterplot(y=df_m_1200_clean[col], x=df_m_1200_clean['finish_time'])\n",
        "  plt.show()\n",
        "'''"
      ],
      "execution_count": null,
      "outputs": [
        {
          "output_type": "execute_result",
          "data": {
            "application/vnd.google.colaboratory.intrinsic+json": {
              "type": "string"
            },
            "text/plain": [
              "\"sns.set(rc={'figure.figsize':(18,13)})\\nfor col in df_m_1200_clean.columns:\\n  sns.scatterplot(y=df_m_1200_clean[col], x=df_m_1200_clean['finish_time'])\\n  plt.show()\\n\""
            ]
          },
          "metadata": {},
          "execution_count": 744
        }
      ]
    },
    {
      "cell_type": "markdown",
      "metadata": {
        "id": "33MQooD3KoyU"
      },
      "source": [
        "### Cols by dtype:\n",
        " numerical, time, ids, discrete y object_dtype"
      ]
    },
    {
      "cell_type": "code",
      "metadata": {
        "colab": {
          "base_uri": "https://localhost:8080/"
        },
        "id": "baJfkloPU99e",
        "outputId": "1d7da79e-36bf-4691-931e-f31fed823eb4"
      },
      "source": [
        "df_m['date'].dtype"
      ],
      "execution_count": null,
      "outputs": [
        {
          "output_type": "execute_result",
          "data": {
            "text/plain": [
              "dtype('<M8[ns]')"
            ]
          },
          "metadata": {},
          "execution_count": 745
        }
      ]
    },
    {
      "cell_type": "code",
      "metadata": {
        "colab": {
          "base_uri": "https://localhost:8080/"
        },
        "id": "7fpplw3dQjXb",
        "outputId": "dd8229e5-026a-489e-9dc5-df6ab0609447"
      },
      "source": [
        "object_cols = [col for col in df_m_1200.columns if df_m_1200[col].dtype == 'object']\n",
        "object_cols"
      ],
      "execution_count": null,
      "outputs": [
        {
          "output_type": "execute_result",
          "data": {
            "text/plain": [
              "['venue',\n",
              " 'config',\n",
              " 'going',\n",
              " 'horse_ratings',\n",
              " 'horse_country',\n",
              " 'horse_type',\n",
              " 'horse_gear']"
            ]
          },
          "metadata": {},
          "execution_count": 746
        }
      ]
    },
    {
      "cell_type": "code",
      "metadata": {
        "colab": {
          "base_uri": "https://localhost:8080/"
        },
        "id": "OyV9iYSdOKsA",
        "outputId": "12c01692-397d-4ed8-909a-eda871b857da"
      },
      "source": [
        "ids = [var for var in numerical if '_id' in var or '_Id' in var]\n",
        "ids"
      ],
      "execution_count": null,
      "outputs": [
        {
          "output_type": "execute_result",
          "data": {
            "text/plain": [
              "['race_id', 'horse_id', 'trainer_id', 'jockey_id']"
            ]
          },
          "metadata": {},
          "execution_count": 747
        }
      ]
    },
    {
      "cell_type": "code",
      "metadata": {
        "colab": {
          "base_uri": "https://localhost:8080/"
        },
        "id": "ixd02Hz5MR1Y",
        "outputId": "ab4ae2fc-7040-4e33-ea73-fc20432f83a5"
      },
      "source": [
        "discrete = []\n",
        "\n",
        "for var in numerical:\n",
        "  if len(df_m_1200[var].unique()) < 20:\n",
        "    print(var, ' values:', df_m_1200[var].unique())\n",
        "    discrete.append(var)\n",
        "\n",
        "print()\n",
        "print(f'Numero de variables discretas: {len(discrete)}')"
      ],
      "execution_count": null,
      "outputs": [
        {
          "output_type": "stream",
          "name": "stdout",
          "text": [
            "race_no  values: [ 2  4  6 10  3  8  7  1  9 11  5]\n",
            "surface  values: [0]\n",
            "distance  values: [1200]\n",
            "race_class  values: [ 5  1  4  3  2 13  0 12 11  6]\n",
            "place_combination1  values: [ 5  9  1  8 10  3  7 11  2  4 12  6 14 13]\n",
            "place_combination2  values: [13  3 14  6  7  9  2  5 11 10  4 12  1  8]\n",
            "place_combination3  values: [ 4. 10.  8.  6.  7. 11.  3.  2.  1.  9. 13. 12.  5. 14. nan]\n",
            "win_combination1  values: [ 5  9  1  8 10  3  7 11  2  4 12  6 14 13]\n",
            "horse_no  values: [ 1  2  3  4  5  6  7  8  9 10 11 12 13 14]\n",
            "result  values: [12 10  8  3  1 11 14  5  9  4 13  7  2  6]\n",
            "won  values: [0. 1.]\n",
            "horse_age  values: [ 3  2  4  5  6  7  8  9 10]\n",
            "draw  values: [ 9  8  5 11 10  2 13  7 12  1 14  3  6  4]\n",
            "position_sec1  values: [11 12  8 14  5  4 13  3  9  6  7  1  2 10]\n",
            "position_sec2  values: [13 11  9 14  4  5 12  3 10  6  8  1  2  7]\n",
            "position_sec3  values: [12 10  8  3  1 11 14  5  9  4 13  7  2  6]\n",
            "\n",
            "Numero de variables discretas: 16\n"
          ]
        }
      ]
    },
    {
      "cell_type": "code",
      "metadata": {
        "colab": {
          "base_uri": "https://localhost:8080/"
        },
        "id": "dxPlJIXRNdd-",
        "outputId": "afca3a0b-beea-4912-cc3d-665d30b5bf88"
      },
      "source": [
        "numerical = [var for var in numerical if var not in discrete \n",
        "             and var not in ids and var not in time]\n",
        "numerical ,len(numerical)"
      ],
      "execution_count": null,
      "outputs": [
        {
          "output_type": "execute_result",
          "data": {
            "text/plain": [
              "(['date',\n",
              "  'prize',\n",
              "  'place_dividend1',\n",
              "  'place_dividend2',\n",
              "  'place_dividend3',\n",
              "  'win_dividend1',\n",
              "  'lengths_behind',\n",
              "  'horse_rating',\n",
              "  'declared_weight',\n",
              "  'carried_weight',\n",
              "  'behind_sec1',\n",
              "  'behind_sec2',\n",
              "  'behind_sec3',\n",
              "  'win_odds',\n",
              "  'place_odds'],\n",
              " 15)"
            ]
          },
          "metadata": {},
          "execution_count": 749
        }
      ]
    },
    {
      "cell_type": "code",
      "metadata": {
        "colab": {
          "base_uri": "https://localhost:8080/"
        },
        "id": "Glb1nDIfPHO8",
        "outputId": "c45ba18f-c988-4e2f-bd26-343ef9c4a69b"
      },
      "source": [
        "clasified_cols = numerical+time+ids+discrete+object_cols\n",
        "for c in df_m.columns:\n",
        "  if c not in clasified_cols:\n",
        "    print(c)\n",
        "len(numerical)+len(time)+len(ids)+len(discrete)+len(object_cols), len(df_m.columns)"
      ],
      "execution_count": null,
      "outputs": [
        {
          "output_type": "stream",
          "name": "stdout",
          "text": [
            "sec_time4\n",
            "sec_time5\n",
            "sec_time6\n",
            "lider_time4\n",
            "lider_time5\n",
            "lider_time6\n",
            "position_sec4\n",
            "position_sec5\n",
            "position_sec6\n",
            "behind_sec4\n",
            "behind_sec5\n",
            "behind_sec6\n",
            "horse_time4\n",
            "horse_time5\n",
            "horse_time6\n"
          ]
        },
        {
          "output_type": "execute_result",
          "data": {
            "text/plain": [
              "(52, 67)"
            ]
          },
          "metadata": {},
          "execution_count": 750
        }
      ]
    },
    {
      "cell_type": "markdown",
      "metadata": {
        "id": "A6gb2FSbPEu1"
      },
      "source": [
        "###sccattering and histograms"
      ]
    },
    {
      "cell_type": "code",
      "metadata": {
        "colab": {
          "base_uri": "https://localhost:8080/"
        },
        "id": "nfGGjb7jc-hP",
        "outputId": "ce62d7eb-9b74-433d-fe48-1d233fa7ea2f"
      },
      "source": [
        "df_m['finish_time'].max() ,  df_m['finish_time'].min()"
      ],
      "execution_count": null,
      "outputs": [
        {
          "output_type": "execute_result",
          "data": {
            "text/plain": [
              "(163.58, 55.16)"
            ]
          },
          "metadata": {},
          "execution_count": 751
        }
      ]
    },
    {
      "cell_type": "code",
      "metadata": {
        "id": "QxjWxsH7ceF2"
      },
      "source": [
        "cols_to_scatter = numerical_1200+object_cols+time"
      ],
      "execution_count": null,
      "outputs": []
    },
    {
      "cell_type": "code",
      "metadata": {
        "colab": {
          "base_uri": "https://localhost:8080/"
        },
        "id": "sOJbBjTDcNGo",
        "outputId": "e73e173f-8e04-44b6-9297-f8d1f5c0f927"
      },
      "source": [
        "'''for col in cols_to_scatter:\n",
        "  sns.scatterplot(x=df_m_1200['finish_time'], y=df_m_1200[col])\n",
        "  plt.show()\n",
        "  '''"
      ],
      "execution_count": null,
      "outputs": [
        {
          "output_type": "execute_result",
          "data": {
            "application/vnd.google.colaboratory.intrinsic+json": {
              "type": "string"
            },
            "text/plain": [
              "\"for col in cols_to_scatter:\\n  sns.scatterplot(x=df_m_1200['finish_time'], y=df_m_1200[col])\\n  plt.show()\\n  \""
            ]
          },
          "metadata": {},
          "execution_count": 753
        }
      ]
    },
    {
      "cell_type": "markdown",
      "metadata": {
        "id": "wBrAUPMdPAE5"
      },
      "source": [
        ""
      ]
    },
    {
      "cell_type": "markdown",
      "metadata": {
        "id": "7BKbJHW6c5gP"
      },
      "source": [
        "### Outliers"
      ]
    },
    {
      "cell_type": "code",
      "metadata": {
        "id": "gv2vQHVPdBu9"
      },
      "source": [
        "\n",
        "q1 = np.percentile(df_m_1200['finish_time'], 25)\n",
        "q3 = np.percentile(df_m_1200['finish_time'], 75)\n",
        "\n",
        "iqr = q3 - q1 \n",
        "\n",
        "upper = q3 + (iqr*1.5)\n",
        "lower = q1 - (iqr*1.5)"
      ],
      "execution_count": null,
      "outputs": []
    },
    {
      "cell_type": "code",
      "metadata": {
        "colab": {
          "base_uri": "https://localhost:8080/"
        },
        "id": "fR5iZGaydPO5",
        "outputId": "aeb6d4a9-83b0-48cf-82da-2d83b2fc5a3f"
      },
      "source": [
        "len(df_m_1200[(df_m_1200['finish_time'] < lower) | (df_m_1200['finish_time'] > upper)]) , len(df_m_1200['finish_time']) , len(df_m_1200[(df_m_1200['finish_time'] < lower) | (df_m_1200['finish_time'] > upper)]) / len(df_m_1200['finish_time']) "
      ],
      "execution_count": null,
      "outputs": [
        {
          "output_type": "execute_result",
          "data": {
            "text/plain": [
              "(565, 20075, 0.028144458281444584)"
            ]
          },
          "metadata": {},
          "execution_count": 755
        }
      ]
    },
    {
      "cell_type": "code",
      "metadata": {
        "id": "k6Jlx5g1d3S2"
      },
      "source": [
        "df_m_1200_clean = df_m_1200[df_m_1200['finish_time'] < upper]"
      ],
      "execution_count": null,
      "outputs": []
    },
    {
      "cell_type": "code",
      "metadata": {
        "colab": {
          "base_uri": "https://localhost:8080/"
        },
        "id": "H2DpgQQEMqV0",
        "outputId": "0ae6ff2f-5bab-40e1-fbce-d5576fb3c680"
      },
      "source": [
        "df_m_1200_clean"
      ],
      "execution_count": null,
      "outputs": [
        {
          "output_type": "execute_result",
          "data": {
            "text/html": [
              "<div>\n",
              "<style scoped>\n",
              "    .dataframe tbody tr th:only-of-type {\n",
              "        vertical-align: middle;\n",
              "    }\n",
              "\n",
              "    .dataframe tbody tr th {\n",
              "        vertical-align: top;\n",
              "    }\n",
              "\n",
              "    .dataframe thead th {\n",
              "        text-align: right;\n",
              "    }\n",
              "</style>\n",
              "<table border=\"1\" class=\"dataframe\">\n",
              "  <thead>\n",
              "    <tr style=\"text-align: right;\">\n",
              "      <th></th>\n",
              "      <th>race_id</th>\n",
              "      <th>date</th>\n",
              "      <th>venue</th>\n",
              "      <th>race_no</th>\n",
              "      <th>config</th>\n",
              "      <th>surface</th>\n",
              "      <th>distance</th>\n",
              "      <th>going</th>\n",
              "      <th>horse_ratings</th>\n",
              "      <th>prize</th>\n",
              "      <th>race_class</th>\n",
              "      <th>sec_time1</th>\n",
              "      <th>sec_time2</th>\n",
              "      <th>sec_time3</th>\n",
              "      <th>lider_time1</th>\n",
              "      <th>lider_time2</th>\n",
              "      <th>lider_time3</th>\n",
              "      <th>place_combination1</th>\n",
              "      <th>place_combination2</th>\n",
              "      <th>place_combination3</th>\n",
              "      <th>place_dividend1</th>\n",
              "      <th>place_dividend2</th>\n",
              "      <th>place_dividend3</th>\n",
              "      <th>win_combination1</th>\n",
              "      <th>win_dividend1</th>\n",
              "      <th>horse_no</th>\n",
              "      <th>horse_id</th>\n",
              "      <th>result</th>\n",
              "      <th>won</th>\n",
              "      <th>lengths_behind</th>\n",
              "      <th>horse_age</th>\n",
              "      <th>horse_country</th>\n",
              "      <th>horse_type</th>\n",
              "      <th>horse_rating</th>\n",
              "      <th>horse_gear</th>\n",
              "      <th>declared_weight</th>\n",
              "      <th>carried_weight</th>\n",
              "      <th>draw</th>\n",
              "      <th>position_sec1</th>\n",
              "      <th>position_sec2</th>\n",
              "      <th>position_sec3</th>\n",
              "      <th>behind_sec1</th>\n",
              "      <th>behind_sec2</th>\n",
              "      <th>behind_sec3</th>\n",
              "      <th>horse_time1</th>\n",
              "      <th>horse_time2</th>\n",
              "      <th>horse_time3</th>\n",
              "      <th>finish_time</th>\n",
              "      <th>win_odds</th>\n",
              "      <th>place_odds</th>\n",
              "      <th>trainer_id</th>\n",
              "      <th>jockey_id</th>\n",
              "    </tr>\n",
              "  </thead>\n",
              "  <tbody>\n",
              "    <tr>\n",
              "      <th>14</th>\n",
              "      <td>1</td>\n",
              "      <td>1997-06-02</td>\n",
              "      <td>ST</td>\n",
              "      <td>2</td>\n",
              "      <td>A</td>\n",
              "      <td>0</td>\n",
              "      <td>1200</td>\n",
              "      <td>GOOD TO FIRM</td>\n",
              "      <td>40-15</td>\n",
              "      <td>485000.0</td>\n",
              "      <td>5</td>\n",
              "      <td>24.05</td>\n",
              "      <td>22.64</td>\n",
              "      <td>23.70</td>\n",
              "      <td>24.05</td>\n",
              "      <td>46.69</td>\n",
              "      <td>70.39</td>\n",
              "      <td>5</td>\n",
              "      <td>13</td>\n",
              "      <td>4.0</td>\n",
              "      <td>12.5</td>\n",
              "      <td>47.0</td>\n",
              "      <td>33.5</td>\n",
              "      <td>5</td>\n",
              "      <td>23.5</td>\n",
              "      <td>1</td>\n",
              "      <td>2397</td>\n",
              "      <td>12</td>\n",
              "      <td>0.0</td>\n",
              "      <td>10.00</td>\n",
              "      <td>3</td>\n",
              "      <td>NZ</td>\n",
              "      <td>Gelding</td>\n",
              "      <td>60</td>\n",
              "      <td>--</td>\n",
              "      <td>1078.0</td>\n",
              "      <td>128</td>\n",
              "      <td>9</td>\n",
              "      <td>11</td>\n",
              "      <td>13</td>\n",
              "      <td>12</td>\n",
              "      <td>6.00</td>\n",
              "      <td>7.75</td>\n",
              "      <td>10.00</td>\n",
              "      <td>25.01</td>\n",
              "      <td>22.92</td>\n",
              "      <td>24.05</td>\n",
              "      <td>71.98</td>\n",
              "      <td>14.0</td>\n",
              "      <td>4.2</td>\n",
              "      <td>47</td>\n",
              "      <td>149</td>\n",
              "    </tr>\n",
              "    <tr>\n",
              "      <th>15</th>\n",
              "      <td>1</td>\n",
              "      <td>1997-06-02</td>\n",
              "      <td>ST</td>\n",
              "      <td>2</td>\n",
              "      <td>A</td>\n",
              "      <td>0</td>\n",
              "      <td>1200</td>\n",
              "      <td>GOOD TO FIRM</td>\n",
              "      <td>40-15</td>\n",
              "      <td>485000.0</td>\n",
              "      <td>5</td>\n",
              "      <td>24.05</td>\n",
              "      <td>22.64</td>\n",
              "      <td>23.70</td>\n",
              "      <td>24.05</td>\n",
              "      <td>46.69</td>\n",
              "      <td>70.39</td>\n",
              "      <td>5</td>\n",
              "      <td>13</td>\n",
              "      <td>4.0</td>\n",
              "      <td>12.5</td>\n",
              "      <td>47.0</td>\n",
              "      <td>33.5</td>\n",
              "      <td>5</td>\n",
              "      <td>23.5</td>\n",
              "      <td>2</td>\n",
              "      <td>4181</td>\n",
              "      <td>10</td>\n",
              "      <td>0.0</td>\n",
              "      <td>6.75</td>\n",
              "      <td>3</td>\n",
              "      <td>NZ</td>\n",
              "      <td>Gelding</td>\n",
              "      <td>60</td>\n",
              "      <td>--</td>\n",
              "      <td>1257.0</td>\n",
              "      <td>132</td>\n",
              "      <td>8</td>\n",
              "      <td>12</td>\n",
              "      <td>11</td>\n",
              "      <td>10</td>\n",
              "      <td>6.25</td>\n",
              "      <td>7.50</td>\n",
              "      <td>6.75</td>\n",
              "      <td>25.05</td>\n",
              "      <td>22.84</td>\n",
              "      <td>23.58</td>\n",
              "      <td>71.47</td>\n",
              "      <td>28.0</td>\n",
              "      <td>8.5</td>\n",
              "      <td>98</td>\n",
              "      <td>64</td>\n",
              "    </tr>\n",
              "    <tr>\n",
              "      <th>16</th>\n",
              "      <td>1</td>\n",
              "      <td>1997-06-02</td>\n",
              "      <td>ST</td>\n",
              "      <td>2</td>\n",
              "      <td>A</td>\n",
              "      <td>0</td>\n",
              "      <td>1200</td>\n",
              "      <td>GOOD TO FIRM</td>\n",
              "      <td>40-15</td>\n",
              "      <td>485000.0</td>\n",
              "      <td>5</td>\n",
              "      <td>24.05</td>\n",
              "      <td>22.64</td>\n",
              "      <td>23.70</td>\n",
              "      <td>24.05</td>\n",
              "      <td>46.69</td>\n",
              "      <td>70.39</td>\n",
              "      <td>5</td>\n",
              "      <td>13</td>\n",
              "      <td>4.0</td>\n",
              "      <td>12.5</td>\n",
              "      <td>47.0</td>\n",
              "      <td>33.5</td>\n",
              "      <td>5</td>\n",
              "      <td>23.5</td>\n",
              "      <td>3</td>\n",
              "      <td>2814</td>\n",
              "      <td>8</td>\n",
              "      <td>0.0</td>\n",
              "      <td>3.75</td>\n",
              "      <td>3</td>\n",
              "      <td>AUS</td>\n",
              "      <td>Horse</td>\n",
              "      <td>60</td>\n",
              "      <td>--</td>\n",
              "      <td>1037.0</td>\n",
              "      <td>130</td>\n",
              "      <td>5</td>\n",
              "      <td>8</td>\n",
              "      <td>9</td>\n",
              "      <td>8</td>\n",
              "      <td>4.50</td>\n",
              "      <td>6.25</td>\n",
              "      <td>3.75</td>\n",
              "      <td>24.77</td>\n",
              "      <td>22.92</td>\n",
              "      <td>23.29</td>\n",
              "      <td>70.98</td>\n",
              "      <td>7.0</td>\n",
              "      <td>1.7</td>\n",
              "      <td>75</td>\n",
              "      <td>183</td>\n",
              "    </tr>\n",
              "    <tr>\n",
              "      <th>17</th>\n",
              "      <td>1</td>\n",
              "      <td>1997-06-02</td>\n",
              "      <td>ST</td>\n",
              "      <td>2</td>\n",
              "      <td>A</td>\n",
              "      <td>0</td>\n",
              "      <td>1200</td>\n",
              "      <td>GOOD TO FIRM</td>\n",
              "      <td>40-15</td>\n",
              "      <td>485000.0</td>\n",
              "      <td>5</td>\n",
              "      <td>24.05</td>\n",
              "      <td>22.64</td>\n",
              "      <td>23.70</td>\n",
              "      <td>24.05</td>\n",
              "      <td>46.69</td>\n",
              "      <td>70.39</td>\n",
              "      <td>5</td>\n",
              "      <td>13</td>\n",
              "      <td>4.0</td>\n",
              "      <td>12.5</td>\n",
              "      <td>47.0</td>\n",
              "      <td>33.5</td>\n",
              "      <td>5</td>\n",
              "      <td>23.5</td>\n",
              "      <td>4</td>\n",
              "      <td>905</td>\n",
              "      <td>3</td>\n",
              "      <td>0.0</td>\n",
              "      <td>2.25</td>\n",
              "      <td>3</td>\n",
              "      <td>AUS</td>\n",
              "      <td>Gelding</td>\n",
              "      <td>60</td>\n",
              "      <td>--</td>\n",
              "      <td>1168.0</td>\n",
              "      <td>126</td>\n",
              "      <td>11</td>\n",
              "      <td>14</td>\n",
              "      <td>14</td>\n",
              "      <td>3</td>\n",
              "      <td>6.75</td>\n",
              "      <td>8.00</td>\n",
              "      <td>2.25</td>\n",
              "      <td>25.13</td>\n",
              "      <td>22.84</td>\n",
              "      <td>22.75</td>\n",
              "      <td>70.72</td>\n",
              "      <td>12.0</td>\n",
              "      <td>3.3</td>\n",
              "      <td>29</td>\n",
              "      <td>18</td>\n",
              "    </tr>\n",
              "    <tr>\n",
              "      <th>18</th>\n",
              "      <td>1</td>\n",
              "      <td>1997-06-02</td>\n",
              "      <td>ST</td>\n",
              "      <td>2</td>\n",
              "      <td>A</td>\n",
              "      <td>0</td>\n",
              "      <td>1200</td>\n",
              "      <td>GOOD TO FIRM</td>\n",
              "      <td>40-15</td>\n",
              "      <td>485000.0</td>\n",
              "      <td>5</td>\n",
              "      <td>24.05</td>\n",
              "      <td>22.64</td>\n",
              "      <td>23.70</td>\n",
              "      <td>24.05</td>\n",
              "      <td>46.69</td>\n",
              "      <td>70.39</td>\n",
              "      <td>5</td>\n",
              "      <td>13</td>\n",
              "      <td>4.0</td>\n",
              "      <td>12.5</td>\n",
              "      <td>47.0</td>\n",
              "      <td>33.5</td>\n",
              "      <td>5</td>\n",
              "      <td>23.5</td>\n",
              "      <td>5</td>\n",
              "      <td>3915</td>\n",
              "      <td>1</td>\n",
              "      <td>1.0</td>\n",
              "      <td>0.00</td>\n",
              "      <td>3</td>\n",
              "      <td>AUS</td>\n",
              "      <td>Gelding</td>\n",
              "      <td>60</td>\n",
              "      <td>--</td>\n",
              "      <td>1148.0</td>\n",
              "      <td>125</td>\n",
              "      <td>10</td>\n",
              "      <td>5</td>\n",
              "      <td>4</td>\n",
              "      <td>1</td>\n",
              "      <td>3.00</td>\n",
              "      <td>4.00</td>\n",
              "      <td>1.25</td>\n",
              "      <td>24.53</td>\n",
              "      <td>22.80</td>\n",
              "      <td>23.06</td>\n",
              "      <td>70.39</td>\n",
              "      <td>2.3</td>\n",
              "      <td>1.2</td>\n",
              "      <td>118</td>\n",
              "      <td>2</td>\n",
              "    </tr>\n",
              "    <tr>\n",
              "      <th>...</th>\n",
              "      <td>...</td>\n",
              "      <td>...</td>\n",
              "      <td>...</td>\n",
              "      <td>...</td>\n",
              "      <td>...</td>\n",
              "      <td>...</td>\n",
              "      <td>...</td>\n",
              "      <td>...</td>\n",
              "      <td>...</td>\n",
              "      <td>...</td>\n",
              "      <td>...</td>\n",
              "      <td>...</td>\n",
              "      <td>...</td>\n",
              "      <td>...</td>\n",
              "      <td>...</td>\n",
              "      <td>...</td>\n",
              "      <td>...</td>\n",
              "      <td>...</td>\n",
              "      <td>...</td>\n",
              "      <td>...</td>\n",
              "      <td>...</td>\n",
              "      <td>...</td>\n",
              "      <td>...</td>\n",
              "      <td>...</td>\n",
              "      <td>...</td>\n",
              "      <td>...</td>\n",
              "      <td>...</td>\n",
              "      <td>...</td>\n",
              "      <td>...</td>\n",
              "      <td>...</td>\n",
              "      <td>...</td>\n",
              "      <td>...</td>\n",
              "      <td>...</td>\n",
              "      <td>...</td>\n",
              "      <td>...</td>\n",
              "      <td>...</td>\n",
              "      <td>...</td>\n",
              "      <td>...</td>\n",
              "      <td>...</td>\n",
              "      <td>...</td>\n",
              "      <td>...</td>\n",
              "      <td>...</td>\n",
              "      <td>...</td>\n",
              "      <td>...</td>\n",
              "      <td>...</td>\n",
              "      <td>...</td>\n",
              "      <td>...</td>\n",
              "      <td>...</td>\n",
              "      <td>...</td>\n",
              "      <td>...</td>\n",
              "      <td>...</td>\n",
              "      <td>...</td>\n",
              "    </tr>\n",
              "    <tr>\n",
              "      <th>79428</th>\n",
              "      <td>6347</td>\n",
              "      <td>2005-08-28</td>\n",
              "      <td>ST</td>\n",
              "      <td>9</td>\n",
              "      <td>A</td>\n",
              "      <td>0</td>\n",
              "      <td>1200</td>\n",
              "      <td>GOOD</td>\n",
              "      <td>100-80</td>\n",
              "      <td>1750000.0</td>\n",
              "      <td>2</td>\n",
              "      <td>23.65</td>\n",
              "      <td>22.54</td>\n",
              "      <td>22.97</td>\n",
              "      <td>23.65</td>\n",
              "      <td>46.19</td>\n",
              "      <td>69.16</td>\n",
              "      <td>9</td>\n",
              "      <td>6</td>\n",
              "      <td>4.0</td>\n",
              "      <td>11.0</td>\n",
              "      <td>37.0</td>\n",
              "      <td>21.5</td>\n",
              "      <td>9</td>\n",
              "      <td>16.0</td>\n",
              "      <td>10</td>\n",
              "      <td>4355</td>\n",
              "      <td>12</td>\n",
              "      <td>0.0</td>\n",
              "      <td>9.25</td>\n",
              "      <td>4</td>\n",
              "      <td>AUS</td>\n",
              "      <td>Gelding</td>\n",
              "      <td>85</td>\n",
              "      <td>B/H</td>\n",
              "      <td>1193.0</td>\n",
              "      <td>112</td>\n",
              "      <td>2</td>\n",
              "      <td>6</td>\n",
              "      <td>4</td>\n",
              "      <td>12</td>\n",
              "      <td>1.50</td>\n",
              "      <td>1.50</td>\n",
              "      <td>9.25</td>\n",
              "      <td>23.89</td>\n",
              "      <td>22.54</td>\n",
              "      <td>24.19</td>\n",
              "      <td>70.62</td>\n",
              "      <td>23.0</td>\n",
              "      <td>NaN</td>\n",
              "      <td>73</td>\n",
              "      <td>86</td>\n",
              "    </tr>\n",
              "    <tr>\n",
              "      <th>79429</th>\n",
              "      <td>6347</td>\n",
              "      <td>2005-08-28</td>\n",
              "      <td>ST</td>\n",
              "      <td>9</td>\n",
              "      <td>A</td>\n",
              "      <td>0</td>\n",
              "      <td>1200</td>\n",
              "      <td>GOOD</td>\n",
              "      <td>100-80</td>\n",
              "      <td>1750000.0</td>\n",
              "      <td>2</td>\n",
              "      <td>23.65</td>\n",
              "      <td>22.54</td>\n",
              "      <td>22.97</td>\n",
              "      <td>23.65</td>\n",
              "      <td>46.19</td>\n",
              "      <td>69.16</td>\n",
              "      <td>9</td>\n",
              "      <td>6</td>\n",
              "      <td>4.0</td>\n",
              "      <td>11.0</td>\n",
              "      <td>37.0</td>\n",
              "      <td>21.5</td>\n",
              "      <td>9</td>\n",
              "      <td>16.0</td>\n",
              "      <td>11</td>\n",
              "      <td>1702</td>\n",
              "      <td>13</td>\n",
              "      <td>0.0</td>\n",
              "      <td>10.25</td>\n",
              "      <td>6</td>\n",
              "      <td>AUS</td>\n",
              "      <td>Gelding</td>\n",
              "      <td>83</td>\n",
              "      <td>V</td>\n",
              "      <td>1188.0</td>\n",
              "      <td>120</td>\n",
              "      <td>3</td>\n",
              "      <td>3</td>\n",
              "      <td>6</td>\n",
              "      <td>13</td>\n",
              "      <td>0.75</td>\n",
              "      <td>2.75</td>\n",
              "      <td>10.25</td>\n",
              "      <td>23.77</td>\n",
              "      <td>22.86</td>\n",
              "      <td>24.16</td>\n",
              "      <td>70.79</td>\n",
              "      <td>99.0</td>\n",
              "      <td>NaN</td>\n",
              "      <td>80</td>\n",
              "      <td>17</td>\n",
              "    </tr>\n",
              "    <tr>\n",
              "      <th>79430</th>\n",
              "      <td>6347</td>\n",
              "      <td>2005-08-28</td>\n",
              "      <td>ST</td>\n",
              "      <td>9</td>\n",
              "      <td>A</td>\n",
              "      <td>0</td>\n",
              "      <td>1200</td>\n",
              "      <td>GOOD</td>\n",
              "      <td>100-80</td>\n",
              "      <td>1750000.0</td>\n",
              "      <td>2</td>\n",
              "      <td>23.65</td>\n",
              "      <td>22.54</td>\n",
              "      <td>22.97</td>\n",
              "      <td>23.65</td>\n",
              "      <td>46.19</td>\n",
              "      <td>69.16</td>\n",
              "      <td>9</td>\n",
              "      <td>6</td>\n",
              "      <td>4.0</td>\n",
              "      <td>11.0</td>\n",
              "      <td>37.0</td>\n",
              "      <td>21.5</td>\n",
              "      <td>9</td>\n",
              "      <td>16.0</td>\n",
              "      <td>12</td>\n",
              "      <td>2576</td>\n",
              "      <td>9</td>\n",
              "      <td>0.0</td>\n",
              "      <td>5.25</td>\n",
              "      <td>5</td>\n",
              "      <td>GB</td>\n",
              "      <td>Gelding</td>\n",
              "      <td>83</td>\n",
              "      <td>B</td>\n",
              "      <td>1103.0</td>\n",
              "      <td>118</td>\n",
              "      <td>14</td>\n",
              "      <td>2</td>\n",
              "      <td>2</td>\n",
              "      <td>9</td>\n",
              "      <td>0.15</td>\n",
              "      <td>0.50</td>\n",
              "      <td>5.25</td>\n",
              "      <td>23.65</td>\n",
              "      <td>22.62</td>\n",
              "      <td>23.72</td>\n",
              "      <td>69.99</td>\n",
              "      <td>99.0</td>\n",
              "      <td>NaN</td>\n",
              "      <td>55</td>\n",
              "      <td>40</td>\n",
              "    </tr>\n",
              "    <tr>\n",
              "      <th>79431</th>\n",
              "      <td>6347</td>\n",
              "      <td>2005-08-28</td>\n",
              "      <td>ST</td>\n",
              "      <td>9</td>\n",
              "      <td>A</td>\n",
              "      <td>0</td>\n",
              "      <td>1200</td>\n",
              "      <td>GOOD</td>\n",
              "      <td>100-80</td>\n",
              "      <td>1750000.0</td>\n",
              "      <td>2</td>\n",
              "      <td>23.65</td>\n",
              "      <td>22.54</td>\n",
              "      <td>22.97</td>\n",
              "      <td>23.65</td>\n",
              "      <td>46.19</td>\n",
              "      <td>69.16</td>\n",
              "      <td>9</td>\n",
              "      <td>6</td>\n",
              "      <td>4.0</td>\n",
              "      <td>11.0</td>\n",
              "      <td>37.0</td>\n",
              "      <td>21.5</td>\n",
              "      <td>9</td>\n",
              "      <td>16.0</td>\n",
              "      <td>13</td>\n",
              "      <td>1391</td>\n",
              "      <td>14</td>\n",
              "      <td>0.0</td>\n",
              "      <td>10.75</td>\n",
              "      <td>4</td>\n",
              "      <td>AUS</td>\n",
              "      <td>Gelding</td>\n",
              "      <td>81</td>\n",
              "      <td>H/XB</td>\n",
              "      <td>1121.0</td>\n",
              "      <td>116</td>\n",
              "      <td>12</td>\n",
              "      <td>5</td>\n",
              "      <td>8</td>\n",
              "      <td>14</td>\n",
              "      <td>1.50</td>\n",
              "      <td>3.00</td>\n",
              "      <td>10.75</td>\n",
              "      <td>23.89</td>\n",
              "      <td>22.78</td>\n",
              "      <td>24.21</td>\n",
              "      <td>70.88</td>\n",
              "      <td>99.0</td>\n",
              "      <td>NaN</td>\n",
              "      <td>47</td>\n",
              "      <td>76</td>\n",
              "    </tr>\n",
              "    <tr>\n",
              "      <th>79432</th>\n",
              "      <td>6347</td>\n",
              "      <td>2005-08-28</td>\n",
              "      <td>ST</td>\n",
              "      <td>9</td>\n",
              "      <td>A</td>\n",
              "      <td>0</td>\n",
              "      <td>1200</td>\n",
              "      <td>GOOD</td>\n",
              "      <td>100-80</td>\n",
              "      <td>1750000.0</td>\n",
              "      <td>2</td>\n",
              "      <td>23.65</td>\n",
              "      <td>22.54</td>\n",
              "      <td>22.97</td>\n",
              "      <td>23.65</td>\n",
              "      <td>46.19</td>\n",
              "      <td>69.16</td>\n",
              "      <td>9</td>\n",
              "      <td>6</td>\n",
              "      <td>4.0</td>\n",
              "      <td>11.0</td>\n",
              "      <td>37.0</td>\n",
              "      <td>21.5</td>\n",
              "      <td>9</td>\n",
              "      <td>16.0</td>\n",
              "      <td>14</td>\n",
              "      <td>3912</td>\n",
              "      <td>11</td>\n",
              "      <td>0.0</td>\n",
              "      <td>6.50</td>\n",
              "      <td>4</td>\n",
              "      <td>NZ</td>\n",
              "      <td>Gelding</td>\n",
              "      <td>81</td>\n",
              "      <td>--</td>\n",
              "      <td>1124.0</td>\n",
              "      <td>116</td>\n",
              "      <td>1</td>\n",
              "      <td>8</td>\n",
              "      <td>9</td>\n",
              "      <td>11</td>\n",
              "      <td>2.50</td>\n",
              "      <td>3.75</td>\n",
              "      <td>6.50</td>\n",
              "      <td>24.05</td>\n",
              "      <td>22.74</td>\n",
              "      <td>23.40</td>\n",
              "      <td>70.19</td>\n",
              "      <td>42.0</td>\n",
              "      <td>NaN</td>\n",
              "      <td>75</td>\n",
              "      <td>175</td>\n",
              "    </tr>\n",
              "  </tbody>\n",
              "</table>\n",
              "<p>19593 rows × 52 columns</p>\n",
              "</div>"
            ],
            "text/plain": [
              "       race_id       date venue  ...  place_odds trainer_id  jockey_id\n",
              "14           1 1997-06-02    ST  ...         4.2         47        149\n",
              "15           1 1997-06-02    ST  ...         8.5         98         64\n",
              "16           1 1997-06-02    ST  ...         1.7         75        183\n",
              "17           1 1997-06-02    ST  ...         3.3         29         18\n",
              "18           1 1997-06-02    ST  ...         1.2        118          2\n",
              "...        ...        ...   ...  ...         ...        ...        ...\n",
              "79428     6347 2005-08-28    ST  ...         NaN         73         86\n",
              "79429     6347 2005-08-28    ST  ...         NaN         80         17\n",
              "79430     6347 2005-08-28    ST  ...         NaN         55         40\n",
              "79431     6347 2005-08-28    ST  ...         NaN         47         76\n",
              "79432     6347 2005-08-28    ST  ...         NaN         75        175\n",
              "\n",
              "[19593 rows x 52 columns]"
            ]
          },
          "metadata": {},
          "execution_count": 757
        }
      ]
    },
    {
      "cell_type": "code",
      "metadata": {
        "colab": {
          "base_uri": "https://localhost:8080/"
        },
        "id": "LSZjZ47EezRr",
        "outputId": "21fa30be-6d1d-4e77-a2d6-c96edaaecaf3"
      },
      "source": [
        "df_m_1200['finish_time'].max() , df_m_1200_clean['finish_time'].max()"
      ],
      "execution_count": null,
      "outputs": [
        {
          "output_type": "execute_result",
          "data": {
            "text/plain": [
              "(99.68, 72.91)"
            ]
          },
          "metadata": {},
          "execution_count": 758
        }
      ]
    },
    {
      "cell_type": "code",
      "metadata": {
        "colab": {
          "base_uri": "https://localhost:8080/"
        },
        "id": "RMHTbc1XqufI",
        "outputId": "bb1374ce-c845-4f2a-ff0c-1c7fbd6e58d5"
      },
      "source": [
        "sns.boxplot(x=df_m_1200_clean['distance'], y=df_m_1200_clean['finish_time'])"
      ],
      "execution_count": null,
      "outputs": [
        {
          "output_type": "execute_result",
          "data": {
            "text/plain": [
              "<matplotlib.axes._subplots.AxesSubplot at 0x7f42e9e780d0>"
            ]
          },
          "metadata": {},
          "execution_count": 759
        },
        {
          "output_type": "display_data",
          "data": {
            "image/png": "[encoded data removed]",
            "text/plain": [
              "<Figure size 1800x1440 with 1 Axes>"
            ]
          },
          "metadata": {}
        }
      ]
    },
    {
      "cell_type": "code",
      "metadata": {
        "colab": {
          "base_uri": "https://localhost:8080/"
        },
        "id": "5TkOLCLAQh6p",
        "outputId": "55bab58e-b07f-44a5-9d91-dfc179681c2e"
      },
      "source": [
        "df_m_1200['prize'].describe()"
      ],
      "execution_count": null,
      "outputs": [
        {
          "output_type": "execute_result",
          "data": {
            "text/plain": [
              "count    1.871500e+04\n",
              "mean     1.030741e+06\n",
              "std      1.266203e+06\n",
              "min      4.850000e+05\n",
              "25%      6.750000e+05\n",
              "50%      8.400000e+05\n",
              "75%      1.060000e+06\n",
              "max      1.850000e+07\n",
              "Name: prize, dtype: float64"
            ]
          },
          "metadata": {},
          "execution_count": 760
        }
      ]
    },
    {
      "cell_type": "code",
      "metadata": {
        "id": "eRCgdfPGTDOB"
      },
      "source": [
        "q1 = 6.750000e+05\n",
        "q3 = 1.060000e+06\n",
        "iqr = q3 - q1\n",
        "upper = q3 + (iqr*3)\n",
        "lower = q1 - (iqr*1.5)"
      ],
      "execution_count": null,
      "outputs": []
    },
    {
      "cell_type": "code",
      "metadata": {
        "colab": {
          "base_uri": "https://localhost:8080/"
        },
        "id": "HvgjN8qRP_02",
        "outputId": "f68b3603-f0a5-4ef0-9cf3-295b42751fed"
      },
      "source": [
        "len(df_m_1200[(df_m_1200['prize'] < lower) | (df_m_1200['prize'] > upper)]) , len(df_m_1200['prize']) , len(df_m_1200[(df_m_1200['prize'] < lower) | (df_m_1200['prize'] > upper)]) / len(df_m_1200['prize']) "
      ],
      "execution_count": null,
      "outputs": [
        {
          "output_type": "execute_result",
          "data": {
            "text/plain": [
              "(608, 20075, 0.030286425902864258)"
            ]
          },
          "metadata": {},
          "execution_count": 762
        }
      ]
    },
    {
      "cell_type": "code",
      "metadata": {
        "colab": {
          "base_uri": "https://localhost:8080/"
        },
        "id": "MeBhsCEjTcPQ",
        "outputId": "f1a67b30-624a-4700-9e8e-ed9d1257266b"
      },
      "source": [
        "df_m_1200_clean['prize'] = df_m_1200[df_m_1200['prize'] < upper]"
      ],
      "execution_count": null,
      "outputs": [
        {
          "output_type": "stream",
          "name": "stderr",
          "text": [
            "/usr/local/lib/python3.7/dist-packages/ipykernel_launcher.py:1: SettingWithCopyWarning: \n",
            "A value is trying to be set on a copy of a slice from a DataFrame.\n",
            "Try using .loc[row_indexer,col_indexer] = value instead\n",
            "\n",
            "See the caveats in the documentation: https://pandas.pydata.org/pandas-docs/stable/user_guide/indexing.html#returning-a-view-versus-a-copy\n",
            "  \"\"\"Entry point for launching an IPython kernel.\n"
          ]
        }
      ]
    },
    {
      "cell_type": "code",
      "metadata": {
        "colab": {
          "base_uri": "https://localhost:8080/"
        },
        "id": "B1gGbyPMOEyS",
        "outputId": "80868e0f-c241-42ce-fe9d-e9436c615853"
      },
      "source": [
        "plt.figure(figsize=(8, 4))\n",
        "plt.subplot(1, 2, 1)\n",
        "fig = sns.boxplot(df_m_1200_clean['prize'])\n",
        "fig.set_ylabel(var)\n",
        "\n",
        "plt.subplot(1, 2, 2)\n",
        "fig = df_m_1200_clean['prize'].hist(bins=100)\n",
        "fig.set_xlabel('prize')\n",
        "fig.set_ylabel(var)\n",
        "\n",
        "plt.show();"
      ],
      "execution_count": null,
      "outputs": [
        {
          "output_type": "stream",
          "name": "stderr",
          "text": [
            "/usr/local/lib/python3.7/dist-packages/seaborn/_decorators.py:43: FutureWarning: Pass the following variable as a keyword arg: x. From version 0.12, the only valid positional argument will be `data`, and passing other arguments without an explicit keyword will result in an error or misinterpretation.\n",
            "  FutureWarning\n"
          ]
        },
        {
          "output_type": "display_data",
          "data": {
            "image/png": "[encoded data removed]",
            "text/plain": [
              "<Figure size 576x288 with 2 Axes>"
            ]
          },
          "metadata": {}
        }
      ]
    },
    {
      "cell_type": "markdown",
      "metadata": {
        "id": "w_6P22etesS5"
      },
      "source": [
        "place odds"
      ]
    },
    {
      "cell_type": "code",
      "metadata": {
        "colab": {
          "base_uri": "https://localhost:8080/"
        },
        "id": "3S3UVR1ofMM9",
        "outputId": "acbd5eff-4f06-4378-efe5-0aa261ba4c13"
      },
      "source": [
        "df_m_1200_clean.place_odds.describe()"
      ],
      "execution_count": null,
      "outputs": [
        {
          "output_type": "execute_result",
          "data": {
            "text/plain": [
              "count    18542.000000\n",
              "mean         7.673946\n",
              "std          9.174745\n",
              "min          1.000000\n",
              "25%          2.300000\n",
              "50%          4.100000\n",
              "75%          9.000000\n",
              "max         87.000000\n",
              "Name: place_odds, dtype: float64"
            ]
          },
          "metadata": {},
          "execution_count": 765
        }
      ]
    },
    {
      "cell_type": "code",
      "metadata": {
        "colab": {
          "base_uri": "https://localhost:8080/"
        },
        "id": "zA-MP-tqvQWC",
        "outputId": "1c45793e-eaf2-43e9-dc07-27ea30332034"
      },
      "source": [
        "df_m_1200_clean.place_odds.isna().sum()/len(df_m_1200_clean.place_odds)"
      ],
      "execution_count": null,
      "outputs": [
        {
          "output_type": "execute_result",
          "data": {
            "text/plain": [
              "0.05364160669626908"
            ]
          },
          "metadata": {},
          "execution_count": 766
        }
      ]
    },
    {
      "cell_type": "code",
      "metadata": {
        "colab": {
          "base_uri": "https://localhost:8080/"
        },
        "id": "ykyyftFXvnfu",
        "outputId": "a5651097-d725-49ca-8294-1f2474413d0e"
      },
      "source": [
        "df_m_1200_clean.place_odds.median()"
      ],
      "execution_count": null,
      "outputs": [
        {
          "output_type": "execute_result",
          "data": {
            "text/plain": [
              "4.1"
            ]
          },
          "metadata": {},
          "execution_count": 767
        }
      ]
    },
    {
      "cell_type": "code",
      "metadata": {
        "id": "sw-JROv3fHI7"
      },
      "source": [
        "q1 = 2.300000\n",
        "q3 = 9.000000\n",
        "iqr = q3 - q1\n",
        "upper = q3 + (iqr*3)\n",
        "lower = q1 - (iqr*1.5)"
      ],
      "execution_count": null,
      "outputs": []
    },
    {
      "cell_type": "code",
      "metadata": {
        "colab": {
          "base_uri": "https://localhost:8080/"
        },
        "id": "ROIBy_DnfHFa",
        "outputId": "1418f62f-74c1-4baf-fe19-e91d9ff525a3"
      },
      "source": [
        "len(df_m_1200[(df_m_1200['place_odds'] < lower) | (df_m_1200['place_odds'] > upper)]) , len(df_m_1200['place_odds']) , len(df_m_1200[(df_m_1200['place_odds'] < lower) | (df_m_1200['place_odds'] > upper)]) / len(df_m_1200['place_odds']) "
      ],
      "execution_count": null,
      "outputs": [
        {
          "output_type": "execute_result",
          "data": {
            "text/plain": [
              "(864, 20075, 0.04303860523038605)"
            ]
          },
          "metadata": {},
          "execution_count": 769
        }
      ]
    },
    {
      "cell_type": "code",
      "metadata": {
        "colab": {
          "base_uri": "https://localhost:8080/"
        },
        "id": "Fh-8QntQfJw2",
        "outputId": "5c40322c-6935-4613-b70a-ae01bfac47e8"
      },
      "source": [
        "df_m_1200_clean['place_odds'] = df_m_1200[df_m_1200['place_odds'] < upper]"
      ],
      "execution_count": null,
      "outputs": [
        {
          "output_type": "stream",
          "name": "stderr",
          "text": [
            "/usr/local/lib/python3.7/dist-packages/ipykernel_launcher.py:1: SettingWithCopyWarning: \n",
            "A value is trying to be set on a copy of a slice from a DataFrame.\n",
            "Try using .loc[row_indexer,col_indexer] = value instead\n",
            "\n",
            "See the caveats in the documentation: https://pandas.pydata.org/pandas-docs/stable/user_guide/indexing.html#returning-a-view-versus-a-copy\n",
            "  \"\"\"Entry point for launching an IPython kernel.\n"
          ]
        }
      ]
    },
    {
      "cell_type": "code",
      "metadata": {
        "colab": {
          "base_uri": "https://localhost:8080/"
        },
        "id": "uVyfv7bxerPV",
        "outputId": "1db4c0d2-a00a-4870-982d-ea2d13213506"
      },
      "source": [
        "plt.figure(figsize=(8, 4))\n",
        "plt.subplot(1, 2, 1)\n",
        "fig = sns.boxplot(df_m_1200_clean['place_odds'])\n",
        "fig.set_ylabel('place_odds')\n",
        "\n",
        "plt.subplot(1, 2, 2)\n",
        "fig = df_m_1200_clean['place_odds'].hist(bins=100)\n",
        "fig.set_xlabel('odds')\n",
        "fig.set_ylabel('')\n",
        "\n",
        "plt.show();"
      ],
      "execution_count": null,
      "outputs": [
        {
          "output_type": "stream",
          "name": "stderr",
          "text": [
            "/usr/local/lib/python3.7/dist-packages/seaborn/_decorators.py:43: FutureWarning: Pass the following variable as a keyword arg: x. From version 0.12, the only valid positional argument will be `data`, and passing other arguments without an explicit keyword will result in an error or misinterpretation.\n",
            "  FutureWarning\n"
          ]
        },
        {
          "output_type": "display_data",
          "data": {
            "image/png": "[encoded data removed]",
            "text/plain": [
              "<Figure size 576x288 with 2 Axes>"
            ]
          },
          "metadata": {}
        }
      ]
    },
    {
      "cell_type": "markdown",
      "metadata": {
        "id": "Gr7p8AkzPamL"
      },
      "source": [
        "### Fill NA"
      ]
    },
    {
      "cell_type": "code",
      "metadata": {
        "colab": {
          "base_uri": "https://localhost:8080/"
        },
        "id": "-G7aIsj5IbPR",
        "outputId": "6cb96094-103d-4a72-949c-88dd725d2f83"
      },
      "source": [
        "df_m_1200.isnull().sum() / len(df_m_1200) * 100"
      ],
      "execution_count": null,
      "outputs": [
        {
          "output_type": "execute_result",
          "data": {
            "text/plain": [
              "race_id               0.000000\n",
              "date                  0.000000\n",
              "venue                 0.000000\n",
              "race_no               0.000000\n",
              "config                0.000000\n",
              "surface               0.000000\n",
              "distance              0.000000\n",
              "going                 0.000000\n",
              "horse_ratings         0.000000\n",
              "prize                 6.774595\n",
              "race_class            0.000000\n",
              "sec_time1             0.000000\n",
              "sec_time2             0.000000\n",
              "sec_time3             0.000000\n",
              "lider_time1           0.000000\n",
              "lider_time2           0.000000\n",
              "lider_time3           0.000000\n",
              "place_combination1    0.000000\n",
              "place_combination2    0.000000\n",
              "place_combination3    0.079701\n",
              "place_dividend1       0.000000\n",
              "place_dividend2       0.000000\n",
              "place_dividend3       0.079701\n",
              "win_combination1      0.000000\n",
              "win_dividend1         0.000000\n",
              "horse_no              0.000000\n",
              "horse_id              0.000000\n",
              "result                0.000000\n",
              "won                   0.000000\n",
              "lengths_behind        0.000000\n",
              "horse_age             0.000000\n",
              "horse_country         0.004981\n",
              "horse_type            0.004981\n",
              "horse_rating          0.000000\n",
              "horse_gear            0.000000\n",
              "declared_weight       0.000000\n",
              "carried_weight        0.000000\n",
              "draw                  0.000000\n",
              "position_sec1         0.000000\n",
              "position_sec2         0.000000\n",
              "position_sec3         0.000000\n",
              "behind_sec1           0.000000\n",
              "behind_sec2           0.000000\n",
              "behind_sec3           0.000000\n",
              "horse_time1           0.000000\n",
              "horse_time2           0.000000\n",
              "horse_time3           0.000000\n",
              "finish_time           0.000000\n",
              "win_odds              0.000000\n",
              "place_odds            5.339975\n",
              "trainer_id            0.000000\n",
              "jockey_id             0.000000\n",
              "dtype: float64"
            ]
          },
          "metadata": {},
          "execution_count": 772
        }
      ]
    },
    {
      "cell_type": "code",
      "metadata": {
        "colab": {
          "base_uri": "https://localhost:8080/"
        },
        "id": "jqp1_LLhJtwz",
        "outputId": "2aa52656-3043-4434-8363-45ff700de382"
      },
      "source": [
        "na_vals = df_m_1200_clean.isna().sum()\n",
        "for i,a in enumerate(na_vals):\n",
        "  if a>0:\n",
        "    print(na_vals.index[i],a)"
      ],
      "execution_count": null,
      "outputs": [
        {
          "output_type": "stream",
          "name": "stdout",
          "text": [
            "prize 1862\n",
            "place_combination3 16\n",
            "place_dividend3 16\n",
            "horse_country 1\n",
            "horse_type 1\n",
            "place_odds 1849\n"
          ]
        }
      ]
    },
    {
      "cell_type": "code",
      "metadata": {
        "colab": {
          "base_uri": "https://localhost:8080/"
        },
        "id": "NMH-pTT0MHYt",
        "outputId": "66d30f0f-71d1-4469-836c-c87a9a07b71d"
      },
      "source": [
        "df_m_1200_clean['prize'].isna().sum()/len(df_m_1200_clean['prize'])*100"
      ],
      "execution_count": null,
      "outputs": [
        {
          "output_type": "execute_result",
          "data": {
            "text/plain": [
              "9.503394069310469"
            ]
          },
          "metadata": {},
          "execution_count": 774
        }
      ]
    },
    {
      "cell_type": "code",
      "metadata": {
        "colab": {
          "base_uri": "https://localhost:8080/"
        },
        "id": "nXvEHV_mWOQO",
        "outputId": "15634dd4-ac78-4f66-f19d-84448d5a639c"
      },
      "source": [
        "df_m_1200_clean['prize'].fillna(value=df_m_1200_clean['prize'].median(),inplace=True)\n"
      ],
      "execution_count": null,
      "outputs": [
        {
          "output_type": "stream",
          "name": "stderr",
          "text": [
            "/usr/local/lib/python3.7/dist-packages/pandas/core/series.py:4536: SettingWithCopyWarning: \n",
            "A value is trying to be set on a copy of a slice from a DataFrame\n",
            "\n",
            "See the caveats in the documentation: https://pandas.pydata.org/pandas-docs/stable/user_guide/indexing.html#returning-a-view-versus-a-copy\n",
            "  downcast=downcast,\n"
          ]
        }
      ]
    },
    {
      "cell_type": "code",
      "metadata": {
        "colab": {
          "base_uri": "https://localhost:8080/"
        },
        "id": "p1KI9C-VuiHN",
        "outputId": "901b7ba7-ef40-4466-829a-b52053b3af77"
      },
      "source": [
        "df_m_1200_clean['place_odds'].fillna(value=df_m_1200_clean['place_odds'].median(),inplace=True)"
      ],
      "execution_count": null,
      "outputs": [
        {
          "output_type": "stream",
          "name": "stderr",
          "text": [
            "/usr/local/lib/python3.7/dist-packages/pandas/core/series.py:4536: SettingWithCopyWarning: \n",
            "A value is trying to be set on a copy of a slice from a DataFrame\n",
            "\n",
            "See the caveats in the documentation: https://pandas.pydata.org/pandas-docs/stable/user_guide/indexing.html#returning-a-view-versus-a-copy\n",
            "  downcast=downcast,\n"
          ]
        }
      ]
    },
    {
      "cell_type": "code",
      "metadata": {
        "colab": {
          "base_uri": "https://localhost:8080/"
        },
        "id": "O6b2J8bSqeob",
        "outputId": "a726f5e7-bf3f-49c5-bd76-2f682f43ed4b"
      },
      "source": [
        "df_m_1200_clean.drop(index=df_m_1200_clean[df_m_1200_clean['place_combination3'].isna()].index.values,inplace=True)\n",
        "df_m_1200_clean.drop(index=df_m_1200_clean[df_m_1200_clean['place_dividend3'].isna()].index.values,inplace=True)\n",
        "df_m_1200_clean.drop(index=df_m_1200_clean[df_m_1200_clean['horse_country'].isna()].index.values,inplace=True)\n",
        "df_m_1200_clean.drop(index=df_m_1200_clean[df_m_1200_clean['horse_type'].isna()].index.values,inplace=True)"
      ],
      "execution_count": null,
      "outputs": [
        {
          "output_type": "stream",
          "name": "stderr",
          "text": [
            "/usr/local/lib/python3.7/dist-packages/pandas/core/frame.py:4174: SettingWithCopyWarning: \n",
            "A value is trying to be set on a copy of a slice from a DataFrame\n",
            "\n",
            "See the caveats in the documentation: https://pandas.pydata.org/pandas-docs/stable/user_guide/indexing.html#returning-a-view-versus-a-copy\n",
            "  errors=errors,\n"
          ]
        }
      ]
    },
    {
      "cell_type": "code",
      "metadata": {
        "id": "AWvYquWZ9lc6",
        "colab": {
          "base_uri": "https://localhost:8080/",
          "height": 53
        },
        "outputId": "34f2c975-4489-42e2-f110-0b41b05f27f2"
      },
      "source": [
        "'''for var in df_m_1200_clean.columns:\n",
        "  plt.figure(figsize=(8, 4))\n",
        "  plt.subplot(1, 2, 1)\n",
        "  fig = df_m_1200_clean.boxplot(column=var)\n",
        "  fig.set_ylabel(var)\n",
        "\n",
        "  plt.subplot(1, 2, 2)\n",
        "  fig = df_m_1200_clean[var].hist(bins=20)\n",
        "  fig.set_xlabel('tiempo')\n",
        "  fig.set_ylabel(var)\n",
        "\n",
        "  plt.show();\n",
        "  '''"
      ],
      "execution_count": null,
      "outputs": [
        {
          "output_type": "execute_result",
          "data": {
            "application/vnd.google.colaboratory.intrinsic+json": {
              "type": "string"
            },
            "text/plain": [
              "\"for var in df_m_1200_clean.columns:\\n  plt.figure(figsize=(8, 4))\\n  plt.subplot(1, 2, 1)\\n  fig = df_m_1200_clean.boxplot(column=var)\\n  fig.set_ylabel(var)\\n\\n  plt.subplot(1, 2, 2)\\n  fig = df_m_1200_clean[var].hist(bins=20)\\n  fig.set_xlabel('tiempo')\\n  fig.set_ylabel(var)\\n\\n  plt.show();\\n  \""
            ]
          },
          "metadata": {},
          "execution_count": 778
        }
      ]
    },
    {
      "cell_type": "markdown",
      "metadata": {
        "id": "mf3t706BWn7q"
      },
      "source": [
        "### One hot encoder"
      ]
    },
    {
      "cell_type": "code",
      "metadata": {
        "id": "LdwU__3-f9_V"
      },
      "source": [
        "from sklearn.preprocessing import OneHotEncoder"
      ],
      "execution_count": null,
      "outputs": []
    },
    {
      "cell_type": "code",
      "metadata": {
        "colab": {
          "base_uri": "https://localhost:8080/"
        },
        "id": "QbOmZa3fWxTQ",
        "outputId": "185f4a18-67f4-4fd4-b2ef-d56fb5077c8a"
      },
      "source": [
        "df_m_1200.columns"
      ],
      "execution_count": null,
      "outputs": [
        {
          "output_type": "execute_result",
          "data": {
            "text/plain": [
              "Index(['race_id', 'date', 'venue', 'race_no', 'config', 'surface', 'distance',\n",
              "       'going', 'horse_ratings', 'prize', 'race_class', 'sec_time1',\n",
              "       'sec_time2', 'sec_time3', 'lider_time1', 'lider_time2', 'lider_time3',\n",
              "       'place_combination1', 'place_combination2', 'place_combination3',\n",
              "       'place_dividend1', 'place_dividend2', 'place_dividend3',\n",
              "       'win_combination1', 'win_dividend1', 'horse_no', 'horse_id', 'result',\n",
              "       'won', 'lengths_behind', 'horse_age', 'horse_country', 'horse_type',\n",
              "       'horse_rating', 'horse_gear', 'declared_weight', 'carried_weight',\n",
              "       'draw', 'position_sec1', 'position_sec2', 'position_sec3',\n",
              "       'behind_sec1', 'behind_sec2', 'behind_sec3', 'horse_time1',\n",
              "       'horse_time2', 'horse_time3', 'finish_time', 'win_odds', 'place_odds',\n",
              "       'trainer_id', 'jockey_id'],\n",
              "      dtype='object')"
            ]
          },
          "metadata": {},
          "execution_count": 780
        }
      ]
    },
    {
      "cell_type": "code",
      "metadata": {
        "id": "aXwHpfQdWxJG"
      },
      "source": [
        "one_hot = OneHotEncoder()"
      ],
      "execution_count": null,
      "outputs": []
    },
    {
      "cell_type": "code",
      "metadata": {
        "colab": {
          "base_uri": "https://localhost:8080/"
        },
        "id": "_J97j_4oi6a3",
        "outputId": "563cfdbf-03d9-4ce5-d09a-38e24bec2497"
      },
      "source": [
        "one_hot.fit(df_m_1200[['going']]).categories_"
      ],
      "execution_count": null,
      "outputs": [
        {
          "output_type": "execute_result",
          "data": {
            "text/plain": [
              "[array(['GOOD', 'GOOD TO FIRM', 'GOOD TO YIELDING', 'SOFT', 'YIELDING',\n",
              "        'YIELDING TO SOFT'], dtype=object)]"
            ]
          },
          "metadata": {},
          "execution_count": 782
        }
      ]
    },
    {
      "cell_type": "code",
      "metadata": {
        "colab": {
          "base_uri": "https://localhost:8080/"
        },
        "id": "APlW5FH6jN4a",
        "outputId": "6200c6dd-1c26-4a8c-9627-a28efa7ad88e"
      },
      "source": [
        "df_m_1200_clean[['GOOD', 'GOOD TO FIRM', 'GOOD TO YIELDING', 'SOFT', 'YIELDING', 'YIELDING TO SOFT']] = one_hot.fit_transform(df_m_1200_clean[['going']]).toarray()"
      ],
      "execution_count": null,
      "outputs": [
        {
          "output_type": "stream",
          "name": "stderr",
          "text": [
            "/usr/local/lib/python3.7/dist-packages/pandas/core/indexing.py:659: SettingWithCopyWarning: \n",
            "A value is trying to be set on a copy of a slice from a DataFrame.\n",
            "Try using .loc[row_indexer,col_indexer] = value instead\n",
            "\n",
            "See the caveats in the documentation: https://pandas.pydata.org/pandas-docs/stable/user_guide/indexing.html#returning-a-view-versus-a-copy\n",
            "  self.obj[k] = np.nan\n",
            "/usr/local/lib/python3.7/dist-packages/ipykernel_launcher.py:1: SettingWithCopyWarning: \n",
            "A value is trying to be set on a copy of a slice from a DataFrame.\n",
            "Try using .loc[row_indexer,col_indexer] = value instead\n",
            "\n",
            "See the caveats in the documentation: https://pandas.pydata.org/pandas-docs/stable/user_guide/indexing.html#returning-a-view-versus-a-copy\n",
            "  \"\"\"Entry point for launching an IPython kernel.\n",
            "/usr/local/lib/python3.7/dist-packages/pandas/core/indexing.py:1734: SettingWithCopyWarning: \n",
            "A value is trying to be set on a copy of a slice from a DataFrame.\n",
            "Try using .loc[row_indexer,col_indexer] = value instead\n",
            "\n",
            "See the caveats in the documentation: https://pandas.pydata.org/pandas-docs/stable/user_guide/indexing.html#returning-a-view-versus-a-copy\n",
            "  isetter(loc, value[:, i].tolist())\n"
          ]
        }
      ]
    },
    {
      "cell_type": "code",
      "metadata": {
        "colab": {
          "base_uri": "https://localhost:8080/"
        },
        "id": "CBbrWa0am9k8",
        "outputId": "6e4085df-6dac-42b3-d6de-963414f18029"
      },
      "source": [
        "df_m_1200_clean.drop(columns=['going','GOOD'],inplace=True)"
      ],
      "execution_count": null,
      "outputs": [
        {
          "output_type": "stream",
          "name": "stderr",
          "text": [
            "/usr/local/lib/python3.7/dist-packages/pandas/core/frame.py:4174: SettingWithCopyWarning: \n",
            "A value is trying to be set on a copy of a slice from a DataFrame\n",
            "\n",
            "See the caveats in the documentation: https://pandas.pydata.org/pandas-docs/stable/user_guide/indexing.html#returning-a-view-versus-a-copy\n",
            "  errors=errors,\n"
          ]
        }
      ]
    },
    {
      "cell_type": "code",
      "metadata": {
        "colab": {
          "base_uri": "https://localhost:8080/"
        },
        "id": "jZas69hSjOYf",
        "outputId": "b7be1a05-5cee-45a5-f778-b4dbc81799ea"
      },
      "source": [
        "df_m_1200_clean"
      ],
      "execution_count": null,
      "outputs": [
        {
          "output_type": "execute_result",
          "data": {
            "text/html": [
              "<div>\n",
              "<style scoped>\n",
              "    .dataframe tbody tr th:only-of-type {\n",
              "        vertical-align: middle;\n",
              "    }\n",
              "\n",
              "    .dataframe tbody tr th {\n",
              "        vertical-align: top;\n",
              "    }\n",
              "\n",
              "    .dataframe thead th {\n",
              "        text-align: right;\n",
              "    }\n",
              "</style>\n",
              "<table border=\"1\" class=\"dataframe\">\n",
              "  <thead>\n",
              "    <tr style=\"text-align: right;\">\n",
              "      <th></th>\n",
              "      <th>race_id</th>\n",
              "      <th>date</th>\n",
              "      <th>venue</th>\n",
              "      <th>race_no</th>\n",
              "      <th>config</th>\n",
              "      <th>surface</th>\n",
              "      <th>distance</th>\n",
              "      <th>horse_ratings</th>\n",
              "      <th>prize</th>\n",
              "      <th>race_class</th>\n",
              "      <th>sec_time1</th>\n",
              "      <th>sec_time2</th>\n",
              "      <th>sec_time3</th>\n",
              "      <th>lider_time1</th>\n",
              "      <th>lider_time2</th>\n",
              "      <th>lider_time3</th>\n",
              "      <th>place_combination1</th>\n",
              "      <th>place_combination2</th>\n",
              "      <th>place_combination3</th>\n",
              "      <th>place_dividend1</th>\n",
              "      <th>place_dividend2</th>\n",
              "      <th>place_dividend3</th>\n",
              "      <th>win_combination1</th>\n",
              "      <th>win_dividend1</th>\n",
              "      <th>horse_no</th>\n",
              "      <th>horse_id</th>\n",
              "      <th>result</th>\n",
              "      <th>won</th>\n",
              "      <th>lengths_behind</th>\n",
              "      <th>horse_age</th>\n",
              "      <th>horse_country</th>\n",
              "      <th>horse_type</th>\n",
              "      <th>horse_rating</th>\n",
              "      <th>horse_gear</th>\n",
              "      <th>declared_weight</th>\n",
              "      <th>carried_weight</th>\n",
              "      <th>draw</th>\n",
              "      <th>position_sec1</th>\n",
              "      <th>position_sec2</th>\n",
              "      <th>position_sec3</th>\n",
              "      <th>behind_sec1</th>\n",
              "      <th>behind_sec2</th>\n",
              "      <th>behind_sec3</th>\n",
              "      <th>horse_time1</th>\n",
              "      <th>horse_time2</th>\n",
              "      <th>horse_time3</th>\n",
              "      <th>finish_time</th>\n",
              "      <th>win_odds</th>\n",
              "      <th>place_odds</th>\n",
              "      <th>trainer_id</th>\n",
              "      <th>jockey_id</th>\n",
              "      <th>GOOD TO FIRM</th>\n",
              "      <th>GOOD TO YIELDING</th>\n",
              "      <th>SOFT</th>\n",
              "      <th>YIELDING</th>\n",
              "      <th>YIELDING TO SOFT</th>\n",
              "    </tr>\n",
              "  </thead>\n",
              "  <tbody>\n",
              "    <tr>\n",
              "      <th>14</th>\n",
              "      <td>1</td>\n",
              "      <td>1997-06-02</td>\n",
              "      <td>ST</td>\n",
              "      <td>2</td>\n",
              "      <td>A</td>\n",
              "      <td>0</td>\n",
              "      <td>1200</td>\n",
              "      <td>40-15</td>\n",
              "      <td>1.0</td>\n",
              "      <td>5</td>\n",
              "      <td>24.05</td>\n",
              "      <td>22.64</td>\n",
              "      <td>23.70</td>\n",
              "      <td>24.05</td>\n",
              "      <td>46.69</td>\n",
              "      <td>70.39</td>\n",
              "      <td>5</td>\n",
              "      <td>13</td>\n",
              "      <td>4.0</td>\n",
              "      <td>12.5</td>\n",
              "      <td>47.0</td>\n",
              "      <td>33.5</td>\n",
              "      <td>5</td>\n",
              "      <td>23.5</td>\n",
              "      <td>1</td>\n",
              "      <td>2397</td>\n",
              "      <td>12</td>\n",
              "      <td>0.0</td>\n",
              "      <td>10.00</td>\n",
              "      <td>3</td>\n",
              "      <td>NZ</td>\n",
              "      <td>Gelding</td>\n",
              "      <td>60</td>\n",
              "      <td>--</td>\n",
              "      <td>1078.0</td>\n",
              "      <td>128</td>\n",
              "      <td>9</td>\n",
              "      <td>11</td>\n",
              "      <td>13</td>\n",
              "      <td>12</td>\n",
              "      <td>6.00</td>\n",
              "      <td>7.75</td>\n",
              "      <td>10.00</td>\n",
              "      <td>25.01</td>\n",
              "      <td>22.92</td>\n",
              "      <td>24.05</td>\n",
              "      <td>71.98</td>\n",
              "      <td>14.0</td>\n",
              "      <td>1.0</td>\n",
              "      <td>47</td>\n",
              "      <td>149</td>\n",
              "      <td>1.0</td>\n",
              "      <td>0.0</td>\n",
              "      <td>0.0</td>\n",
              "      <td>0.0</td>\n",
              "      <td>0.0</td>\n",
              "    </tr>\n",
              "    <tr>\n",
              "      <th>15</th>\n",
              "      <td>1</td>\n",
              "      <td>1997-06-02</td>\n",
              "      <td>ST</td>\n",
              "      <td>2</td>\n",
              "      <td>A</td>\n",
              "      <td>0</td>\n",
              "      <td>1200</td>\n",
              "      <td>40-15</td>\n",
              "      <td>1.0</td>\n",
              "      <td>5</td>\n",
              "      <td>24.05</td>\n",
              "      <td>22.64</td>\n",
              "      <td>23.70</td>\n",
              "      <td>24.05</td>\n",
              "      <td>46.69</td>\n",
              "      <td>70.39</td>\n",
              "      <td>5</td>\n",
              "      <td>13</td>\n",
              "      <td>4.0</td>\n",
              "      <td>12.5</td>\n",
              "      <td>47.0</td>\n",
              "      <td>33.5</td>\n",
              "      <td>5</td>\n",
              "      <td>23.5</td>\n",
              "      <td>2</td>\n",
              "      <td>4181</td>\n",
              "      <td>10</td>\n",
              "      <td>0.0</td>\n",
              "      <td>6.75</td>\n",
              "      <td>3</td>\n",
              "      <td>NZ</td>\n",
              "      <td>Gelding</td>\n",
              "      <td>60</td>\n",
              "      <td>--</td>\n",
              "      <td>1257.0</td>\n",
              "      <td>132</td>\n",
              "      <td>8</td>\n",
              "      <td>12</td>\n",
              "      <td>11</td>\n",
              "      <td>10</td>\n",
              "      <td>6.25</td>\n",
              "      <td>7.50</td>\n",
              "      <td>6.75</td>\n",
              "      <td>25.05</td>\n",
              "      <td>22.84</td>\n",
              "      <td>23.58</td>\n",
              "      <td>71.47</td>\n",
              "      <td>28.0</td>\n",
              "      <td>1.0</td>\n",
              "      <td>98</td>\n",
              "      <td>64</td>\n",
              "      <td>1.0</td>\n",
              "      <td>0.0</td>\n",
              "      <td>0.0</td>\n",
              "      <td>0.0</td>\n",
              "      <td>0.0</td>\n",
              "    </tr>\n",
              "    <tr>\n",
              "      <th>16</th>\n",
              "      <td>1</td>\n",
              "      <td>1997-06-02</td>\n",
              "      <td>ST</td>\n",
              "      <td>2</td>\n",
              "      <td>A</td>\n",
              "      <td>0</td>\n",
              "      <td>1200</td>\n",
              "      <td>40-15</td>\n",
              "      <td>1.0</td>\n",
              "      <td>5</td>\n",
              "      <td>24.05</td>\n",
              "      <td>22.64</td>\n",
              "      <td>23.70</td>\n",
              "      <td>24.05</td>\n",
              "      <td>46.69</td>\n",
              "      <td>70.39</td>\n",
              "      <td>5</td>\n",
              "      <td>13</td>\n",
              "      <td>4.0</td>\n",
              "      <td>12.5</td>\n",
              "      <td>47.0</td>\n",
              "      <td>33.5</td>\n",
              "      <td>5</td>\n",
              "      <td>23.5</td>\n",
              "      <td>3</td>\n",
              "      <td>2814</td>\n",
              "      <td>8</td>\n",
              "      <td>0.0</td>\n",
              "      <td>3.75</td>\n",
              "      <td>3</td>\n",
              "      <td>AUS</td>\n",
              "      <td>Horse</td>\n",
              "      <td>60</td>\n",
              "      <td>--</td>\n",
              "      <td>1037.0</td>\n",
              "      <td>130</td>\n",
              "      <td>5</td>\n",
              "      <td>8</td>\n",
              "      <td>9</td>\n",
              "      <td>8</td>\n",
              "      <td>4.50</td>\n",
              "      <td>6.25</td>\n",
              "      <td>3.75</td>\n",
              "      <td>24.77</td>\n",
              "      <td>22.92</td>\n",
              "      <td>23.29</td>\n",
              "      <td>70.98</td>\n",
              "      <td>7.0</td>\n",
              "      <td>1.0</td>\n",
              "      <td>75</td>\n",
              "      <td>183</td>\n",
              "      <td>1.0</td>\n",
              "      <td>0.0</td>\n",
              "      <td>0.0</td>\n",
              "      <td>0.0</td>\n",
              "      <td>0.0</td>\n",
              "    </tr>\n",
              "    <tr>\n",
              "      <th>17</th>\n",
              "      <td>1</td>\n",
              "      <td>1997-06-02</td>\n",
              "      <td>ST</td>\n",
              "      <td>2</td>\n",
              "      <td>A</td>\n",
              "      <td>0</td>\n",
              "      <td>1200</td>\n",
              "      <td>40-15</td>\n",
              "      <td>1.0</td>\n",
              "      <td>5</td>\n",
              "      <td>24.05</td>\n",
              "      <td>22.64</td>\n",
              "      <td>23.70</td>\n",
              "      <td>24.05</td>\n",
              "      <td>46.69</td>\n",
              "      <td>70.39</td>\n",
              "      <td>5</td>\n",
              "      <td>13</td>\n",
              "      <td>4.0</td>\n",
              "      <td>12.5</td>\n",
              "      <td>47.0</td>\n",
              "      <td>33.5</td>\n",
              "      <td>5</td>\n",
              "      <td>23.5</td>\n",
              "      <td>4</td>\n",
              "      <td>905</td>\n",
              "      <td>3</td>\n",
              "      <td>0.0</td>\n",
              "      <td>2.25</td>\n",
              "      <td>3</td>\n",
              "      <td>AUS</td>\n",
              "      <td>Gelding</td>\n",
              "      <td>60</td>\n",
              "      <td>--</td>\n",
              "      <td>1168.0</td>\n",
              "      <td>126</td>\n",
              "      <td>11</td>\n",
              "      <td>14</td>\n",
              "      <td>14</td>\n",
              "      <td>3</td>\n",
              "      <td>6.75</td>\n",
              "      <td>8.00</td>\n",
              "      <td>2.25</td>\n",
              "      <td>25.13</td>\n",
              "      <td>22.84</td>\n",
              "      <td>22.75</td>\n",
              "      <td>70.72</td>\n",
              "      <td>12.0</td>\n",
              "      <td>1.0</td>\n",
              "      <td>29</td>\n",
              "      <td>18</td>\n",
              "      <td>1.0</td>\n",
              "      <td>0.0</td>\n",
              "      <td>0.0</td>\n",
              "      <td>0.0</td>\n",
              "      <td>0.0</td>\n",
              "    </tr>\n",
              "    <tr>\n",
              "      <th>18</th>\n",
              "      <td>1</td>\n",
              "      <td>1997-06-02</td>\n",
              "      <td>ST</td>\n",
              "      <td>2</td>\n",
              "      <td>A</td>\n",
              "      <td>0</td>\n",
              "      <td>1200</td>\n",
              "      <td>40-15</td>\n",
              "      <td>1.0</td>\n",
              "      <td>5</td>\n",
              "      <td>24.05</td>\n",
              "      <td>22.64</td>\n",
              "      <td>23.70</td>\n",
              "      <td>24.05</td>\n",
              "      <td>46.69</td>\n",
              "      <td>70.39</td>\n",
              "      <td>5</td>\n",
              "      <td>13</td>\n",
              "      <td>4.0</td>\n",
              "      <td>12.5</td>\n",
              "      <td>47.0</td>\n",
              "      <td>33.5</td>\n",
              "      <td>5</td>\n",
              "      <td>23.5</td>\n",
              "      <td>5</td>\n",
              "      <td>3915</td>\n",
              "      <td>1</td>\n",
              "      <td>1.0</td>\n",
              "      <td>0.00</td>\n",
              "      <td>3</td>\n",
              "      <td>AUS</td>\n",
              "      <td>Gelding</td>\n",
              "      <td>60</td>\n",
              "      <td>--</td>\n",
              "      <td>1148.0</td>\n",
              "      <td>125</td>\n",
              "      <td>10</td>\n",
              "      <td>5</td>\n",
              "      <td>4</td>\n",
              "      <td>1</td>\n",
              "      <td>3.00</td>\n",
              "      <td>4.00</td>\n",
              "      <td>1.25</td>\n",
              "      <td>24.53</td>\n",
              "      <td>22.80</td>\n",
              "      <td>23.06</td>\n",
              "      <td>70.39</td>\n",
              "      <td>2.3</td>\n",
              "      <td>1.0</td>\n",
              "      <td>118</td>\n",
              "      <td>2</td>\n",
              "      <td>1.0</td>\n",
              "      <td>0.0</td>\n",
              "      <td>0.0</td>\n",
              "      <td>0.0</td>\n",
              "      <td>0.0</td>\n",
              "    </tr>\n",
              "    <tr>\n",
              "      <th>...</th>\n",
              "      <td>...</td>\n",
              "      <td>...</td>\n",
              "      <td>...</td>\n",
              "      <td>...</td>\n",
              "      <td>...</td>\n",
              "      <td>...</td>\n",
              "      <td>...</td>\n",
              "      <td>...</td>\n",
              "      <td>...</td>\n",
              "      <td>...</td>\n",
              "      <td>...</td>\n",
              "      <td>...</td>\n",
              "      <td>...</td>\n",
              "      <td>...</td>\n",
              "      <td>...</td>\n",
              "      <td>...</td>\n",
              "      <td>...</td>\n",
              "      <td>...</td>\n",
              "      <td>...</td>\n",
              "      <td>...</td>\n",
              "      <td>...</td>\n",
              "      <td>...</td>\n",
              "      <td>...</td>\n",
              "      <td>...</td>\n",
              "      <td>...</td>\n",
              "      <td>...</td>\n",
              "      <td>...</td>\n",
              "      <td>...</td>\n",
              "      <td>...</td>\n",
              "      <td>...</td>\n",
              "      <td>...</td>\n",
              "      <td>...</td>\n",
              "      <td>...</td>\n",
              "      <td>...</td>\n",
              "      <td>...</td>\n",
              "      <td>...</td>\n",
              "      <td>...</td>\n",
              "      <td>...</td>\n",
              "      <td>...</td>\n",
              "      <td>...</td>\n",
              "      <td>...</td>\n",
              "      <td>...</td>\n",
              "      <td>...</td>\n",
              "      <td>...</td>\n",
              "      <td>...</td>\n",
              "      <td>...</td>\n",
              "      <td>...</td>\n",
              "      <td>...</td>\n",
              "      <td>...</td>\n",
              "      <td>...</td>\n",
              "      <td>...</td>\n",
              "      <td>...</td>\n",
              "      <td>...</td>\n",
              "      <td>...</td>\n",
              "      <td>...</td>\n",
              "      <td>...</td>\n",
              "    </tr>\n",
              "    <tr>\n",
              "      <th>79428</th>\n",
              "      <td>6347</td>\n",
              "      <td>2005-08-28</td>\n",
              "      <td>ST</td>\n",
              "      <td>9</td>\n",
              "      <td>A</td>\n",
              "      <td>0</td>\n",
              "      <td>1200</td>\n",
              "      <td>100-80</td>\n",
              "      <td>6347.0</td>\n",
              "      <td>2</td>\n",
              "      <td>23.65</td>\n",
              "      <td>22.54</td>\n",
              "      <td>22.97</td>\n",
              "      <td>23.65</td>\n",
              "      <td>46.19</td>\n",
              "      <td>69.16</td>\n",
              "      <td>9</td>\n",
              "      <td>6</td>\n",
              "      <td>4.0</td>\n",
              "      <td>11.0</td>\n",
              "      <td>37.0</td>\n",
              "      <td>21.5</td>\n",
              "      <td>9</td>\n",
              "      <td>16.0</td>\n",
              "      <td>10</td>\n",
              "      <td>4355</td>\n",
              "      <td>12</td>\n",
              "      <td>0.0</td>\n",
              "      <td>9.25</td>\n",
              "      <td>4</td>\n",
              "      <td>AUS</td>\n",
              "      <td>Gelding</td>\n",
              "      <td>85</td>\n",
              "      <td>B/H</td>\n",
              "      <td>1193.0</td>\n",
              "      <td>112</td>\n",
              "      <td>2</td>\n",
              "      <td>6</td>\n",
              "      <td>4</td>\n",
              "      <td>12</td>\n",
              "      <td>1.50</td>\n",
              "      <td>1.50</td>\n",
              "      <td>9.25</td>\n",
              "      <td>23.89</td>\n",
              "      <td>22.54</td>\n",
              "      <td>24.19</td>\n",
              "      <td>70.62</td>\n",
              "      <td>23.0</td>\n",
              "      <td>3147.0</td>\n",
              "      <td>73</td>\n",
              "      <td>86</td>\n",
              "      <td>0.0</td>\n",
              "      <td>0.0</td>\n",
              "      <td>0.0</td>\n",
              "      <td>0.0</td>\n",
              "      <td>0.0</td>\n",
              "    </tr>\n",
              "    <tr>\n",
              "      <th>79429</th>\n",
              "      <td>6347</td>\n",
              "      <td>2005-08-28</td>\n",
              "      <td>ST</td>\n",
              "      <td>9</td>\n",
              "      <td>A</td>\n",
              "      <td>0</td>\n",
              "      <td>1200</td>\n",
              "      <td>100-80</td>\n",
              "      <td>6347.0</td>\n",
              "      <td>2</td>\n",
              "      <td>23.65</td>\n",
              "      <td>22.54</td>\n",
              "      <td>22.97</td>\n",
              "      <td>23.65</td>\n",
              "      <td>46.19</td>\n",
              "      <td>69.16</td>\n",
              "      <td>9</td>\n",
              "      <td>6</td>\n",
              "      <td>4.0</td>\n",
              "      <td>11.0</td>\n",
              "      <td>37.0</td>\n",
              "      <td>21.5</td>\n",
              "      <td>9</td>\n",
              "      <td>16.0</td>\n",
              "      <td>11</td>\n",
              "      <td>1702</td>\n",
              "      <td>13</td>\n",
              "      <td>0.0</td>\n",
              "      <td>10.25</td>\n",
              "      <td>6</td>\n",
              "      <td>AUS</td>\n",
              "      <td>Gelding</td>\n",
              "      <td>83</td>\n",
              "      <td>V</td>\n",
              "      <td>1188.0</td>\n",
              "      <td>120</td>\n",
              "      <td>3</td>\n",
              "      <td>3</td>\n",
              "      <td>6</td>\n",
              "      <td>13</td>\n",
              "      <td>0.75</td>\n",
              "      <td>2.75</td>\n",
              "      <td>10.25</td>\n",
              "      <td>23.77</td>\n",
              "      <td>22.86</td>\n",
              "      <td>24.16</td>\n",
              "      <td>70.79</td>\n",
              "      <td>99.0</td>\n",
              "      <td>3147.0</td>\n",
              "      <td>80</td>\n",
              "      <td>17</td>\n",
              "      <td>0.0</td>\n",
              "      <td>0.0</td>\n",
              "      <td>0.0</td>\n",
              "      <td>0.0</td>\n",
              "      <td>0.0</td>\n",
              "    </tr>\n",
              "    <tr>\n",
              "      <th>79430</th>\n",
              "      <td>6347</td>\n",
              "      <td>2005-08-28</td>\n",
              "      <td>ST</td>\n",
              "      <td>9</td>\n",
              "      <td>A</td>\n",
              "      <td>0</td>\n",
              "      <td>1200</td>\n",
              "      <td>100-80</td>\n",
              "      <td>6347.0</td>\n",
              "      <td>2</td>\n",
              "      <td>23.65</td>\n",
              "      <td>22.54</td>\n",
              "      <td>22.97</td>\n",
              "      <td>23.65</td>\n",
              "      <td>46.19</td>\n",
              "      <td>69.16</td>\n",
              "      <td>9</td>\n",
              "      <td>6</td>\n",
              "      <td>4.0</td>\n",
              "      <td>11.0</td>\n",
              "      <td>37.0</td>\n",
              "      <td>21.5</td>\n",
              "      <td>9</td>\n",
              "      <td>16.0</td>\n",
              "      <td>12</td>\n",
              "      <td>2576</td>\n",
              "      <td>9</td>\n",
              "      <td>0.0</td>\n",
              "      <td>5.25</td>\n",
              "      <td>5</td>\n",
              "      <td>GB</td>\n",
              "      <td>Gelding</td>\n",
              "      <td>83</td>\n",
              "      <td>B</td>\n",
              "      <td>1103.0</td>\n",
              "      <td>118</td>\n",
              "      <td>14</td>\n",
              "      <td>2</td>\n",
              "      <td>2</td>\n",
              "      <td>9</td>\n",
              "      <td>0.15</td>\n",
              "      <td>0.50</td>\n",
              "      <td>5.25</td>\n",
              "      <td>23.65</td>\n",
              "      <td>22.62</td>\n",
              "      <td>23.72</td>\n",
              "      <td>69.99</td>\n",
              "      <td>99.0</td>\n",
              "      <td>3147.0</td>\n",
              "      <td>55</td>\n",
              "      <td>40</td>\n",
              "      <td>0.0</td>\n",
              "      <td>0.0</td>\n",
              "      <td>0.0</td>\n",
              "      <td>0.0</td>\n",
              "      <td>0.0</td>\n",
              "    </tr>\n",
              "    <tr>\n",
              "      <th>79431</th>\n",
              "      <td>6347</td>\n",
              "      <td>2005-08-28</td>\n",
              "      <td>ST</td>\n",
              "      <td>9</td>\n",
              "      <td>A</td>\n",
              "      <td>0</td>\n",
              "      <td>1200</td>\n",
              "      <td>100-80</td>\n",
              "      <td>6347.0</td>\n",
              "      <td>2</td>\n",
              "      <td>23.65</td>\n",
              "      <td>22.54</td>\n",
              "      <td>22.97</td>\n",
              "      <td>23.65</td>\n",
              "      <td>46.19</td>\n",
              "      <td>69.16</td>\n",
              "      <td>9</td>\n",
              "      <td>6</td>\n",
              "      <td>4.0</td>\n",
              "      <td>11.0</td>\n",
              "      <td>37.0</td>\n",
              "      <td>21.5</td>\n",
              "      <td>9</td>\n",
              "      <td>16.0</td>\n",
              "      <td>13</td>\n",
              "      <td>1391</td>\n",
              "      <td>14</td>\n",
              "      <td>0.0</td>\n",
              "      <td>10.75</td>\n",
              "      <td>4</td>\n",
              "      <td>AUS</td>\n",
              "      <td>Gelding</td>\n",
              "      <td>81</td>\n",
              "      <td>H/XB</td>\n",
              "      <td>1121.0</td>\n",
              "      <td>116</td>\n",
              "      <td>12</td>\n",
              "      <td>5</td>\n",
              "      <td>8</td>\n",
              "      <td>14</td>\n",
              "      <td>1.50</td>\n",
              "      <td>3.00</td>\n",
              "      <td>10.75</td>\n",
              "      <td>23.89</td>\n",
              "      <td>22.78</td>\n",
              "      <td>24.21</td>\n",
              "      <td>70.88</td>\n",
              "      <td>99.0</td>\n",
              "      <td>3147.0</td>\n",
              "      <td>47</td>\n",
              "      <td>76</td>\n",
              "      <td>0.0</td>\n",
              "      <td>0.0</td>\n",
              "      <td>0.0</td>\n",
              "      <td>0.0</td>\n",
              "      <td>0.0</td>\n",
              "    </tr>\n",
              "    <tr>\n",
              "      <th>79432</th>\n",
              "      <td>6347</td>\n",
              "      <td>2005-08-28</td>\n",
              "      <td>ST</td>\n",
              "      <td>9</td>\n",
              "      <td>A</td>\n",
              "      <td>0</td>\n",
              "      <td>1200</td>\n",
              "      <td>100-80</td>\n",
              "      <td>6347.0</td>\n",
              "      <td>2</td>\n",
              "      <td>23.65</td>\n",
              "      <td>22.54</td>\n",
              "      <td>22.97</td>\n",
              "      <td>23.65</td>\n",
              "      <td>46.19</td>\n",
              "      <td>69.16</td>\n",
              "      <td>9</td>\n",
              "      <td>6</td>\n",
              "      <td>4.0</td>\n",
              "      <td>11.0</td>\n",
              "      <td>37.0</td>\n",
              "      <td>21.5</td>\n",
              "      <td>9</td>\n",
              "      <td>16.0</td>\n",
              "      <td>14</td>\n",
              "      <td>3912</td>\n",
              "      <td>11</td>\n",
              "      <td>0.0</td>\n",
              "      <td>6.50</td>\n",
              "      <td>4</td>\n",
              "      <td>NZ</td>\n",
              "      <td>Gelding</td>\n",
              "      <td>81</td>\n",
              "      <td>--</td>\n",
              "      <td>1124.0</td>\n",
              "      <td>116</td>\n",
              "      <td>1</td>\n",
              "      <td>8</td>\n",
              "      <td>9</td>\n",
              "      <td>11</td>\n",
              "      <td>2.50</td>\n",
              "      <td>3.75</td>\n",
              "      <td>6.50</td>\n",
              "      <td>24.05</td>\n",
              "      <td>22.74</td>\n",
              "      <td>23.40</td>\n",
              "      <td>70.19</td>\n",
              "      <td>42.0</td>\n",
              "      <td>3147.0</td>\n",
              "      <td>75</td>\n",
              "      <td>175</td>\n",
              "      <td>0.0</td>\n",
              "      <td>0.0</td>\n",
              "      <td>0.0</td>\n",
              "      <td>0.0</td>\n",
              "      <td>0.0</td>\n",
              "    </tr>\n",
              "  </tbody>\n",
              "</table>\n",
              "<p>19576 rows × 56 columns</p>\n",
              "</div>"
            ],
            "text/plain": [
              "       race_id       date venue  ...  SOFT YIELDING  YIELDING TO SOFT\n",
              "14           1 1997-06-02    ST  ...   0.0      0.0               0.0\n",
              "15           1 1997-06-02    ST  ...   0.0      0.0               0.0\n",
              "16           1 1997-06-02    ST  ...   0.0      0.0               0.0\n",
              "17           1 1997-06-02    ST  ...   0.0      0.0               0.0\n",
              "18           1 1997-06-02    ST  ...   0.0      0.0               0.0\n",
              "...        ...        ...   ...  ...   ...      ...               ...\n",
              "79428     6347 2005-08-28    ST  ...   0.0      0.0               0.0\n",
              "79429     6347 2005-08-28    ST  ...   0.0      0.0               0.0\n",
              "79430     6347 2005-08-28    ST  ...   0.0      0.0               0.0\n",
              "79431     6347 2005-08-28    ST  ...   0.0      0.0               0.0\n",
              "79432     6347 2005-08-28    ST  ...   0.0      0.0               0.0\n",
              "\n",
              "[19576 rows x 56 columns]"
            ]
          },
          "metadata": {},
          "execution_count": 785
        }
      ]
    },
    {
      "cell_type": "markdown",
      "metadata": {
        "id": "Uv5HX6Jr-k5o"
      },
      "source": [
        "## Model with numeric variables\n"
      ]
    },
    {
      "cell_type": "code",
      "metadata": {
        "id": "P2nvhyMpZphU"
      },
      "source": [
        "from feature_engine import imputation as mdi\n",
        "from sklearn.linear_model import Lasso \n",
        "from sklearn.pipeline import Pipeline"
      ],
      "execution_count": null,
      "outputs": []
    },
    {
      "cell_type": "code",
      "metadata": {
        "id": "B8rmkkbP-kod"
      },
      "source": [
        "from sklearn.model_selection import train_test_split\n",
        "from sklearn.linear_model import LinearRegression\n",
        "from sklearn.metrics import r2_score\n"
      ],
      "execution_count": null,
      "outputs": []
    },
    {
      "cell_type": "code",
      "metadata": {
        "id": "DkInjFWvLKO_"
      },
      "source": [
        "cols_to_model_drop = [ 'venue','race_id','date','race_no','config','surface','distance','horse_ratings', 'race_class',\n",
        "       'horse_type','sec_time2','sec_time1','place_combination1','place_dividend1','position_sec3','behind_sec3','horse_country', \n",
        "       'horse_gear','lider_time3','trainer_id','jockey_id','horse_id','horse_time3','sec_time3']"
      ],
      "execution_count": null,
      "outputs": []
    },
    {
      "cell_type": "code",
      "metadata": {
        "id": "G1LEvNxF7vtX"
      },
      "source": [
        ""
      ],
      "execution_count": null,
      "outputs": []
    },
    {
      "cell_type": "code",
      "metadata": {
        "colab": {
          "base_uri": "https://localhost:8080/"
        },
        "id": "4fPMBCswLlUd",
        "outputId": "89d3872c-9153-4952-a869-4c491dc80374"
      },
      "source": [
        "df_m_1200_clean.drop(columns=cols_to_model_drop,inplace=True)"
      ],
      "execution_count": null,
      "outputs": [
        {
          "output_type": "stream",
          "name": "stderr",
          "text": [
            "/usr/local/lib/python3.7/dist-packages/pandas/core/frame.py:4174: SettingWithCopyWarning: \n",
            "A value is trying to be set on a copy of a slice from a DataFrame\n",
            "\n",
            "See the caveats in the documentation: https://pandas.pydata.org/pandas-docs/stable/user_guide/indexing.html#returning-a-view-versus-a-copy\n",
            "  errors=errors,\n"
          ]
        }
      ]
    },
    {
      "cell_type": "code",
      "metadata": {
        "colab": {
          "base_uri": "https://localhost:8080/"
        },
        "id": "vFJ9WazEqAtu",
        "outputId": "b92a4ef7-752c-4d9c-e040-dc9940d05a61"
      },
      "source": [
        "df_m_1200_clean.columns"
      ],
      "execution_count": null,
      "outputs": [
        {
          "output_type": "execute_result",
          "data": {
            "text/plain": [
              "Index(['prize', 'lider_time1', 'lider_time2', 'place_combination2',\n",
              "       'place_combination3', 'place_dividend2', 'place_dividend3',\n",
              "       'win_combination1', 'win_dividend1', 'horse_no', 'result', 'won',\n",
              "       'lengths_behind', 'horse_age', 'horse_rating', 'declared_weight',\n",
              "       'carried_weight', 'draw', 'position_sec1', 'position_sec2',\n",
              "       'behind_sec1', 'behind_sec2', 'horse_time1', 'horse_time2',\n",
              "       'finish_time', 'win_odds', 'place_odds', 'GOOD TO FIRM',\n",
              "       'GOOD TO YIELDING', 'SOFT', 'YIELDING', 'YIELDING TO SOFT'],\n",
              "      dtype='object')"
            ]
          },
          "metadata": {},
          "execution_count": 790
        }
      ]
    },
    {
      "cell_type": "code",
      "metadata": {
        "colab": {
          "base_uri": "https://localhost:8080/",
          "height": 467
        },
        "id": "rJhlIAqzay9W",
        "outputId": "94e4597f-06cb-4e03-ae4f-08f70b97551f"
      },
      "source": [
        "df_m_1200_clean"
      ],
      "execution_count": null,
      "outputs": [
        {
          "output_type": "execute_result",
          "data": {
            "text/html": [
              "<div>\n",
              "<style scoped>\n",
              "    .dataframe tbody tr th:only-of-type {\n",
              "        vertical-align: middle;\n",
              "    }\n",
              "\n",
              "    .dataframe tbody tr th {\n",
              "        vertical-align: top;\n",
              "    }\n",
              "\n",
              "    .dataframe thead th {\n",
              "        text-align: right;\n",
              "    }\n",
              "</style>\n",
              "<table border=\"1\" class=\"dataframe\">\n",
              "  <thead>\n",
              "    <tr style=\"text-align: right;\">\n",
              "      <th></th>\n",
              "      <th>prize</th>\n",
              "      <th>lider_time1</th>\n",
              "      <th>lider_time2</th>\n",
              "      <th>place_combination2</th>\n",
              "      <th>place_combination3</th>\n",
              "      <th>place_dividend2</th>\n",
              "      <th>place_dividend3</th>\n",
              "      <th>win_combination1</th>\n",
              "      <th>win_dividend1</th>\n",
              "      <th>horse_no</th>\n",
              "      <th>result</th>\n",
              "      <th>won</th>\n",
              "      <th>lengths_behind</th>\n",
              "      <th>horse_age</th>\n",
              "      <th>horse_rating</th>\n",
              "      <th>declared_weight</th>\n",
              "      <th>carried_weight</th>\n",
              "      <th>draw</th>\n",
              "      <th>position_sec1</th>\n",
              "      <th>position_sec2</th>\n",
              "      <th>behind_sec1</th>\n",
              "      <th>behind_sec2</th>\n",
              "      <th>horse_time1</th>\n",
              "      <th>horse_time2</th>\n",
              "      <th>finish_time</th>\n",
              "      <th>win_odds</th>\n",
              "      <th>place_odds</th>\n",
              "      <th>GOOD TO FIRM</th>\n",
              "      <th>GOOD TO YIELDING</th>\n",
              "      <th>SOFT</th>\n",
              "      <th>YIELDING</th>\n",
              "      <th>YIELDING TO SOFT</th>\n",
              "    </tr>\n",
              "  </thead>\n",
              "  <tbody>\n",
              "    <tr>\n",
              "      <th>14</th>\n",
              "      <td>1.0</td>\n",
              "      <td>24.05</td>\n",
              "      <td>46.69</td>\n",
              "      <td>13</td>\n",
              "      <td>4.0</td>\n",
              "      <td>47.0</td>\n",
              "      <td>33.5</td>\n",
              "      <td>5</td>\n",
              "      <td>23.5</td>\n",
              "      <td>1</td>\n",
              "      <td>12</td>\n",
              "      <td>0.0</td>\n",
              "      <td>10.00</td>\n",
              "      <td>3</td>\n",
              "      <td>60</td>\n",
              "      <td>1078.0</td>\n",
              "      <td>128</td>\n",
              "      <td>9</td>\n",
              "      <td>11</td>\n",
              "      <td>13</td>\n",
              "      <td>6.00</td>\n",
              "      <td>7.75</td>\n",
              "      <td>25.01</td>\n",
              "      <td>22.92</td>\n",
              "      <td>71.98</td>\n",
              "      <td>14.0</td>\n",
              "      <td>1.0</td>\n",
              "      <td>1.0</td>\n",
              "      <td>0.0</td>\n",
              "      <td>0.0</td>\n",
              "      <td>0.0</td>\n",
              "      <td>0.0</td>\n",
              "    </tr>\n",
              "    <tr>\n",
              "      <th>15</th>\n",
              "      <td>1.0</td>\n",
              "      <td>24.05</td>\n",
              "      <td>46.69</td>\n",
              "      <td>13</td>\n",
              "      <td>4.0</td>\n",
              "      <td>47.0</td>\n",
              "      <td>33.5</td>\n",
              "      <td>5</td>\n",
              "      <td>23.5</td>\n",
              "      <td>2</td>\n",
              "      <td>10</td>\n",
              "      <td>0.0</td>\n",
              "      <td>6.75</td>\n",
              "      <td>3</td>\n",
              "      <td>60</td>\n",
              "      <td>1257.0</td>\n",
              "      <td>132</td>\n",
              "      <td>8</td>\n",
              "      <td>12</td>\n",
              "      <td>11</td>\n",
              "      <td>6.25</td>\n",
              "      <td>7.50</td>\n",
              "      <td>25.05</td>\n",
              "      <td>22.84</td>\n",
              "      <td>71.47</td>\n",
              "      <td>28.0</td>\n",
              "      <td>1.0</td>\n",
              "      <td>1.0</td>\n",
              "      <td>0.0</td>\n",
              "      <td>0.0</td>\n",
              "      <td>0.0</td>\n",
              "      <td>0.0</td>\n",
              "    </tr>\n",
              "    <tr>\n",
              "      <th>16</th>\n",
              "      <td>1.0</td>\n",
              "      <td>24.05</td>\n",
              "      <td>46.69</td>\n",
              "      <td>13</td>\n",
              "      <td>4.0</td>\n",
              "      <td>47.0</td>\n",
              "      <td>33.5</td>\n",
              "      <td>5</td>\n",
              "      <td>23.5</td>\n",
              "      <td>3</td>\n",
              "      <td>8</td>\n",
              "      <td>0.0</td>\n",
              "      <td>3.75</td>\n",
              "      <td>3</td>\n",
              "      <td>60</td>\n",
              "      <td>1037.0</td>\n",
              "      <td>130</td>\n",
              "      <td>5</td>\n",
              "      <td>8</td>\n",
              "      <td>9</td>\n",
              "      <td>4.50</td>\n",
              "      <td>6.25</td>\n",
              "      <td>24.77</td>\n",
              "      <td>22.92</td>\n",
              "      <td>70.98</td>\n",
              "      <td>7.0</td>\n",
              "      <td>1.0</td>\n",
              "      <td>1.0</td>\n",
              "      <td>0.0</td>\n",
              "      <td>0.0</td>\n",
              "      <td>0.0</td>\n",
              "      <td>0.0</td>\n",
              "    </tr>\n",
              "    <tr>\n",
              "      <th>17</th>\n",
              "      <td>1.0</td>\n",
              "      <td>24.05</td>\n",
              "      <td>46.69</td>\n",
              "      <td>13</td>\n",
              "      <td>4.0</td>\n",
              "      <td>47.0</td>\n",
              "      <td>33.5</td>\n",
              "      <td>5</td>\n",
              "      <td>23.5</td>\n",
              "      <td>4</td>\n",
              "      <td>3</td>\n",
              "      <td>0.0</td>\n",
              "      <td>2.25</td>\n",
              "      <td>3</td>\n",
              "      <td>60</td>\n",
              "      <td>1168.0</td>\n",
              "      <td>126</td>\n",
              "      <td>11</td>\n",
              "      <td>14</td>\n",
              "      <td>14</td>\n",
              "      <td>6.75</td>\n",
              "      <td>8.00</td>\n",
              "      <td>25.13</td>\n",
              "      <td>22.84</td>\n",
              "      <td>70.72</td>\n",
              "      <td>12.0</td>\n",
              "      <td>1.0</td>\n",
              "      <td>1.0</td>\n",
              "      <td>0.0</td>\n",
              "      <td>0.0</td>\n",
              "      <td>0.0</td>\n",
              "      <td>0.0</td>\n",
              "    </tr>\n",
              "    <tr>\n",
              "      <th>18</th>\n",
              "      <td>1.0</td>\n",
              "      <td>24.05</td>\n",
              "      <td>46.69</td>\n",
              "      <td>13</td>\n",
              "      <td>4.0</td>\n",
              "      <td>47.0</td>\n",
              "      <td>33.5</td>\n",
              "      <td>5</td>\n",
              "      <td>23.5</td>\n",
              "      <td>5</td>\n",
              "      <td>1</td>\n",
              "      <td>1.0</td>\n",
              "      <td>0.00</td>\n",
              "      <td>3</td>\n",
              "      <td>60</td>\n",
              "      <td>1148.0</td>\n",
              "      <td>125</td>\n",
              "      <td>10</td>\n",
              "      <td>5</td>\n",
              "      <td>4</td>\n",
              "      <td>3.00</td>\n",
              "      <td>4.00</td>\n",
              "      <td>24.53</td>\n",
              "      <td>22.80</td>\n",
              "      <td>70.39</td>\n",
              "      <td>2.3</td>\n",
              "      <td>1.0</td>\n",
              "      <td>1.0</td>\n",
              "      <td>0.0</td>\n",
              "      <td>0.0</td>\n",
              "      <td>0.0</td>\n",
              "      <td>0.0</td>\n",
              "    </tr>\n",
              "    <tr>\n",
              "      <th>...</th>\n",
              "      <td>...</td>\n",
              "      <td>...</td>\n",
              "      <td>...</td>\n",
              "      <td>...</td>\n",
              "      <td>...</td>\n",
              "      <td>...</td>\n",
              "      <td>...</td>\n",
              "      <td>...</td>\n",
              "      <td>...</td>\n",
              "      <td>...</td>\n",
              "      <td>...</td>\n",
              "      <td>...</td>\n",
              "      <td>...</td>\n",
              "      <td>...</td>\n",
              "      <td>...</td>\n",
              "      <td>...</td>\n",
              "      <td>...</td>\n",
              "      <td>...</td>\n",
              "      <td>...</td>\n",
              "      <td>...</td>\n",
              "      <td>...</td>\n",
              "      <td>...</td>\n",
              "      <td>...</td>\n",
              "      <td>...</td>\n",
              "      <td>...</td>\n",
              "      <td>...</td>\n",
              "      <td>...</td>\n",
              "      <td>...</td>\n",
              "      <td>...</td>\n",
              "      <td>...</td>\n",
              "      <td>...</td>\n",
              "      <td>...</td>\n",
              "    </tr>\n",
              "    <tr>\n",
              "      <th>79428</th>\n",
              "      <td>6347.0</td>\n",
              "      <td>23.65</td>\n",
              "      <td>46.19</td>\n",
              "      <td>6</td>\n",
              "      <td>4.0</td>\n",
              "      <td>37.0</td>\n",
              "      <td>21.5</td>\n",
              "      <td>9</td>\n",
              "      <td>16.0</td>\n",
              "      <td>10</td>\n",
              "      <td>12</td>\n",
              "      <td>0.0</td>\n",
              "      <td>9.25</td>\n",
              "      <td>4</td>\n",
              "      <td>85</td>\n",
              "      <td>1193.0</td>\n",
              "      <td>112</td>\n",
              "      <td>2</td>\n",
              "      <td>6</td>\n",
              "      <td>4</td>\n",
              "      <td>1.50</td>\n",
              "      <td>1.50</td>\n",
              "      <td>23.89</td>\n",
              "      <td>22.54</td>\n",
              "      <td>70.62</td>\n",
              "      <td>23.0</td>\n",
              "      <td>3147.0</td>\n",
              "      <td>0.0</td>\n",
              "      <td>0.0</td>\n",
              "      <td>0.0</td>\n",
              "      <td>0.0</td>\n",
              "      <td>0.0</td>\n",
              "    </tr>\n",
              "    <tr>\n",
              "      <th>79429</th>\n",
              "      <td>6347.0</td>\n",
              "      <td>23.65</td>\n",
              "      <td>46.19</td>\n",
              "      <td>6</td>\n",
              "      <td>4.0</td>\n",
              "      <td>37.0</td>\n",
              "      <td>21.5</td>\n",
              "      <td>9</td>\n",
              "      <td>16.0</td>\n",
              "      <td>11</td>\n",
              "      <td>13</td>\n",
              "      <td>0.0</td>\n",
              "      <td>10.25</td>\n",
              "      <td>6</td>\n",
              "      <td>83</td>\n",
              "      <td>1188.0</td>\n",
              "      <td>120</td>\n",
              "      <td>3</td>\n",
              "      <td>3</td>\n",
              "      <td>6</td>\n",
              "      <td>0.75</td>\n",
              "      <td>2.75</td>\n",
              "      <td>23.77</td>\n",
              "      <td>22.86</td>\n",
              "      <td>70.79</td>\n",
              "      <td>99.0</td>\n",
              "      <td>3147.0</td>\n",
              "      <td>0.0</td>\n",
              "      <td>0.0</td>\n",
              "      <td>0.0</td>\n",
              "      <td>0.0</td>\n",
              "      <td>0.0</td>\n",
              "    </tr>\n",
              "    <tr>\n",
              "      <th>79430</th>\n",
              "      <td>6347.0</td>\n",
              "      <td>23.65</td>\n",
              "      <td>46.19</td>\n",
              "      <td>6</td>\n",
              "      <td>4.0</td>\n",
              "      <td>37.0</td>\n",
              "      <td>21.5</td>\n",
              "      <td>9</td>\n",
              "      <td>16.0</td>\n",
              "      <td>12</td>\n",
              "      <td>9</td>\n",
              "      <td>0.0</td>\n",
              "      <td>5.25</td>\n",
              "      <td>5</td>\n",
              "      <td>83</td>\n",
              "      <td>1103.0</td>\n",
              "      <td>118</td>\n",
              "      <td>14</td>\n",
              "      <td>2</td>\n",
              "      <td>2</td>\n",
              "      <td>0.15</td>\n",
              "      <td>0.50</td>\n",
              "      <td>23.65</td>\n",
              "      <td>22.62</td>\n",
              "      <td>69.99</td>\n",
              "      <td>99.0</td>\n",
              "      <td>3147.0</td>\n",
              "      <td>0.0</td>\n",
              "      <td>0.0</td>\n",
              "      <td>0.0</td>\n",
              "      <td>0.0</td>\n",
              "      <td>0.0</td>\n",
              "    </tr>\n",
              "    <tr>\n",
              "      <th>79431</th>\n",
              "      <td>6347.0</td>\n",
              "      <td>23.65</td>\n",
              "      <td>46.19</td>\n",
              "      <td>6</td>\n",
              "      <td>4.0</td>\n",
              "      <td>37.0</td>\n",
              "      <td>21.5</td>\n",
              "      <td>9</td>\n",
              "      <td>16.0</td>\n",
              "      <td>13</td>\n",
              "      <td>14</td>\n",
              "      <td>0.0</td>\n",
              "      <td>10.75</td>\n",
              "      <td>4</td>\n",
              "      <td>81</td>\n",
              "      <td>1121.0</td>\n",
              "      <td>116</td>\n",
              "      <td>12</td>\n",
              "      <td>5</td>\n",
              "      <td>8</td>\n",
              "      <td>1.50</td>\n",
              "      <td>3.00</td>\n",
              "      <td>23.89</td>\n",
              "      <td>22.78</td>\n",
              "      <td>70.88</td>\n",
              "      <td>99.0</td>\n",
              "      <td>3147.0</td>\n",
              "      <td>0.0</td>\n",
              "      <td>0.0</td>\n",
              "      <td>0.0</td>\n",
              "      <td>0.0</td>\n",
              "      <td>0.0</td>\n",
              "    </tr>\n",
              "    <tr>\n",
              "      <th>79432</th>\n",
              "      <td>6347.0</td>\n",
              "      <td>23.65</td>\n",
              "      <td>46.19</td>\n",
              "      <td>6</td>\n",
              "      <td>4.0</td>\n",
              "      <td>37.0</td>\n",
              "      <td>21.5</td>\n",
              "      <td>9</td>\n",
              "      <td>16.0</td>\n",
              "      <td>14</td>\n",
              "      <td>11</td>\n",
              "      <td>0.0</td>\n",
              "      <td>6.50</td>\n",
              "      <td>4</td>\n",
              "      <td>81</td>\n",
              "      <td>1124.0</td>\n",
              "      <td>116</td>\n",
              "      <td>1</td>\n",
              "      <td>8</td>\n",
              "      <td>9</td>\n",
              "      <td>2.50</td>\n",
              "      <td>3.75</td>\n",
              "      <td>24.05</td>\n",
              "      <td>22.74</td>\n",
              "      <td>70.19</td>\n",
              "      <td>42.0</td>\n",
              "      <td>3147.0</td>\n",
              "      <td>0.0</td>\n",
              "      <td>0.0</td>\n",
              "      <td>0.0</td>\n",
              "      <td>0.0</td>\n",
              "      <td>0.0</td>\n",
              "    </tr>\n",
              "  </tbody>\n",
              "</table>\n",
              "<p>19576 rows × 32 columns</p>\n",
              "</div>"
            ],
            "text/plain": [
              "        prize  lider_time1  lider_time2  ...  SOFT  YIELDING  YIELDING TO SOFT\n",
              "14        1.0        24.05        46.69  ...   0.0       0.0               0.0\n",
              "15        1.0        24.05        46.69  ...   0.0       0.0               0.0\n",
              "16        1.0        24.05        46.69  ...   0.0       0.0               0.0\n",
              "17        1.0        24.05        46.69  ...   0.0       0.0               0.0\n",
              "18        1.0        24.05        46.69  ...   0.0       0.0               0.0\n",
              "...       ...          ...          ...  ...   ...       ...               ...\n",
              "79428  6347.0        23.65        46.19  ...   0.0       0.0               0.0\n",
              "79429  6347.0        23.65        46.19  ...   0.0       0.0               0.0\n",
              "79430  6347.0        23.65        46.19  ...   0.0       0.0               0.0\n",
              "79431  6347.0        23.65        46.19  ...   0.0       0.0               0.0\n",
              "79432  6347.0        23.65        46.19  ...   0.0       0.0               0.0\n",
              "\n",
              "[19576 rows x 32 columns]"
            ]
          },
          "metadata": {},
          "execution_count": 791
        }
      ]
    },
    {
      "cell_type": "code",
      "metadata": {
        "id": "mHDa-Ay4Jt7a"
      },
      "source": [
        "X_train, X_test, y_train, y_test = train_test_split(df_m_1200_clean.drop('finish_time',axis=1),\n",
        "                                                    df_m_1200_clean['finish_time'], test_size=0.2, \n",
        "                               train_size=0.8, random_state=42)"
      ],
      "execution_count": null,
      "outputs": []
    },
    {
      "cell_type": "code",
      "metadata": {
        "colab": {
          "base_uri": "https://localhost:8080/"
        },
        "id": "B3apLGPiJt4y",
        "outputId": "324bb49e-6d9c-4a54-862d-52ab9a32cb44"
      },
      "source": [
        "X_train.shape, X_test.shape"
      ],
      "execution_count": null,
      "outputs": [
        {
          "output_type": "execute_result",
          "data": {
            "text/plain": [
              "((15660, 31), (3916, 31))"
            ]
          },
          "metadata": {},
          "execution_count": 793
        }
      ]
    },
    {
      "cell_type": "code",
      "metadata": {
        "colab": {
          "base_uri": "https://localhost:8080/"
        },
        "id": "_LktRLo3smwf",
        "outputId": "6d0c58dd-368a-4b83-b121-208e47a682f9"
      },
      "source": [
        "model = LinearRegression()\n",
        "\n",
        "model.fit(X_train, y_train)"
      ],
      "execution_count": null,
      "outputs": [
        {
          "output_type": "execute_result",
          "data": {
            "text/plain": [
              "LinearRegression(copy_X=True, fit_intercept=True, n_jobs=None, normalize=False)"
            ]
          },
          "metadata": {},
          "execution_count": 794
        }
      ]
    },
    {
      "cell_type": "code",
      "metadata": {
        "colab": {
          "base_uri": "https://localhost:8080/"
        },
        "id": "U1_k_98S0U90",
        "outputId": "3812d5b6-0c6b-4244-d706-a5cd6f75bd0b"
      },
      "source": [
        "y_pred = model.predict(X_test)\n",
        "y_pred[:15]"
      ],
      "execution_count": null,
      "outputs": [
        {
          "output_type": "execute_result",
          "data": {
            "text/plain": [
              "array([69.34630354, 69.46653291, 71.34857904, 70.01096629, 70.42666252,\n",
              "       70.91819669, 70.86158939, 71.69176831, 70.5047208 , 70.91960079,\n",
              "       71.97628205, 72.52170811, 69.35059154, 70.74696285, 71.6387507 ])"
            ]
          },
          "metadata": {},
          "execution_count": 795
        }
      ]
    },
    {
      "cell_type": "code",
      "metadata": {
        "colab": {
          "base_uri": "https://localhost:8080/"
        },
        "id": "2dT8rolR0Xfl",
        "outputId": "ebcf73ed-c435-4919-ab8d-54ce9a5149a4"
      },
      "source": [
        "r2_score(y_pred, y_test)"
      ],
      "execution_count": null,
      "outputs": [
        {
          "output_type": "execute_result",
          "data": {
            "text/plain": [
              "0.7426420815364563"
            ]
          },
          "metadata": {},
          "execution_count": 796
        }
      ]
    },
    {
      "cell_type": "code",
      "metadata": {
        "colab": {
          "base_uri": "https://localhost:8080/"
        },
        "id": "wWUZE3fHsMOu",
        "outputId": "307cf274-6d72-4bfd-ba9b-55f4bdc405e6"
      },
      "source": [
        "model.coef_"
      ],
      "execution_count": null,
      "outputs": [
        {
          "output_type": "execute_result",
          "data": {
            "text/plain": [
              "array([-2.80870415e-05, -7.61216825e-01,  9.53484380e-01, -8.94712392e-04,\n",
              "       -8.92402466e-04,  1.60261694e-04,  7.41628515e-04,  1.89765536e-03,\n",
              "        2.56141877e-04,  6.23672298e-03,  2.68607971e-02, -2.66005504e-03,\n",
              "        1.20477929e-01,  1.63786825e-02, -1.06188714e-02, -3.30676413e-04,\n",
              "        7.93191110e-03,  2.21990228e-03,  4.17465801e-02, -5.02214308e-02,\n",
              "       -1.13019188e-01,  1.31681730e-01,  3.61192139e-02,  4.36808812e-02,\n",
              "       -8.36188277e-04, -1.32221310e-05, -2.23513643e-01,  2.46789973e-01,\n",
              "        6.44020875e-01,  3.60368376e-01,  8.94169568e-01])"
            ]
          },
          "metadata": {},
          "execution_count": 797
        }
      ]
    },
    {
      "cell_type": "code",
      "metadata": {
        "colab": {
          "base_uri": "https://localhost:8080/"
        },
        "id": "yVu5pi38VDd-",
        "outputId": "9f9a0925-56c3-461c-daa7-3c2e9327fdec"
      },
      "source": [
        "y_pred = model.predict(X_train)\n",
        "y_pred[:15]"
      ],
      "execution_count": null,
      "outputs": [
        {
          "output_type": "execute_result",
          "data": {
            "text/plain": [
              "array([70.51565533, 70.95165179, 71.26727736, 71.19627164, 72.30695409,\n",
              "       70.3115953 , 70.67830548, 70.80112438, 70.81632475, 70.89102627,\n",
              "       71.1218919 , 71.18077838, 71.63603108, 69.84416098, 69.59946248])"
            ]
          },
          "metadata": {},
          "execution_count": 798
        }
      ]
    },
    {
      "cell_type": "code",
      "metadata": {
        "colab": {
          "base_uri": "https://localhost:8080/"
        },
        "id": "yt_7aQ9eVIij",
        "outputId": "c43a4606-2161-4ce0-ccb1-fda5e23dea18"
      },
      "source": [
        "r2_score(y_pred, y_train)"
      ],
      "execution_count": null,
      "outputs": [
        {
          "output_type": "execute_result",
          "data": {
            "text/plain": [
              "0.7351192804868798"
            ]
          },
          "metadata": {},
          "execution_count": 799
        }
      ]
    },
    {
      "cell_type": "markdown",
      "metadata": {
        "id": "A7q7kntj931j"
      },
      "source": [
        "### Lasso"
      ]
    },
    {
      "cell_type": "code",
      "metadata": {
        "id": "5vqjgwCv5qz7"
      },
      "source": [
        ""
      ],
      "execution_count": null,
      "outputs": []
    },
    {
      "cell_type": "code",
      "metadata": {
        "id": "44O27-d697vZ"
      },
      "source": [
        "lasso = Lasso()"
      ],
      "execution_count": null,
      "outputs": []
    },
    {
      "cell_type": "code",
      "metadata": {
        "colab": {
          "base_uri": "https://localhost:8080/"
        },
        "id": "Xs1so6Kb97lb",
        "outputId": "cfc90ecc-641e-47f7-84b1-a3f972b776c6"
      },
      "source": [
        "lasso.fit(X_train,y_train)"
      ],
      "execution_count": null,
      "outputs": [
        {
          "output_type": "execute_result",
          "data": {
            "text/plain": [
              "Lasso(alpha=1.0, copy_X=True, fit_intercept=True, max_iter=1000,\n",
              "      normalize=False, positive=False, precompute=False, random_state=None,\n",
              "      selection='cyclic', tol=0.0001, warm_start=False)"
            ]
          },
          "metadata": {},
          "execution_count": 801
        }
      ]
    },
    {
      "cell_type": "code",
      "metadata": {
        "colab": {
          "base_uri": "https://localhost:8080/"
        },
        "id": "cm3NjSMb-Ki4",
        "outputId": "05b6c5cc-c489-441f-8d5f-cae7f8481a22"
      },
      "source": [
        "lasso.coef_"
      ],
      "execution_count": null,
      "outputs": [
        {
          "output_type": "execute_result",
          "data": {
            "text/plain": [
              "array([-1.80085194e-05,  0.00000000e+00,  0.00000000e+00,  0.00000000e+00,\n",
              "       -0.00000000e+00, -0.00000000e+00, -0.00000000e+00,  0.00000000e+00,\n",
              "        3.20537063e-05, -0.00000000e+00,  0.00000000e+00, -0.00000000e+00,\n",
              "        3.15164975e-02, -0.00000000e+00, -1.11916847e-02, -7.14248131e-04,\n",
              "        0.00000000e+00,  0.00000000e+00,  0.00000000e+00,  0.00000000e+00,\n",
              "        0.00000000e+00,  0.00000000e+00,  0.00000000e+00,  0.00000000e+00,\n",
              "        3.52210171e-03, -3.79784277e-05, -0.00000000e+00,  0.00000000e+00,\n",
              "        0.00000000e+00,  0.00000000e+00,  0.00000000e+00])"
            ]
          },
          "metadata": {},
          "execution_count": 802
        }
      ]
    },
    {
      "cell_type": "code",
      "metadata": {
        "colab": {
          "base_uri": "https://localhost:8080/"
        },
        "id": "AdVFcW86boNf",
        "outputId": "ec2fd701-6afe-45b2-b341-96628ae56c4b"
      },
      "source": [
        "for i,a in enumerate(lasso.coef_):\n",
        "  if a != 0:\n",
        "    print(df_m_1200_clean.drop(columns='finish_time').columns[i])"
      ],
      "execution_count": null,
      "outputs": [
        {
          "output_type": "stream",
          "name": "stdout",
          "text": [
            "prize\n",
            "win_dividend1\n",
            "lengths_behind\n",
            "horse_rating\n",
            "declared_weight\n",
            "win_odds\n",
            "place_odds\n"
          ]
        }
      ]
    },
    {
      "cell_type": "code",
      "metadata": {
        "colab": {
          "base_uri": "https://localhost:8080/"
        },
        "id": "iO0lxPbtdlXZ",
        "outputId": "de48f355-f815-4781-989a-7d3ed50db96b"
      },
      "source": [
        "df_m_1200_clean.win_dividend1.value_counts()"
      ],
      "execution_count": null,
      "outputs": [
        {
          "output_type": "execute_result",
          "data": {
            "text/plain": [
              "29.5     205\n",
              "26.5     200\n",
              "26.0     199\n",
              "48.0     192\n",
              "29.0     185\n",
              "        ... \n",
              "250.5      8\n",
              "288.0      8\n",
              "140.5      8\n",
              "12.5       7\n",
              "215.5      5\n",
              "Name: win_dividend1, Length: 417, dtype: int64"
            ]
          },
          "metadata": {},
          "execution_count": 804
        }
      ]
    },
    {
      "cell_type": "code",
      "metadata": {
        "id": "j2NNG1dD-KgB"
      },
      "source": [
        "y_predict = lasso.predict(X_test)"
      ],
      "execution_count": null,
      "outputs": []
    },
    {
      "cell_type": "code",
      "metadata": {
        "colab": {
          "base_uri": "https://localhost:8080/"
        },
        "id": "by6XMPcv-ViZ",
        "outputId": "61931c5f-a115-4a97-c509-4eeab9c5436c"
      },
      "source": [
        "r2_score(y_test, y_predict)"
      ],
      "execution_count": null,
      "outputs": [
        {
          "output_type": "execute_result",
          "data": {
            "text/plain": [
              "0.2587411238368298"
            ]
          },
          "metadata": {},
          "execution_count": 806
        }
      ]
    },
    {
      "cell_type": "code",
      "metadata": {
        "colab": {
          "base_uri": "https://localhost:8080/"
        },
        "id": "nL0D3Vp4-hc8",
        "outputId": "2a1a1634-a515-4e15-a5e8-620860c2b0bc"
      },
      "source": [
        "lasso = Lasso(alpha=40)\n",
        "lasso.fit(X_train, y_train)\n",
        "lasso.score(X_test, y_test)"
      ],
      "execution_count": null,
      "outputs": [
        {
          "output_type": "execute_result",
          "data": {
            "text/plain": [
              "0.008431975469055386"
            ]
          },
          "metadata": {},
          "execution_count": 807
        }
      ]
    },
    {
      "cell_type": "code",
      "metadata": {
        "colab": {
          "base_uri": "https://localhost:8080/"
        },
        "id": "fnbmAzqT-qWE",
        "outputId": "38c5e23a-e145-4c80-ae1c-a5501127c4e4"
      },
      "source": [
        "lasso.coef_"
      ],
      "execution_count": null,
      "outputs": [
        {
          "output_type": "execute_result",
          "data": {
            "text/plain": [
              "array([-0.00000000e+00,  0.00000000e+00,  0.00000000e+00,  0.00000000e+00,\n",
              "       -0.00000000e+00, -0.00000000e+00, -0.00000000e+00, -0.00000000e+00,\n",
              "        0.00000000e+00,  0.00000000e+00,  0.00000000e+00, -0.00000000e+00,\n",
              "        0.00000000e+00, -0.00000000e+00, -0.00000000e+00, -0.00000000e+00,\n",
              "       -0.00000000e+00,  0.00000000e+00,  0.00000000e+00,  0.00000000e+00,\n",
              "        0.00000000e+00,  0.00000000e+00,  0.00000000e+00,  0.00000000e+00,\n",
              "        0.00000000e+00, -4.32110051e-05, -0.00000000e+00,  0.00000000e+00,\n",
              "        0.00000000e+00,  0.00000000e+00,  0.00000000e+00])"
            ]
          },
          "metadata": {},
          "execution_count": 808
        }
      ]
    },
    {
      "cell_type": "code",
      "metadata": {
        "id": "NKoUIrK0-qTL"
      },
      "source": [
        "lasso_best = Lasso()"
      ],
      "execution_count": null,
      "outputs": []
    },
    {
      "cell_type": "markdown",
      "metadata": {
        "id": "Gs-X5Bo6-vvc"
      },
      "source": [
        "#### Grid Search"
      ]
    },
    {
      "cell_type": "code",
      "metadata": {
        "id": "vPeZeRbw-qN9"
      },
      "source": [
        "cv = RepeatedKFold(n_splits=8, n_repeats=10)"
      ],
      "execution_count": null,
      "outputs": []
    },
    {
      "cell_type": "code",
      "metadata": {
        "colab": {
          "base_uri": "https://localhost:8080/"
        },
        "id": "e3uC4bYW-qKO",
        "outputId": "ab18d389-2841-45ac-8c22-5f27da5e4a62"
      },
      "source": [
        "grid = dict()\n",
        "grid['alpha'] = np.random.randint(10,100,size=50)\n",
        "grid"
      ],
      "execution_count": null,
      "outputs": [
        {
          "output_type": "execute_result",
          "data": {
            "text/plain": [
              "{'alpha': array([76, 96, 33, 40, 58, 96, 78, 58, 50, 94, 40, 35, 94, 60, 58, 44, 91,\n",
              "        86, 14, 43, 16, 79, 59, 80, 50, 70, 80, 59, 78, 33, 65, 66, 96, 24,\n",
              "        44, 83, 93, 20, 16, 16, 11, 35, 80, 46, 98, 76, 10, 78, 21, 97])}"
            ]
          },
          "metadata": {},
          "execution_count": 811
        }
      ]
    },
    {
      "cell_type": "code",
      "metadata": {
        "id": "j0oLzKdW_VKS"
      },
      "source": [
        "best_search_param = GridSearchCV(lasso_best, grid, scoring='neg_mean_absolute_error', cv=cv, n_jobs=1)"
      ],
      "execution_count": null,
      "outputs": []
    },
    {
      "cell_type": "code",
      "metadata": {
        "colab": {
          "base_uri": "https://localhost:8080/"
        },
        "id": "h9cqPIM__VHR",
        "outputId": "9528f47d-4e57-4f9b-e520-3a66b1c1a936"
      },
      "source": [
        "results = best_search_param.fit(X_train, y_train)\n",
        "\n",
        "print(f'MAE: {results.best_score_}')\n",
        "print(f'Config: {results.best_params_}')"
      ],
      "execution_count": null,
      "outputs": [
        {
          "output_type": "stream",
          "name": "stdout",
          "text": [
            "MAE: -0.6214216868404647\n",
            "Config: {'alpha': 14}\n"
          ]
        }
      ]
    },
    {
      "cell_type": "code",
      "metadata": {
        "colab": {
          "base_uri": "https://localhost:8080/"
        },
        "id": "j-EERhs7AB2j",
        "outputId": "36f2870d-950b-43fe-aeff-32ea31166d3c"
      },
      "source": [
        "lasso_best_param = Lasso(alpha=13)\n",
        "lasso_best_param.fit(X_train, y_train)\n",
        "lasso_best_param.score(X_test, y_test)"
      ],
      "execution_count": null,
      "outputs": [
        {
          "output_type": "execute_result",
          "data": {
            "text/plain": [
              "0.007820280724482487"
            ]
          },
          "metadata": {},
          "execution_count": 816
        }
      ]
    },
    {
      "cell_type": "code",
      "metadata": {
        "colab": {
          "base_uri": "https://localhost:8080/"
        },
        "id": "yeicEx5TasfZ",
        "outputId": "d8d1a455-a212-44e2-a901-5c481076a175"
      },
      "source": [
        "lasso_alpha = lasso.coef_\n",
        "lasso_alpha"
      ],
      "execution_count": null,
      "outputs": [
        {
          "output_type": "execute_result",
          "data": {
            "text/plain": [
              "array([-0.00000000e+00,  0.00000000e+00,  0.00000000e+00,  0.00000000e+00,\n",
              "       -0.00000000e+00, -0.00000000e+00, -0.00000000e+00, -0.00000000e+00,\n",
              "        0.00000000e+00,  0.00000000e+00,  0.00000000e+00, -0.00000000e+00,\n",
              "        0.00000000e+00, -0.00000000e+00, -0.00000000e+00, -0.00000000e+00,\n",
              "       -0.00000000e+00,  0.00000000e+00,  0.00000000e+00,  0.00000000e+00,\n",
              "        0.00000000e+00,  0.00000000e+00,  0.00000000e+00,  0.00000000e+00,\n",
              "        0.00000000e+00, -4.32110051e-05, -0.00000000e+00,  0.00000000e+00,\n",
              "        0.00000000e+00,  0.00000000e+00,  0.00000000e+00])"
            ]
          },
          "metadata": {},
          "execution_count": 817
        }
      ]
    },
    {
      "cell_type": "code",
      "metadata": {
        "colab": {
          "base_uri": "https://localhost:8080/"
        },
        "id": "ty3XmrVBfRfV",
        "outputId": "75fde8a6-8705-4b1c-8fdd-a3a1bd9368f8"
      },
      "source": [
        "for i,a in enumerate(lasso_alpha):\n",
        "  if a != 0:\n",
        "    print(df_m_1200_clean.drop(columns='finish_time').columns[i])"
      ],
      "execution_count": null,
      "outputs": [
        {
          "output_type": "stream",
          "name": "stdout",
          "text": [
            "place_odds\n"
          ]
        }
      ]
    },
    {
      "cell_type": "markdown",
      "metadata": {
        "id": "7H6-9sMjOCyD"
      },
      "source": [
        "### Ridge"
      ]
    },
    {
      "cell_type": "code",
      "metadata": {
        "id": "wPlkJ48hOUSl"
      },
      "source": [
        "from sklearn.linear_model import LinearRegression, Ridge, Lasso, ElasticNet"
      ],
      "execution_count": null,
      "outputs": []
    },
    {
      "cell_type": "code",
      "metadata": {
        "colab": {
          "base_uri": "https://localhost:8080/"
        },
        "id": "h_TjtcXFOFlL",
        "outputId": "fbf9104b-2825-4c9a-9e2c-0e1b43eeb57c"
      },
      "source": [
        "ridge = Ridge()\n",
        "ridge.fit(X_train, y_train)"
      ],
      "execution_count": null,
      "outputs": [
        {
          "output_type": "execute_result",
          "data": {
            "text/plain": [
              "Ridge(alpha=1.0, copy_X=True, fit_intercept=True, max_iter=None,\n",
              "      normalize=False, random_state=None, solver='auto', tol=0.001)"
            ]
          },
          "metadata": {},
          "execution_count": 344
        }
      ]
    },
    {
      "cell_type": "code",
      "metadata": {
        "colab": {
          "base_uri": "https://localhost:8080/"
        },
        "id": "UCYBnzhDAByw",
        "outputId": "b465fc2f-fd25-494b-baaf-c41d4aacaed1"
      },
      "source": [
        "ridge_20 = Ridge(alpha=20)\n",
        "ridge_20.fit(X_train, y_train)"
      ],
      "execution_count": null,
      "outputs": [
        {
          "output_type": "execute_result",
          "data": {
            "text/plain": [
              "Ridge(alpha=20, copy_X=True, fit_intercept=True, max_iter=None, normalize=False,\n",
              "      random_state=None, solver='auto', tol=0.001)"
            ]
          },
          "metadata": {},
          "execution_count": 345
        }
      ]
    },
    {
      "cell_type": "code",
      "metadata": {
        "id": "x8hgJNzPObFK"
      },
      "source": [
        "ridge_train_score = ridge.score(X_train, y_train)\n",
        "ridge_test_score = ridge.score(X_test, y_test)\n",
        "\n",
        "ridge_20_train_score = ridge_20.score(X_train, y_train)\n",
        "ridge_20_test_score = ridge_20.score(X_test, y_test)"
      ],
      "execution_count": null,
      "outputs": []
    },
    {
      "cell_type": "code",
      "metadata": {
        "colab": {
          "base_uri": "https://localhost:8080/"
        },
        "id": "s9pkY-YcOehi",
        "outputId": "6f16bec9-cc80-4390-a464-c5a028c674f7"
      },
      "source": [
        "ridge_train_score, ridge_20_train_score"
      ],
      "execution_count": null,
      "outputs": [
        {
          "output_type": "execute_result",
          "data": {
            "text/plain": [
              "(0.9999390619395238, 0.9998373320731522)"
            ]
          },
          "metadata": {},
          "execution_count": 347
        }
      ]
    },
    {
      "cell_type": "code",
      "metadata": {
        "colab": {
          "base_uri": "https://localhost:8080/"
        },
        "id": "pzrlGIQNOikC",
        "outputId": "d936a210-2e7c-45e9-87c5-4f2f2812c9a9"
      },
      "source": [
        "ridge_test_score, ridge_20_test_score"
      ],
      "execution_count": null,
      "outputs": [
        {
          "output_type": "execute_result",
          "data": {
            "text/plain": [
              "(0.9999385037103866, 0.9998334660636876)"
            ]
          },
          "metadata": {},
          "execution_count": 348
        }
      ]
    },
    {
      "cell_type": "code",
      "metadata": {
        "id": "KqUsb-UyOvXP"
      },
      "source": [
        "cv = RepeatedKFold(n_splits=3, n_repeats=10, random_state=42)"
      ],
      "execution_count": null,
      "outputs": []
    },
    {
      "cell_type": "code",
      "metadata": {
        "id": "L7ctk_f7OyFT"
      },
      "source": [
        "grid = dict()\n",
        "grid['alpha'] = np.arange(0, 10, 0.01)"
      ],
      "execution_count": null,
      "outputs": []
    },
    {
      "cell_type": "code",
      "metadata": {
        "id": "cxDJcd_VPBYK"
      },
      "source": [
        "ridge_best = Ridge()\n",
        "\n",
        "best_search_param = GridSearchCV(ridge_best, \n",
        "                                 grid, \n",
        "                                 scoring='neg_mean_absolute_error', \n",
        "                                 cv=cv, \n",
        "                                 n_jobs=-1, verbose=1)"
      ],
      "execution_count": null,
      "outputs": []
    },
    {
      "cell_type": "code",
      "metadata": {
        "colab": {
          "base_uri": "https://localhost:8080/"
        },
        "id": "IUNp2RJaPEqG",
        "outputId": "900b0ec1-8289-4b0f-cbf9-6025acad1938"
      },
      "source": [
        "results = best_search_param.fit(X_train, y_train)"
      ],
      "execution_count": null,
      "outputs": [
        {
          "output_type": "stream",
          "name": "stdout",
          "text": [
            "Fitting 30 folds for each of 1000 candidates, totalling 30000 fits\n"
          ]
        },
        {
          "output_type": "stream",
          "name": "stderr",
          "text": [
            "[Parallel(n_jobs=-1)]: Using backend LokyBackend with 2 concurrent workers.\n",
            "[Parallel(n_jobs=-1)]: Done 186 tasks      | elapsed:    3.6s\n",
            "[Parallel(n_jobs=-1)]: Done 1386 tasks      | elapsed:   15.1s\n",
            "[Parallel(n_jobs=-1)]: Done 3386 tasks      | elapsed:   34.0s\n",
            "[Parallel(n_jobs=-1)]: Done 6186 tasks      | elapsed:  1.0min\n",
            "[Parallel(n_jobs=-1)]: Done 9786 tasks      | elapsed:  1.6min\n",
            "[Parallel(n_jobs=-1)]: Done 14186 tasks      | elapsed:  2.3min\n",
            "[Parallel(n_jobs=-1)]: Done 19386 tasks      | elapsed:  3.1min\n",
            "[Parallel(n_jobs=-1)]: Done 25386 tasks      | elapsed:  4.0min\n",
            "[Parallel(n_jobs=-1)]: Done 30000 out of 30000 | elapsed:  4.8min finished\n"
          ]
        }
      ]
    },
    {
      "cell_type": "code",
      "metadata": {
        "colab": {
          "base_uri": "https://localhost:8080/"
        },
        "id": "pYEwoOITPHWE",
        "outputId": "7b5cdc8a-43ea-43c9-a106-518c8a00bb9d"
      },
      "source": [
        "results.best_params_, results.best_score_"
      ],
      "execution_count": null,
      "outputs": [
        {
          "output_type": "execute_result",
          "data": {
            "text/plain": [
              "({'alpha': 0.0}, -3.3605427253530916e-05)"
            ]
          },
          "metadata": {},
          "execution_count": 353
        }
      ]
    },
    {
      "cell_type": "code",
      "metadata": {
        "colab": {
          "base_uri": "https://localhost:8080/"
        },
        "id": "ElwV-FUPPHLY",
        "outputId": "30dc26f1-a283-4954-937e-adb5b7e2128f"
      },
      "source": [
        "best_possible_ridge = Ridge(alpha=0)\n",
        "best_possible_ridge.fit(X_train, y_train)"
      ],
      "execution_count": null,
      "outputs": [
        {
          "output_type": "execute_result",
          "data": {
            "text/plain": [
              "Ridge(alpha=0, copy_X=True, fit_intercept=True, max_iter=None, normalize=False,\n",
              "      random_state=None, solver='auto', tol=0.001)"
            ]
          },
          "metadata": {},
          "execution_count": 355
        }
      ]
    },
    {
      "cell_type": "code",
      "metadata": {
        "colab": {
          "base_uri": "https://localhost:8080/"
        },
        "id": "4wjnsXdjPTCw",
        "outputId": "899f4d9b-748c-4116-9ebc-5162d1ad0888"
      },
      "source": [
        "best_possible_ridge.score(X_test, y_test)"
      ],
      "execution_count": null,
      "outputs": [
        {
          "output_type": "execute_result",
          "data": {
            "text/plain": [
              "0.9999999983754638"
            ]
          },
          "metadata": {},
          "execution_count": 356
        }
      ]
    },
    {
      "cell_type": "markdown",
      "metadata": {
        "id": "j1xVtsAy1ufj"
      },
      "source": [
        "### Modelo con 1 variable independiente"
      ]
    },
    {
      "cell_type": "code",
      "metadata": {
        "id": "-XMd5u1a1_9K"
      },
      "source": [
        ""
      ],
      "execution_count": null,
      "outputs": []
    },
    {
      "cell_type": "code",
      "metadata": {
        "id": "aziBA_Nd2ARV"
      },
      "source": [
        ""
      ],
      "execution_count": null,
      "outputs": []
    },
    {
      "cell_type": "code",
      "metadata": {
        "id": "RAlNVp1o2AOz"
      },
      "source": [
        ""
      ],
      "execution_count": null,
      "outputs": []
    },
    {
      "cell_type": "markdown",
      "metadata": {
        "id": "XX4yvOXi4l8f"
      },
      "source": [
        "## By Venue\n"
      ]
    },
    {
      "cell_type": "code",
      "metadata": {
        "id": "eSxQSqTD2YK_"
      },
      "source": [
        "df_hv = df_m[(df_m['venue']=='HV')]"
      ],
      "execution_count": null,
      "outputs": []
    },
    {
      "cell_type": "code",
      "metadata": {
        "id": "KurtQeYL6BpB"
      },
      "source": [
        "# Happy Valley venue has only turf surface\n",
        "df_hv[df_hv['surface']==0]"
      ],
      "execution_count": null,
      "outputs": []
    },
    {
      "cell_type": "code",
      "metadata": {
        "id": "id_ladQ-5kYu"
      },
      "source": [
        "df_st = df_m[(df_m['venue']=='ST')]"
      ],
      "execution_count": null,
      "outputs": []
    },
    {
      "cell_type": "code",
      "metadata": {
        "id": "xfeUU4VhvTRT"
      },
      "source": [
        "#df_st[(df_st['distance']==1200)&(df_st['going']=='GOOD')]['time_leader3'].hist()"
      ],
      "execution_count": null,
      "outputs": []
    },
    {
      "cell_type": "code",
      "metadata": {
        "id": "D7d2UHIq2N-R"
      },
      "source": [
        "df_st[df_st['distance']==1200].groupby('going').agg({'time_leader3':'mean'})"
      ],
      "execution_count": null,
      "outputs": []
    },
    {
      "cell_type": "code",
      "metadata": {
        "id": "lfEJFAQUueUK"
      },
      "source": [
        "df_st.going.value_counts()"
      ],
      "execution_count": null,
      "outputs": []
    },
    {
      "cell_type": "markdown",
      "metadata": {
        "id": "WMXV-U377amS"
      },
      "source": [
        "### Wich surface is faster?"
      ]
    },
    {
      "cell_type": "code",
      "metadata": {
        "id": "ohy24MTV7PC1"
      },
      "source": [
        "df_st[df_st['surface']==1]"
      ],
      "execution_count": null,
      "outputs": []
    },
    {
      "cell_type": "code",
      "metadata": {
        "id": "d5gj0dO17YSL"
      },
      "source": [
        "df_st.groupby(['surface','distance']).agg({'race_id':'count'})"
      ],
      "execution_count": null,
      "outputs": []
    },
    {
      "cell_type": "code",
      "metadata": {
        "id": "xK3HiFPQ9znj"
      },
      "source": [
        "df_st.horse_type.unique()"
      ],
      "execution_count": null,
      "outputs": []
    },
    {
      "cell_type": "code",
      "metadata": {
        "id": "RBVpLapaYcvc"
      },
      "source": [
        "df_st[df_st['distance']==1200].time3_y.hist()"
      ],
      "execution_count": null,
      "outputs": []
    },
    {
      "cell_type": "code",
      "metadata": {
        "id": "xq5i6JXTT4C2"
      },
      "source": [
        "df_m.groupby('distance').agg({'race_id':'count'})"
      ],
      "execution_count": null,
      "outputs": []
    },
    {
      "cell_type": "markdown",
      "metadata": {
        "id": "ShyzP5EjUtlV"
      },
      "source": [
        "Separar por race course\n",
        "SH = Shatin\n",
        "HV = Happy Valley"
      ]
    },
    {
      "cell_type": "code",
      "metadata": {
        "id": "gidbvAV1S1nr"
      },
      "source": [
        "df_hv = df_m[df_m['venue']=='HV']\n",
        "df_st = df_m[df_m['venue']=='ST']"
      ],
      "execution_count": null,
      "outputs": []
    },
    {
      "cell_type": "code",
      "metadata": {
        "id": "e99Y38ObTGa9"
      },
      "source": [
        "df_hv.drop(columns='venue',inplace=True)"
      ],
      "execution_count": null,
      "outputs": []
    },
    {
      "cell_type": "code",
      "metadata": {
        "id": "xmqhWv8XXx5l"
      },
      "source": [
        "for i,a in enumerate(df_m['going']):\n",
        "  if a == 'SLOW':\n",
        "    df_m.iloc[i,7]='SOFT'"
      ],
      "execution_count": null,
      "outputs": []
    },
    {
      "cell_type": "code",
      "metadata": {
        "id": "B7ANs5oPVl67"
      },
      "source": [
        "df_m.going.unique()"
      ],
      "execution_count": null,
      "outputs": []
    },
    {
      "cell_type": "markdown",
      "metadata": {
        "id": "ZY2AxsN5WWwD"
      },
      "source": [
        "Firm\n",
        "Firm ground is often found in the summer during the Flat season when the racing surface is very dry. A dry surface means horses can run faster and often results in the quickest race times.\n",
        "\n",
        "Good to firm\n",
        "On the slower side of firm, but still a quick surface. Often if the ground is firm, racecourse staff will add water to the track, especially if there is no rain forecast.\n",
        "\n",
        "Good\n",
        "The most common type of ground and arguably the fairest for the majority of horses. It is easy to run on and tracks will often try to ensure good ground in order to suit a wide range of horses and attract bigger fields.\n",
        "\n",
        "Good to soft\n",
        "Often occurring in the winter months, good to soft ground is mostly good ground but which is also holding a fair bit of water.\n",
        "\n",
        "Soft\n",
        "Soft ground is common in the jumps season as the weather tends to be much wetter and the temperature is much lower. This surface is much harder for horses to run on and, as the ground is deeper and moister, horses run much slower. Some horses prefer this going and will run exclusively on ground that is soft.\n",
        "\n",
        "Heavy\n",
        "A real test of a racehorse’s stamina and only very few horses relish this type of ground. It is often very wet and hard to run on as the water soaks into the ground. Often described as a ‘bog’, with reference to how slow this surface rides.\n",
        "\n",
        "Other types of going\n",
        "Yielding\n",
        "Unique to Irish racing, yielding is equivalent to the British good to soft."
      ]
    },
    {
      "cell_type": "code",
      "metadata": {
        "id": "Cfkjo6xBV6me"
      },
      "source": [
        "anova = df_m[(df_m['distance']==1200)&(df_m['venue']=='ST')] [['race_id','horse_id','finish_time','surface']]\n",
        "anova"
      ],
      "execution_count": null,
      "outputs": []
    },
    {
      "cell_type": "code",
      "metadata": {
        "id": "ftrL4pIxNyXj"
      },
      "source": [
        "turf_id = anova[anova['surface']==0]['race_id'].unique()\n",
        "dirt_id = anova[anova['surface']==1]['race_id'].unique()\n",
        "both = list()\n",
        "for t in turf_id:\n",
        "  if t in dirt_id:\n",
        "    both.appenf(t)\n",
        "\n",
        "both"
      ],
      "execution_count": null,
      "outputs": []
    },
    {
      "cell_type": "code",
      "metadata": {
        "id": "fLTsowvgM8p9"
      },
      "source": [
        "dirt_id, turf_id"
      ],
      "execution_count": null,
      "outputs": []
    },
    {
      "cell_type": "code",
      "metadata": {
        "id": "_OkXa9yDLzDD"
      },
      "source": [
        "anova.groupby(['horse_id','surface']).agg({'finish_time':'count'})"
      ],
      "execution_count": null,
      "outputs": []
    },
    {
      "cell_type": "code",
      "metadata": {
        "id": "Zs1ddE1lKdcL"
      },
      "source": [
        "test = df_m.groupby(['venue','surface','distance']).agg({'horse_id':'count'})\n",
        "test"
      ],
      "execution_count": null,
      "outputs": []
    }
  ]
}